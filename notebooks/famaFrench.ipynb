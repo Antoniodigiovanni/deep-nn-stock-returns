{
 "cells": [
  {
   "cell_type": "code",
   "execution_count": 43,
   "metadata": {},
   "outputs": [],
   "source": [
    "import pandas as pd\n",
    "import os"
   ]
  },
  {
   "cell_type": "code",
   "execution_count": 44,
   "metadata": {},
   "outputs": [],
   "source": [
    "currentPath = os.getcwd()\n",
    "dataPath = (currentPath + '/../data/external')\n"
   ]
  },
  {
   "cell_type": "code",
   "execution_count": 45,
   "metadata": {},
   "outputs": [],
   "source": [
    "crspmret = pd.read_csv(dataPath + '/crspmret.csv')\n",
    "crspminfo = pd.read_csv(dataPath + '/crspminfo.csv')"
   ]
  },
  {
   "cell_type": "code",
   "execution_count": 46,
   "metadata": {},
   "outputs": [],
   "source": [
    "import numpy as np"
   ]
  },
  {
   "cell_type": "markdown",
   "metadata": {},
   "source": [
    "# Split stocks in size according to ... \n",
    "*(10 and 20th percentile, check R code to see what it is exactly)*"
   ]
  },
  {
   "cell_type": "code",
   "execution_count": 47,
   "metadata": {},
   "outputs": [],
   "source": [
    "# Extra from this notebook - may be needed for separate analyses\n",
    "# What is me_nyse10?\n",
    "conditions = [\n",
    "    crspminfo['me'] <= crspminfo['me_nyse10'],\n",
    "    (crspminfo['me'] >= crspminfo['me_nyse10']) & (crspminfo['me'] <= crspminfo['me_nyse20']),\n",
    "    crspminfo['me'] > crspminfo['me_nyse20']\n",
    "]\n",
    "\n",
    "choices = ['Small', 'Medium', 'Big']\n",
    "\n",
    "crspminfo['Size'] = np.select(conditions, choices, default=np.nan)"
   ]
  },
  {
   "cell_type": "code",
   "execution_count": null,
   "metadata": {},
   "outputs": [],
   "source": []
  },
  {
   "cell_type": "code",
   "execution_count": 48,
   "metadata": {},
   "outputs": [],
   "source": [
    "df = pd.read_csv(dataPath+'/signed_predictors_all_wide.csv', usecols=['permno','yyyymm','BMdec'])"
   ]
  },
  {
   "cell_type": "code",
   "execution_count": 49,
   "metadata": {},
   "outputs": [],
   "source": [
    "crsp = crspminfo.merge(crspmret, on=['permno','yyyymm']).drop('date',axis=1)"
   ]
  },
  {
   "cell_type": "code",
   "execution_count": 50,
   "metadata": {},
   "outputs": [],
   "source": [
    "crsp = crsp.merge(df, on=['permno', 'yyyymm']).dropna(subset=['BMdec'])"
   ]
  },
  {
   "cell_type": "code",
   "execution_count": 51,
   "metadata": {},
   "outputs": [],
   "source": [
    "#crsp.dropna(subset=['BMdec'], inplace=True)"
   ]
  },
  {
   "cell_type": "code",
   "execution_count": 52,
   "metadata": {},
   "outputs": [],
   "source": [
    "signaljune = crsp.loc[crsp['yyyymm']%100 == 6]"
   ]
  },
  {
   "cell_type": "code",
   "execution_count": 53,
   "metadata": {},
   "outputs": [],
   "source": [
    "temp = signaljune.loc[(signaljune['shrcd'].isin([10,11])) & (signaljune['exchcd'] == 1)]"
   ]
  },
  {
   "cell_type": "code",
   "execution_count": 54,
   "metadata": {},
   "outputs": [],
   "source": [
    "nysebreaks = temp.groupby('yyyymm')['BMdec'].apply(lambda x: x.quantile(q=[0.3,0.7])).reset_index().rename(columns={'level_1':'qlevel', 'BMdec': 'BMdec_breakpoint'})"
   ]
  },
  {
   "cell_type": "code",
   "execution_count": 55,
   "metadata": {},
   "outputs": [],
   "source": [
    "sizebreaks = temp.groupby('yyyymm')['me'].apply(lambda x: x.quantile(q=0.5)).reset_index().rename(columns={'me':'me_0.5'})"
   ]
  },
  {
   "cell_type": "code",
   "execution_count": 56,
   "metadata": {},
   "outputs": [
    {
     "data": {
      "text/html": [
       "<div>\n",
       "<style scoped>\n",
       "    .dataframe tbody tr th:only-of-type {\n",
       "        vertical-align: middle;\n",
       "    }\n",
       "\n",
       "    .dataframe tbody tr th {\n",
       "        vertical-align: top;\n",
       "    }\n",
       "\n",
       "    .dataframe thead th {\n",
       "        text-align: right;\n",
       "    }\n",
       "</style>\n",
       "<table border=\"1\" class=\"dataframe\">\n",
       "  <thead>\n",
       "    <tr style=\"text-align: right;\">\n",
       "      <th></th>\n",
       "      <th>yyyymm</th>\n",
       "      <th>me_0.5</th>\n",
       "    </tr>\n",
       "  </thead>\n",
       "  <tbody>\n",
       "    <tr>\n",
       "      <th>0</th>\n",
       "      <td>195206</td>\n",
       "      <td>7.830000e+04</td>\n",
       "    </tr>\n",
       "    <tr>\n",
       "      <th>1</th>\n",
       "      <td>195306</td>\n",
       "      <td>6.221931e+04</td>\n",
       "    </tr>\n",
       "    <tr>\n",
       "      <th>2</th>\n",
       "      <td>195406</td>\n",
       "      <td>7.643131e+04</td>\n",
       "    </tr>\n",
       "    <tr>\n",
       "      <th>3</th>\n",
       "      <td>195506</td>\n",
       "      <td>1.491342e+05</td>\n",
       "    </tr>\n",
       "    <tr>\n",
       "      <th>4</th>\n",
       "      <td>195606</td>\n",
       "      <td>1.753388e+05</td>\n",
       "    </tr>\n",
       "    <tr>\n",
       "      <th>...</th>\n",
       "      <td>...</td>\n",
       "      <td>...</td>\n",
       "    </tr>\n",
       "    <tr>\n",
       "      <th>65</th>\n",
       "      <td>201706</td>\n",
       "      <td>5.322028e+07</td>\n",
       "    </tr>\n",
       "    <tr>\n",
       "      <th>66</th>\n",
       "      <td>201806</td>\n",
       "      <td>5.690366e+07</td>\n",
       "    </tr>\n",
       "    <tr>\n",
       "      <th>67</th>\n",
       "      <td>201906</td>\n",
       "      <td>6.600689e+07</td>\n",
       "    </tr>\n",
       "    <tr>\n",
       "      <th>68</th>\n",
       "      <td>202006</td>\n",
       "      <td>5.393771e+06</td>\n",
       "    </tr>\n",
       "    <tr>\n",
       "      <th>69</th>\n",
       "      <td>202106</td>\n",
       "      <td>3.808145e+06</td>\n",
       "    </tr>\n",
       "  </tbody>\n",
       "</table>\n",
       "<p>70 rows × 2 columns</p>\n",
       "</div>"
      ],
      "text/plain": [
       "    yyyymm        me_0.5\n",
       "0   195206  7.830000e+04\n",
       "1   195306  6.221931e+04\n",
       "2   195406  7.643131e+04\n",
       "3   195506  1.491342e+05\n",
       "4   195606  1.753388e+05\n",
       "..     ...           ...\n",
       "65  201706  5.322028e+07\n",
       "66  201806  5.690366e+07\n",
       "67  201906  6.600689e+07\n",
       "68  202006  5.393771e+06\n",
       "69  202106  3.808145e+06\n",
       "\n",
       "[70 rows x 2 columns]"
      ]
     },
     "execution_count": 56,
     "metadata": {},
     "output_type": "execute_result"
    }
   ],
   "source": [
    "sizebreaks"
   ]
  },
  {
   "cell_type": "code",
   "execution_count": 57,
   "metadata": {},
   "outputs": [],
   "source": [
    "nysebreaks = nysebreaks.pivot(index='yyyymm', columns='qlevel', values='BMdec_breakpoint').rename(columns={0.3:'BMdec_0.3', 0.7:'BMdec_0.7'}).rename_axis(index='yyyymm', columns=None).reset_index()"
   ]
  },
  {
   "cell_type": "code",
   "execution_count": 58,
   "metadata": {},
   "outputs": [],
   "source": [
    "port6 = signaljune.loc[(signaljune['exchcd'].isin([1,2,3])) & (signaljune['shrcd'].isin([10,11]))]\n",
    "port6 = port6.merge(nysebreaks, on='yyyymm', how='left')\n",
    "port6 = port6.merge(sizebreaks, on='yyyymm', how='left')"
   ]
  },
  {
   "cell_type": "code",
   "execution_count": 59,
   "metadata": {},
   "outputs": [],
   "source": [
    "# Size Sort (Small and Big)\n",
    "port6['FF_size_sort'] = np.select(\n",
    "    [\n",
    "        port6['me'] <= port6['me_0.5'],\n",
    "        port6['me'] > port6['me_0.5']\n",
    "    ],\n",
    "    [\n",
    "        'S',\n",
    "        'B',\n",
    "    ]\n",
    ")"
   ]
  },
  {
   "cell_type": "code",
   "execution_count": 60,
   "metadata": {},
   "outputs": [],
   "source": [
    "# Part of the HML sort (High, Medium, Low)\n",
    "port6['BM_sort'] = np.select(\n",
    "    [\n",
    "        port6['BMdec'] <= port6['BMdec_0.3'],\n",
    "        (port6['BMdec'] > port6['BMdec_0.3']) & (port6['BMdec'] <= port6['BMdec_0.7']),\n",
    "        port6['BMdec'] > port6['BMdec_0.7']\n",
    "    ],\n",
    "    [\n",
    "        port6['FF_size_sort']+'L',\n",
    "        port6['FF_size_sort']+'M',\n",
    "        port6['FF_size_sort']+'H'\n",
    "    ]\n",
    ")"
   ]
  },
  {
   "cell_type": "code",
   "execution_count": 61,
   "metadata": {},
   "outputs": [
    {
     "data": {
      "text/html": [
       "<div>\n",
       "<style scoped>\n",
       "    .dataframe tbody tr th:only-of-type {\n",
       "        vertical-align: middle;\n",
       "    }\n",
       "\n",
       "    .dataframe tbody tr th {\n",
       "        vertical-align: top;\n",
       "    }\n",
       "\n",
       "    .dataframe thead th {\n",
       "        text-align: right;\n",
       "    }\n",
       "</style>\n",
       "<table border=\"1\" class=\"dataframe\">\n",
       "  <thead>\n",
       "    <tr style=\"text-align: right;\">\n",
       "      <th></th>\n",
       "      <th>permno</th>\n",
       "      <th>yyyymm</th>\n",
       "      <th>ret</th>\n",
       "      <th>melag</th>\n",
       "      <th>BM_sort</th>\n",
       "    </tr>\n",
       "  </thead>\n",
       "  <tbody>\n",
       "    <tr>\n",
       "      <th>0</th>\n",
       "      <td>10001</td>\n",
       "      <td>198806</td>\n",
       "      <td>-1.203884</td>\n",
       "      <td>6386.00000</td>\n",
       "      <td>SH</td>\n",
       "    </tr>\n",
       "    <tr>\n",
       "      <th>1</th>\n",
       "      <td>10001</td>\n",
       "      <td>198906</td>\n",
       "      <td>1.714286</td>\n",
       "      <td>6986.00000</td>\n",
       "      <td>SH</td>\n",
       "    </tr>\n",
       "    <tr>\n",
       "      <th>2</th>\n",
       "      <td>10001</td>\n",
       "      <td>199006</td>\n",
       "      <td>1.410256</td>\n",
       "      <td>10013.25000</td>\n",
       "      <td>SL</td>\n",
       "    </tr>\n",
       "    <tr>\n",
       "      <th>3</th>\n",
       "      <td>10001</td>\n",
       "      <td>199106</td>\n",
       "      <td>7.848101</td>\n",
       "      <td>10408.25000</td>\n",
       "      <td>SM</td>\n",
       "    </tr>\n",
       "    <tr>\n",
       "      <th>4</th>\n",
       "      <td>10001</td>\n",
       "      <td>199206</td>\n",
       "      <td>-0.770833</td>\n",
       "      <td>12900.00000</td>\n",
       "      <td>SH</td>\n",
       "    </tr>\n",
       "    <tr>\n",
       "      <th>...</th>\n",
       "      <td>...</td>\n",
       "      <td>...</td>\n",
       "      <td>...</td>\n",
       "      <td>...</td>\n",
       "      <td>...</td>\n",
       "    </tr>\n",
       "    <tr>\n",
       "      <th>2371</th>\n",
       "      <td>10279</td>\n",
       "      <td>198906</td>\n",
       "      <td>6.122449</td>\n",
       "      <td>344078.00000</td>\n",
       "      <td>SL</td>\n",
       "    </tr>\n",
       "    <tr>\n",
       "      <th>2372</th>\n",
       "      <td>10279</td>\n",
       "      <td>199006</td>\n",
       "      <td>-4.248366</td>\n",
       "      <td>544106.25000</td>\n",
       "      <td>SL</td>\n",
       "    </tr>\n",
       "    <tr>\n",
       "      <th>2373</th>\n",
       "      <td>10279</td>\n",
       "      <td>199106</td>\n",
       "      <td>-7.518797</td>\n",
       "      <td>483953.75000</td>\n",
       "      <td>SL</td>\n",
       "    </tr>\n",
       "    <tr>\n",
       "      <th>2374</th>\n",
       "      <td>10281</td>\n",
       "      <td>198906</td>\n",
       "      <td>1.639344</td>\n",
       "      <td>11332.65625</td>\n",
       "      <td>SL</td>\n",
       "    </tr>\n",
       "    <tr>\n",
       "      <th>2375</th>\n",
       "      <td>10281</td>\n",
       "      <td>199006</td>\n",
       "      <td>30.555555</td>\n",
       "      <td>30627.00000</td>\n",
       "      <td>SL</td>\n",
       "    </tr>\n",
       "  </tbody>\n",
       "</table>\n",
       "<p>2267 rows × 5 columns</p>\n",
       "</div>"
      ],
      "text/plain": [
       "      permno  yyyymm        ret         melag BM_sort\n",
       "0      10001  198806  -1.203884    6386.00000      SH\n",
       "1      10001  198906   1.714286    6986.00000      SH\n",
       "2      10001  199006   1.410256   10013.25000      SL\n",
       "3      10001  199106   7.848101   10408.25000      SM\n",
       "4      10001  199206  -0.770833   12900.00000      SH\n",
       "...      ...     ...        ...           ...     ...\n",
       "2371   10279  198906   6.122449  344078.00000      SL\n",
       "2372   10279  199006  -4.248366  544106.25000      SL\n",
       "2373   10279  199106  -7.518797  483953.75000      SL\n",
       "2374   10281  198906   1.639344   11332.65625      SL\n",
       "2375   10281  199006  30.555555   30627.00000      SL\n",
       "\n",
       "[2267 rows x 5 columns]"
      ]
     },
     "execution_count": 61,
     "metadata": {},
     "output_type": "execute_result"
    }
   ],
   "source": [
    "\n",
    "#port6ret = \n",
    "port6.loc[np.floor(port6['yyyymm']/100) >= 1963][['permno','yyyymm','ret','melag','BM_sort']]\n",
    "\n",
    "\n",
    "# Continue following the last part of the R script\n"
   ]
  },
  {
   "cell_type": "code",
   "execution_count": null,
   "metadata": {},
   "outputs": [],
   "source": []
  }
 ],
 "metadata": {
  "interpreter": {
   "hash": "b24a7fc3af2d24ab251664e0d275b58f78d4aa98cd444c3badbe61038adedf2b"
  },
  "kernelspec": {
   "display_name": "Python 3.9.12 ('thesis')",
   "language": "python",
   "name": "python3"
  },
  "language_info": {
   "codemirror_mode": {
    "name": "ipython",
    "version": 3
   },
   "file_extension": ".py",
   "mimetype": "text/x-python",
   "name": "python",
   "nbconvert_exporter": "python",
   "pygments_lexer": "ipython3",
   "version": "3.9.12"
  },
  "orig_nbformat": 4
 },
 "nbformat": 4,
 "nbformat_minor": 2
}
