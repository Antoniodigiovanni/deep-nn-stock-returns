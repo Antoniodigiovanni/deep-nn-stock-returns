{
 "cells": [
  {
   "cell_type": "code",
   "execution_count": null,
   "metadata": {},
   "outputs": [],
   "source": [
    "import sys\n",
    "from pathlib import Path\n",
    "\n",
    "# Add root folder to Python path (to import modules)\n",
    "notebook_dir = Path().absolute()\n",
    "project_root = notebook_dir.parent\n",
    "sys.path.append(str(project_root))"
   ]
  },
  {
   "cell_type": "code",
   "execution_count": null,
   "metadata": {},
   "outputs": [],
   "source": [
    "import pandas as pd\n",
    "from os import listdir\n",
    "from os.path import isfile, join\n",
    "import pandas as pd\n",
    "import torchmetrics as tm\n",
    "import numpy as np\n",
    "import torch\n",
    "import models.neural_net.metric as metric\n",
    "from src.portfolios.portfolio_new import Portfolio"
   ]
  },
  {
   "cell_type": "code",
   "execution_count": null,
   "metadata": {},
   "outputs": [],
   "source": [
    "predicted_ret_path = '../saved/final_results/predicted_returns/'\n",
    "# predicted_ret_path = '../saved/results/FinalExpandingTuning/predicted_returns/'\n",
    "predicted_ret_files = [f for f in listdir(predicted_ret_path) if isfile(join(predicted_ret_path, f))]"
   ]
  },
  {
   "cell_type": "code",
   "execution_count": null,
   "metadata": {},
   "outputs": [],
   "source": [
    "results_df = pd.read_csv('../saved/final_results/results_df.csv', index_col=0)\n",
    "# results_df.loc[results_df.trial_id == 16669034630977150]"
   ]
  },
  {
   "cell_type": "code",
   "execution_count": null,
   "metadata": {},
   "outputs": [],
   "source": [
    "pd.set_option('display.max_columns', None)\n",
    "results_df.dropna()\n",
    "#pd.reset_option('max_columns')\n"
   ]
  },
  {
   "cell_type": "code",
   "execution_count": null,
   "metadata": {},
   "outputs": [],
   "source": [
    "# Find best network\n",
    "results_df = results_df.dropna()\n",
    "best_net = results_df.loc[results_df['oosSpearman'] == results_df['oosSpearman'].max()]\n",
    "worst_net = results_df.loc[results_df['oosSpearman'] == results_df['oosSpearman'].min()]\n",
    "average_net = results_df.drop('trial_id', axis=1).mean(axis=0)"
   ]
  },
  {
   "cell_type": "code",
   "execution_count": null,
   "metadata": {},
   "outputs": [],
   "source": [
    "best_net"
   ]
  },
  {
   "cell_type": "code",
   "execution_count": null,
   "metadata": {},
   "outputs": [],
   "source": [
    "worst_net.dropna()"
   ]
  },
  {
   "cell_type": "markdown",
   "metadata": {},
   "source": [
    "# Plot portfolio returns"
   ]
  },
  {
   "cell_type": "code",
   "execution_count": null,
   "metadata": {},
   "outputs": [],
   "source": [
    "from portfolios.market_portfolio import MarketPortfolio\n",
    "base_path = '/home/ge65cuw/thesis/saved/final_results/'\n",
    "best_net_path = base_path + 'ensembleNN3.csv'\n",
    "worst_net_path = base_path + 'predicted_returns/' + str(worst_net.trial_id.values[0]) + '_predicted_returns.csv'\n",
    "benchmark_nn4_path = base_path + 'ensembleGu.csv'\n",
    "linear_path = base_path + 'linear/predicted_ret.csv'\n",
    "mkt = MarketPortfolio()"
   ]
  },
  {
   "cell_type": "code",
   "execution_count": null,
   "metadata": {},
   "outputs": [],
   "source": [
    "best = pd.read_csv(best_net_path, index_col=0)\n",
    "worst = pd.read_csv(worst_net_path, index_col=0)\n",
    "benchmark = pd.read_csv(benchmark_nn4_path, index_col=0)"
   ]
  },
  {
   "cell_type": "code",
   "execution_count": null,
   "metadata": {},
   "outputs": [],
   "source": [
    "pbest = Portfolio(best, verbose=0)\n",
    "pworst = Portfolio(worst, verbose=0)\n",
    "pbenchmark = Portfolio(benchmark, verbose=0)"
   ]
  },
  {
   "cell_type": "code",
   "execution_count": null,
   "metadata": {},
   "outputs": [],
   "source": [
    "rbest = pbest.returns[['yyyymm','l-s']].rename({'l-s': 'best'}, axis=1)\n",
    "rworst = pworst.returns[['yyyymm','l-s']].rename({'l-s': 'worst'}, axis=1)\n",
    "rbenchmark = pbenchmark.returns[['yyyymm','l-s']].rename({'l-s': 'benchmark'}, axis=1)"
   ]
  },
  {
   "cell_type": "code",
   "execution_count": null,
   "metadata": {},
   "outputs": [],
   "source": [
    "rbest"
   ]
  },
  {
   "cell_type": "code",
   "execution_count": null,
   "metadata": {},
   "outputs": [],
   "source": [
    "mkt_ret = mkt.mkt_returns\n",
    "\n",
    "portfolio = rbest.merge(rworst, on=['yyyymm'], how='left')\n",
    "portfolio = portfolio.merge(rbenchmark, on='yyyymm', how='left')\n",
    "portfolio = portfolio.merge(mkt_ret, on='yyyymm', how='left')\n",
    "cum_returns = portfolio.copy()\n",
    "cum_returns = cum_returns.loc[cum_returns.yyyymm >= 200001].copy()\n",
    "cum_returns.iloc[:,1:] = np.log(cum_returns.iloc[:,1:]/100+1).cumsum()"
   ]
  },
  {
   "cell_type": "code",
   "execution_count": null,
   "metadata": {},
   "outputs": [],
   "source": [
    "cum_returns"
   ]
  },
  {
   "cell_type": "code",
   "execution_count": null,
   "metadata": {},
   "outputs": [],
   "source": [
    "path = '/home/ge65cuw/thesis/saved/final_results/img/cum_ret_plot.png'"
   ]
  },
  {
   "cell_type": "code",
   "execution_count": null,
   "metadata": {},
   "outputs": [],
   "source": [
    "from cycler import cycler\n",
    "import datetime as dt\n",
    "import matplotlib.pyplot as plt\n",
    "\n",
    "\n",
    "# cum_returns = cum_returns.merge(mkt_ret, on=['yyyymm'], how='left')\n",
    "# cum_returns.iloc[:,-1] = (np.log(cum_returns.iloc[:,-1]/100+1).cumsum())\n",
    "\n",
    "cum_returns['date'] = cum_returns['yyyymm'].apply(lambda x: dt.datetime.strptime(str(x), '%Y%m'))\n",
    "# print('Self.cum_returns columns are:')\n",
    "# print(self.cum_returns.columns)\n",
    "linestyle_cycler = (cycler('color', ['deepskyblue','coral','magenta','royalblue', 'red','lime', 'crimson', 'cyan','springgreen','teal','gray','darkorange']) +\n",
    "                    cycler('linestyle',['-','--',':','-.',':','-','-.','--','-',':','-.','--']))\n",
    "\n",
    "\n",
    "fig = plt.figure(figsize=(15, 5))\n",
    "ax = plt.gca()\n",
    "ax.set_prop_cycle(linestyle_cycler)\n",
    "plt.plot(cum_returns['date'], cum_returns.iloc[:,1:-1]) # plt.plot(l, ret.iloc[:,1:])\n",
    "plt.ylabel('Cumulative Log returns', fontsize=14)\n",
    "plt.legend(['Best Network', 'Worst Network', 'Benchmark NN4', 'Market Return'], fontsize=12)\n",
    "plt.tight_layout()\n",
    "plt.savefig(path)\n",
    "plt.show()\n",
    "# try:\n",
    "#     plt.savefig(path)\n",
    "# except:\n",
    "#     pass\n"
   ]
  },
  {
   "cell_type": "code",
   "execution_count": null,
   "metadata": {},
   "outputs": [],
   "source": [
    "returns = best.copy()\n",
    "returns = returns.rename({'predicted_ret':'best'}, axis=1)\n",
    "returns = returns.merge(worst.drop('ret',axis=1), on=['permno','yyyymm'], how='left').rename({'predicted_ret':'worst'},axis=1)\n",
    "returns = returns.merge(benchmark.drop('ret',axis=1), on=['permno','yyyymm'], how='left').rename({'predicted_ret':'benchmark'},axis=1)"
   ]
  },
  {
   "cell_type": "code",
   "execution_count": null,
   "metadata": {},
   "outputs": [],
   "source": [
    "import data.data_preprocessing as dp\n",
    "crsp = dp.load_crsp()"
   ]
  },
  {
   "cell_type": "code",
   "execution_count": null,
   "metadata": {},
   "outputs": [],
   "source": [
    "returns"
   ]
  },
  {
   "cell_type": "code",
   "execution_count": null,
   "metadata": {},
   "outputs": [],
   "source": [
    "returns = returns.drop('ret',axis=1).merge(crsp[['permno','yyyymm','ret']], on=['permno','yyyymm'], how='left')"
   ]
  },
  {
   "cell_type": "code",
   "execution_count": null,
   "metadata": {},
   "outputs": [],
   "source": [
    "# Remove the plot frame lines. They are unnecessary chartjunk.\n",
    "# These are the \"Tableau 20\" colors as RGB.  \n",
    "tableau20 = [(31, 119, 180), (174, 199, 232), (255, 127, 14), (255, 187, 120),  \n",
    "             (44, 160, 44), (152, 223, 138), (214, 39, 40), (255, 152, 150),  \n",
    "             (148, 103, 189), (197, 176, 213), (140, 86, 75), (196, 156, 148),  \n",
    "             (227, 119, 194), (247, 182, 210), (127, 127, 127), (199, 199, 199),  \n",
    "             (188, 189, 34), (219, 219, 141), (23, 190, 207), (158, 218, 229)]  \n",
    "\n",
    "# Scale the RGB values to the [0, 1] range, which is the format matplotlib accepts.  \n",
    "for i in range(len(tableau20)):  \n",
    "    r, g, b = tableau20[i]  \n",
    "    tableau20[i] = (r / 255., g / 255., b / 255.)  \n",
    "\n",
    "# You typically want your plot to be ~1.33x wider than tall. This plot is a rare  \n",
    "# exception because of the number of lines being plotted on it.  \n",
    "# Common sizes: (10, 7.5) and (12, 9)  \n",
    "plt.figure(figsize=(8, 5.5))\n",
    "\n",
    "# Remove the plot frame lines. They are unnecessary chartjunk.  \n",
    "ax = plt.subplot(111)  \n",
    "ax.spines[\"top\"].set_visible(False)  \n",
    "ax.spines[\"bottom\"].set_visible(True)  \n",
    "ax.spines[\"right\"].set_visible(False)  \n",
    "ax.spines[\"left\"].set_visible(True)  \n",
    "\n",
    "ax.get_xaxis().tick_bottom()\n",
    "ax.get_yaxis().tick_left()\n",
    "\n",
    "\n",
    "\n",
    "# Distribution of actual returns and predicted returns\n",
    "bins = np.linspace(-20, 20, 5000)\n",
    "# bins2 = np.linspace(-20,20,10000)\n",
    "# bins = 1000\n",
    "x1 = returns['best']\n",
    "x2 = returns['worst']\n",
    "x3 = returns['benchmark']\n",
    "x4 = returns['ret']\n",
    "plt.hist(x2, bins, label='WNN', color='green')\n",
    "plt.hist(x3, bins, label='BNN', color='blue')#, edgecolor='blue')\n",
    "plt.hist(x1, bins, alpha=0.8, label='TNN', color=tableau20[3])\n",
    "plt.hist(x4, bins, alpha=0.5, label='Actual', color=tableau20[18])\n",
    "plt.ticklabel_format(style='sci', axis='y', scilimits=(0,0))\n",
    "# plt.xticks(range(-30, 30, 5), fontsize=13)\n",
    "# plt.yticks(range(0, 120000, 20000), fontsize=13)\n",
    "plt.legend(loc='upper right', fontsize=14)\n",
    "plt.xlabel(\"Monthly stock returns (%)\", fontsize=15)\n",
    "# plt.ylim(1, 1750)\n",
    "# plt.xlim(-10, 10)\n",
    "\n",
    "plt.tight_layout()\n",
    "plt.savefig('/home/ge65cuw/thesis/output.png', dpi= 400)\n",
    "plt.show()\n",
    "# bbox_inches=\"tight\" removes all the extra whitespace on the edges of your plot.\n",
    "# plt.savefig(\"Returns_distribution.png\", bbox_inches=\"tight\")\n"
   ]
  },
  {
   "cell_type": "code",
   "execution_count": null,
   "metadata": {},
   "outputs": [],
   "source": []
  }
 ],
 "metadata": {
  "kernelspec": {
   "display_name": "Python 3.10.4 ('thesis')",
   "language": "python",
   "name": "python3"
  },
  "language_info": {
   "codemirror_mode": {
    "name": "ipython",
    "version": 3
   },
   "file_extension": ".py",
   "mimetype": "text/x-python",
   "name": "python",
   "nbconvert_exporter": "python",
   "pygments_lexer": "ipython3",
   "version": "3.10.4"
  },
  "orig_nbformat": 4,
  "vscode": {
   "interpreter": {
    "hash": "b4804d781847468e0794096453e716a44bf82c4d93fcc1a726a520e37d704781"
   }
  }
 },
 "nbformat": 4,
 "nbformat_minor": 2
}
