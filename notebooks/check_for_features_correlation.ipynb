{
 "cells": [
  {
   "cell_type": "code",
   "execution_count": null,
   "metadata": {},
   "outputs": [],
   "source": [
    "import sys\n",
    "from pathlib import Path\n",
    "\n",
    "# Add root folder to Python path (to import modules)\n",
    "notebook_dir = Path().absolute()\n",
    "project_root = notebook_dir.parent\n",
    "sys.path.append(str(project_root))"
   ]
  },
  {
   "cell_type": "code",
   "execution_count": null,
   "metadata": {},
   "outputs": [],
   "source": [
    "import numpy as np\n",
    "from src.data.dataset import BaseDataset"
   ]
  },
  {
   "cell_type": "code",
   "execution_count": null,
   "metadata": {},
   "outputs": [],
   "source": [
    "dataset = BaseDataset()"
   ]
  },
  {
   "cell_type": "code",
   "execution_count": null,
   "metadata": {},
   "outputs": [],
   "source": [
    "df = dataset.df"
   ]
  },
  {
   "cell_type": "code",
   "execution_count": null,
   "metadata": {},
   "outputs": [],
   "source": [
    "import pandas as pd\n",
    "\n",
    "print(\"Correlation Matrix\")\n",
    "# print(df.corr())\n",
    "# print()\n",
    "\n",
    "def get_redundant_pairs(df):\n",
    "    '''Get diagonal and lower triangular pairs of correlation matrix'''\n",
    "    pairs_to_drop = set()\n",
    "    cols = df.columns\n",
    "    for i in range(0, df.shape[1]):\n",
    "        for j in range(0, i+1):\n",
    "            pairs_to_drop.add((cols[i], cols[j]))\n",
    "    return pairs_to_drop\n",
    "\n",
    "def get_top_abs_correlations(df, n=5):\n",
    "    au_corr = df.corr().abs().unstack()\n",
    "    labels_to_drop = get_redundant_pairs(df)\n",
    "    au_corr = au_corr.drop(labels=labels_to_drop).sort_values(kind='quick_sort', ascending=False)\n",
    "    return au_corr[0:n]\n",
    "def get_bottom_correlations(df, n=10):\n",
    "    au_corr = df.corr().unstack()\n",
    "    labels_to_drop = get_redundant_pairs(df)\n",
    "    au_corr = au_corr.drop(labels=labels_to_drop).sort_values(kind='quick_sort', ascending=True)\n",
    "    return au_corr[0:n]\n",
    "print(\"Top Absolute Correlations\")\n",
    "corr= get_top_abs_correlations(df, 10)\n",
    "print(corr)\n",
    "# print(get_top_abs_correlations(df, 3))"
   ]
  },
  {
   "cell_type": "code",
   "execution_count": null,
   "metadata": {},
   "outputs": [],
   "source": [
    "corr= get_bottom_correlations(df, 10)"
   ]
  },
  {
   "cell_type": "code",
   "execution_count": null,
   "metadata": {},
   "outputs": [],
   "source": [
    "corr_df = df.iloc[:,3:].corr()"
   ]
  },
  {
   "cell_type": "code",
   "execution_count": null,
   "metadata": {},
   "outputs": [],
   "source": [
    "import matplotlib.pyplot as plt\n",
    "\n",
    "thershold = 0.8\n",
    "np.fill_diagonal(corr_df.values, np.nan)\n",
    "ndf = corr_df.loc[np.abs(corr_df.max(axis=1)) >= thershold, np.abs(corr_df.max(axis=0) > thershold)]\n",
    "np.fill_diagonal(ndf.values, 1)\n",
    "# np.fill_diagonal(corr_df.values, 1)\n",
    "plt.figure(figsize=(12, 10))\n",
    "ax = plt.subplot(111)\n",
    "im = ax.imshow(ndf, cmap='plasma') #RdBu, viridis, plasma\n",
    "\n",
    "# Show all ticks and label them with the respective list entries\n",
    "ax.set_xticks(np.arange(len(ndf.index)), labels=ndf.index)\n",
    "ax.set_yticks(np.arange(len(ndf.index)), labels=ndf.index)\n",
    "\n",
    "# Rotate the tick labels and set their alignment.\n",
    "plt.setp(ax.get_xticklabels(), rotation=45, ha=\"right\", rotation_mode=\"anchor\")\n",
    "\n",
    "for t in ax.get_yticklabels():\n",
    "     t.set_fontsize(14)\n",
    "for t in ax.get_xticklabels():\n",
    "     t.set_fontsize(14)\n",
    "# Loop over data dimensions and create text annotations.\n",
    "# for i in range(len(corr_df.index)):\n",
    "#     for j in range(len(corr_df.index)):\n",
    "#         text = ax.text(j, i, corr_df.iloc[i, j],\n",
    "#                        ha=\"center\", va=\"center\", color=\"w\")\n",
    "plt.colorbar(im)\n",
    "# ax.set_title(\"Features correlation\")\n",
    "plt.tight_layout()\n",
    "plt.savefig('../figs/feature_corr.png')\n",
    "plt.show()\n"
   ]
  }
 ],
 "metadata": {
  "kernelspec": {
   "display_name": "Python 3.10.4 ('thesis')",
   "language": "python",
   "name": "python3"
  },
  "language_info": {
   "codemirror_mode": {
    "name": "ipython",
    "version": 3
   },
   "file_extension": ".py",
   "mimetype": "text/x-python",
   "name": "python",
   "nbconvert_exporter": "python",
   "pygments_lexer": "ipython3",
   "version": "3.10.4"
  },
  "orig_nbformat": 4,
  "vscode": {
   "interpreter": {
    "hash": "b4804d781847468e0794096453e716a44bf82c4d93fcc1a726a520e37d704781"
   }
  }
 },
 "nbformat": 4,
 "nbformat_minor": 2
}
