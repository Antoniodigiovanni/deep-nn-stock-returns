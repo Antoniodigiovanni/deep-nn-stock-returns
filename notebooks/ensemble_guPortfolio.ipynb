{
 "cells": [
  {
   "cell_type": "code",
   "execution_count": null,
   "metadata": {},
   "outputs": [],
   "source": [
    "import sys\n",
    "from pathlib import Path\n",
    "\n",
    "# Add root folder to Python path (to import modules)\n",
    "notebook_dir = Path().absolute()\n",
    "project_root = notebook_dir.parent\n",
    "sys.path.append(str(project_root))"
   ]
  },
  {
   "cell_type": "code",
   "execution_count": null,
   "metadata": {},
   "outputs": [],
   "source": [
    "from os import listdir\n",
    "from os.path import isfile, join\n",
    "import pandas as pd\n",
    "import torchmetrics as tm\n",
    "import torch\n",
    "import json\n",
    "import matplotlib.pyplot as plt\n",
    "import numpy as np\n",
    "import seaborn as sns\n",
    "import sys,os\n",
    "\n",
    "from src.portfolios.portfolio_new import Portfolio"
   ]
  },
  {
   "cell_type": "code",
   "execution_count": null,
   "metadata": {},
   "outputs": [],
   "source": [
    "resultsPath = '../saved/results_old/'"
   ]
  },
  {
   "cell_type": "code",
   "execution_count": null,
   "metadata": {},
   "outputs": [],
   "source": [
    "GuEnsemblePath = resultsPath + 'GuEnsemble/'\n",
    "predicted_ret_path = GuEnsemblePath + 'predicted_returns/'\n",
    "trial_info_path = GuEnsemblePath + 'trial_info/'"
   ]
  },
  {
   "cell_type": "code",
   "execution_count": null,
   "metadata": {},
   "outputs": [],
   "source": [
    "predicted_ret_files = [f for f in listdir(predicted_ret_path) if isfile(join(predicted_ret_path, f))]\n",
    "trial_info_files = [f for f in listdir(trial_info_path) if isfile(join(trial_info_path, f))]"
   ]
  },
  {
   "cell_type": "code",
   "execution_count": null,
   "metadata": {},
   "outputs": [],
   "source": [
    "df = pd.read_csv(predicted_ret_path + '/' + predicted_ret_files[0], index_col=0)\n",
    "import models.neural_net.metric as metric\n",
    "import data.data_preprocessing as dp\n",
    "\n",
    "print(f'R2 with predicted_ret file: {metric.calc_r2(df)}')\n",
    "crsp = dp.load_crsp()\n",
    "df.drop('ret', axis=1, inplace=True)\n",
    "df.merge(crsp[['permno','yyyymm','ret']], on=['permno','yyyymm'], how='left')\n",
    "metric.calc_r2(df)"
   ]
  },
  {
   "cell_type": "code",
   "execution_count": null,
   "metadata": {},
   "outputs": [],
   "source": [
    "returns = pd.DataFrame()\n",
    "\n",
    "for idx, file in enumerate(predicted_ret_files):\n",
    "    df = pd.read_csv(predicted_ret_path + '/' + file, index_col=0)\n",
    "    df = df.rename({'predicted_ret': 'predicted_ret_'+str(idx)}, axis=1)\n",
    "    if idx == 0:\n",
    "        # returns = returns.reindex(columns=df.columns.tolist())\n",
    "        returns = pd.concat([returns, df], axis=1)\n",
    "\n",
    "    else:\n",
    "        returns = pd.concat([returns, df.iloc[:,-1]], axis=1)"
   ]
  },
  {
   "cell_type": "code",
   "execution_count": null,
   "metadata": {},
   "outputs": [],
   "source": [
    "returns['predicted_ret'] = returns.iloc[:,3:].mean(axis=1)"
   ]
  },
  {
   "cell_type": "code",
   "execution_count": null,
   "metadata": {},
   "outputs": [],
   "source": [
    "returns = returns[['permno','yyyymm','ret', 'predicted_ret']]"
   ]
  },
  {
   "cell_type": "code",
   "execution_count": null,
   "metadata": {},
   "outputs": [],
   "source": [
    "import torchmetrics\n",
    "import torch\n",
    "\n",
    "spear = torchmetrics.SpearmanCorrCoef()\n",
    "spearman = spear(torch.tensor(returns['ret']),torch.tensor(returns['predicted_ret']))"
   ]
  },
  {
   "cell_type": "code",
   "execution_count": null,
   "metadata": {},
   "outputs": [],
   "source": [
    "print(f'Spearman correlation coefficient: {spearman.item():.4f}')"
   ]
  },
  {
   "cell_type": "code",
   "execution_count": null,
   "metadata": {},
   "outputs": [],
   "source": [
    "# Remove the plot frame lines. They are unnecessary chartjunk.\n",
    "# These are the \"Tableau 20\" colors as RGB.  \n",
    "tableau20 = [(31, 119, 180), (174, 199, 232), (255, 127, 14), (255, 187, 120),  \n",
    "             (44, 160, 44), (152, 223, 138), (214, 39, 40), (255, 152, 150),  \n",
    "             (148, 103, 189), (197, 176, 213), (140, 86, 75), (196, 156, 148),  \n",
    "             (227, 119, 194), (247, 182, 210), (127, 127, 127), (199, 199, 199),  \n",
    "             (188, 189, 34), (219, 219, 141), (23, 190, 207), (158, 218, 229)]  \n",
    "\n",
    "# Scale the RGB values to the [0, 1] range, which is the format matplotlib accepts.  \n",
    "for i in range(len(tableau20)):  \n",
    "    r, g, b = tableau20[i]  \n",
    "    tableau20[i] = (r / 255., g / 255., b / 255.)  \n",
    "\n",
    "# You typically want your plot to be ~1.33x wider than tall. This plot is a rare  \n",
    "# exception because of the number of lines being plotted on it.  \n",
    "# Common sizes: (10, 7.5) and (12, 9)  \n",
    "plt.figure(figsize=(8, 5.5))\n",
    "\n",
    "# Remove the plot frame lines. They are unnecessary chartjunk.  \n",
    "ax = plt.subplot(111)  \n",
    "ax.spines[\"top\"].set_visible(False)  \n",
    "ax.spines[\"bottom\"].set_visible(True)  \n",
    "ax.spines[\"right\"].set_visible(False)  \n",
    "ax.spines[\"left\"].set_visible(True)  \n",
    "\n",
    "ax.get_xaxis().tick_bottom()\n",
    "ax.get_yaxis().tick_left()\n",
    "\n",
    "plt.title(\"Stock returns distribution (actual and forecasted)\\n\", fontsize=22)\n",
    "\n",
    "\n",
    "# Distribution of actual returns and predicted returns\n",
    "bins = np.linspace(-30, 30, 100)\n",
    "x1 = returns['predicted_ret']\n",
    "x2 = returns['ret']\n",
    "plt.hist(x1, bins, alpha=0.5, label='NN4', color=tableau20[3])\n",
    "plt.hist(x2, bins, alpha=0.5, label='Actual', color=tableau20[5])\n",
    "plt.ticklabel_format(style='sci', axis='y', scilimits=(0,0))\n",
    "plt.xticks(range(-30, 30, 5), fontsize=13)\n",
    "plt.yticks(range(0, 120000, 20000), fontsize=13)\n",
    "plt.legend(loc='upper right', fontsize=14)\n",
    "plt.xlabel(\"Monthly stock returns (%)\", fontsize=15)\n",
    "plt.ylim(1, 90000)\n",
    "\n",
    "plt.tight_layout()\n",
    "plt.show()\n",
    "\n",
    "# bbox_inches=\"tight\" removes all the extra whitespace on the edges of your plot.\n",
    "# plt.savefig(\"Returns_distribution.png\", bbox_inches=\"tight\")\n"
   ]
  },
  {
   "cell_type": "markdown",
   "metadata": {},
   "source": [
    "# Portfolio calculation"
   ]
  },
  {
   "cell_type": "code",
   "execution_count": null,
   "metadata": {},
   "outputs": [],
   "source": [
    "portfolioVW = Portfolio(returns, weighting='VW')\n",
    "# portfolioEW = Portfolio(returns, weighting='EW')"
   ]
  },
  {
   "cell_type": "code",
   "execution_count": null,
   "metadata": {},
   "outputs": [],
   "source": [
    "pret = portfolioVW.returns"
   ]
  },
  {
   "cell_type": "code",
   "execution_count": null,
   "metadata": {},
   "outputs": [],
   "source": [
    "from portfolios.market_portfolio import MarketPortfolio\n",
    "mp = MarketPortfolio()"
   ]
  },
  {
   "cell_type": "code",
   "execution_count": null,
   "metadata": {},
   "outputs": [],
   "source": [
    "mkt = mp.mkt_returns\n",
    "pret = pret.merge(mkt, on='yyyymm', how='left')"
   ]
  },
  {
   "cell_type": "code",
   "execution_count": null,
   "metadata": {},
   "outputs": [],
   "source": []
  },
  {
   "cell_type": "code",
   "execution_count": null,
   "metadata": {},
   "outputs": [],
   "source": [
    "T = pret.count()[1]\n",
    "alpha_market_long = ((((pret.iloc[:,-3] - pret.iloc[:,-1])/100+1)**(12/T)).prod())-1\n",
    "alpha_market_long_short = ((((pret.iloc[:,-2] - pret.iloc[:,-1])/100+1)**(12/T)).prod())-1\n",
    "        "
   ]
  },
  {
   "cell_type": "code",
   "execution_count": null,
   "metadata": {},
   "outputs": [],
   "source": [
    "(((pret.iloc[:,-2] - pret.iloc[:,-1])/100+1)**(12/T)).prod()"
   ]
  },
  {
   "cell_type": "code",
   "execution_count": null,
   "metadata": {},
   "outputs": [],
   "source": [
    "alpha_market_long_short"
   ]
  },
  {
   "cell_type": "code",
   "execution_count": null,
   "metadata": {},
   "outputs": [],
   "source": [
    "portfolioVW.plot_cumulative_returns(path=None)"
   ]
  },
  {
   "cell_type": "code",
   "execution_count": null,
   "metadata": {},
   "outputs": [],
   "source": [
    "portfolioVW.regress_on_FF5FM(method='long')"
   ]
  },
  {
   "cell_type": "code",
   "execution_count": null,
   "metadata": {},
   "outputs": [],
   "source": [
    "portfolioVW._calculate_metrics()"
   ]
  }
 ],
 "metadata": {
  "kernelspec": {
   "display_name": "Python 3.10.4 ('thesis')",
   "language": "python",
   "name": "python3"
  },
  "language_info": {
   "codemirror_mode": {
    "name": "ipython",
    "version": 3
   },
   "file_extension": ".py",
   "mimetype": "text/x-python",
   "name": "python",
   "nbconvert_exporter": "python",
   "pygments_lexer": "ipython3",
   "version": "3.10.4"
  },
  "orig_nbformat": 4,
  "vscode": {
   "interpreter": {
    "hash": "b4804d781847468e0794096453e716a44bf82c4d93fcc1a726a520e37d704781"
   }
  }
 },
 "nbformat": 4,
 "nbformat_minor": 2
}
