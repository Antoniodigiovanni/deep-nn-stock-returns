{
 "cells": [
  {
   "cell_type": "code",
   "execution_count": 11,
   "metadata": {},
   "outputs": [
    {
     "ename": "AttributeError",
     "evalue": "module 'datetime' has no attribute 'now'",
     "output_type": "error",
     "traceback": [
      "\u001b[0;31m---------------------------------------------------------------------------\u001b[0m",
      "\u001b[0;31mAttributeError\u001b[0m                            Traceback (most recent call last)",
      "\u001b[1;32m/home/antonio/thesis/notebooks/autoPytorch_example.ipynb Cell 1'\u001b[0m in \u001b[0;36m<cell line: 3>\u001b[0;34m()\u001b[0m\n\u001b[1;32m      <a href='vscode-notebook-cell://wsl%2Bubuntu/home/antonio/thesis/notebooks/autoPytorch_example.ipynb#ch0000008vscode-remote?line=0'>1</a>\u001b[0m \u001b[39mimport\u001b[39;00m \u001b[39mdatetime\u001b[39;00m\n\u001b[0;32m----> <a href='vscode-notebook-cell://wsl%2Bubuntu/home/antonio/thesis/notebooks/autoPytorch_example.ipynb#ch0000008vscode-remote?line=2'>3</a>\u001b[0m fileName \u001b[39m=\u001b[39m datetime\u001b[39m.\u001b[39;49mnow()\u001b[39m.\u001b[39mstrftime(\u001b[39m'\u001b[39m\u001b[39mTrainRun-\u001b[39m\u001b[39m%\u001b[39m\u001b[39mY_\u001b[39m\u001b[39m%\u001b[39m\u001b[39mm_\u001b[39m\u001b[39m%d\u001b[39;00m\u001b[39m-\u001b[39m\u001b[39m%\u001b[39m\u001b[39mH_\u001b[39m\u001b[39m%\u001b[39m\u001b[39mM.log\u001b[39m\u001b[39m'\u001b[39m)\n\u001b[1;32m      <a href='vscode-notebook-cell://wsl%2Bubuntu/home/antonio/thesis/notebooks/autoPytorch_example.ipynb#ch0000008vscode-remote?line=3'>4</a>\u001b[0m fileName\n",
      "\u001b[0;31mAttributeError\u001b[0m: module 'datetime' has no attribute 'now'"
     ]
    }
   ],
   "source": [
    "import datetime\n",
    "\n",
    "fileName = datetime.now().strftime('TrainRun-%Y_%m_%d-%H_%M.log')\n",
    "fileName"
   ]
  },
  {
   "cell_type": "code",
   "execution_count": 1,
   "metadata": {},
   "outputs": [],
   "source": [
    "\"\"\"\n",
    "======================\n",
    "Tabular Regression\n",
    "======================\n",
    "\n",
    "The following example shows how to fit a sample regression model\n",
    "with AutoPyTorch\n",
    "\"\"\"\n",
    "import os\n",
    "import tempfile as tmp\n",
    "import warnings\n",
    "\n",
    "import sklearn.datasets\n",
    "import sklearn.model_selection"
   ]
  },
  {
   "cell_type": "code",
   "execution_count": 2,
   "metadata": {},
   "outputs": [],
   "source": [
    "os.environ['JOBLIB_TEMP_FOLDER'] = tmp.gettempdir()\n",
    "os.environ['OMP_NUM_THREADS'] = '1'\n",
    "os.environ['OPENBLAS_NUM_THREADS'] = '1'\n",
    "os.environ['MKL_NUM_THREADS'] = '1'\n",
    "\n",
    "warnings.simplefilter(action='ignore', category=UserWarning)\n",
    "warnings.simplefilter(action='ignore', category=FutureWarning)\n",
    "\n",
    "from autoPyTorch.api.tabular_regression import TabularRegressionTask\n"
   ]
  },
  {
   "cell_type": "code",
   "execution_count": 3,
   "metadata": {},
   "outputs": [],
   "source": [
    "############################################################################\n",
    "# Data Loading\n",
    "# ============\n",
    "X, y = sklearn.datasets.fetch_openml(name='boston', return_X_y=True, as_frame=True)\n",
    "X_train, X_test, y_train, y_test = sklearn.model_selection.train_test_split(\n",
    "    X,\n",
    "    y,\n",
    "    random_state=1,\n",
    ")"
   ]
  },
  {
   "cell_type": "code",
   "execution_count": 8,
   "metadata": {},
   "outputs": [],
   "source": [
    "############################################################################\n",
    "# Build and fit a regressor\n",
    "# ==========================\n",
    "api = TabularRegressionTask()"
   ]
  },
  {
   "cell_type": "code",
   "execution_count": 11,
   "metadata": {},
   "outputs": [
    {
     "data": {
      "text/plain": [
       "<autoPyTorch.api.tabular_regression.TabularRegressionTask at 0x7fba8f9a3730>"
      ]
     },
     "execution_count": 11,
     "metadata": {},
     "output_type": "execute_result"
    }
   ],
   "source": []
  },
  {
   "cell_type": "code",
   "execution_count": 9,
   "metadata": {},
   "outputs": [
    {
     "data": {
      "text/plain": [
       "<autoPyTorch.api.tabular_regression.TabularRegressionTask at 0x7fba8f9a3730>"
      ]
     },
     "execution_count": 9,
     "metadata": {},
     "output_type": "execute_result"
    }
   ],
   "source": [
    "############################################################################\n",
    "# Search for an ensemble of machine learning algorithms\n",
    "# =====================================================\n",
    "api.search(\n",
    "    X_train=X_train,\n",
    "    y_train=y_train,\n",
    "    X_test=X_test.copy(),\n",
    "    y_test=y_test.copy(),\n",
    "    optimize_metric='r2',\n",
    "    total_walltime_limit=300,\n",
    "    func_eval_time_limit_secs=50,\n",
    ")"
   ]
  },
  {
   "cell_type": "code",
   "execution_count": 12,
   "metadata": {},
   "outputs": [
    {
     "name": "stdout",
     "output_type": "stream",
     "text": [
      "{'r2': 0.9445248186059718}\n",
      "|    | Preprocessing                                                     | Estimator                                                       |   Weight |\n",
      "|---:|:------------------------------------------------------------------|:----------------------------------------------------------------|---------:|\n",
      "|  0 | SimpleImputer,OneHotEncoder,StandardScaler,NoFeaturePreprocessing | no embedding,ShapedMLPBackbone,FullyConnectedHead,nn.Sequential |     0.44 |\n",
      "|  1 | None                                                              | CBLearner                                                       |     0.42 |\n",
      "|  2 | None                                                              | LGBMLearner                                                     |     0.08 |\n",
      "|  3 | SimpleImputer,OneHotEncoder,StandardScaler,NoFeaturePreprocessing | no embedding,ShapedMLPBackbone,FullyConnectedHead,nn.Sequential |     0.06 |\n",
      "autoPyTorch results:\n",
      "\tDataset name: 16cfde46-df78-11ec-8407-cdd390be4c33\n",
      "\tOptimisation Metric: r2\n",
      "\tBest validation score: 0.8645385039886702\n",
      "\tNumber of target algorithm runs: 23\n",
      "\tNumber of successful target algorithm runs: 19\n",
      "\tNumber of crashed target algorithm runs: 2\n",
      "\tNumber of target algorithms that exceeded the time limit: 2\n",
      "\tNumber of target algorithms that exceeded the memory limit: 0\n",
      "\n"
     ]
    }
   ],
   "source": [
    "############################################################################\n",
    "# Print the final ensemble performance\n",
    "# ====================================\n",
    "y_pred = api.predict(X_test)\n",
    "\n",
    "# Rescale the Neural Network predictions into the original target range\n",
    "score = api.score(y_pred, y_test)\n",
    "\n",
    "print(score)\n",
    "# Print the final ensemble built by AutoPyTorch\n",
    "print(api.show_models())\n",
    "\n",
    "# Print statistics from search\n",
    "print(api.sprint_statistics())\n"
   ]
  },
  {
   "cell_type": "code",
   "execution_count": null,
   "metadata": {},
   "outputs": [],
   "source": []
  }
 ],
 "metadata": {
  "interpreter": {
   "hash": "b24a7fc3af2d24ab251664e0d275b58f78d4aa98cd444c3badbe61038adedf2b"
  },
  "kernelspec": {
   "display_name": "Python 3.9.12 ('thesis')",
   "language": "python",
   "name": "python3"
  },
  "language_info": {
   "codemirror_mode": {
    "name": "ipython",
    "version": 3
   },
   "file_extension": ".py",
   "mimetype": "text/x-python",
   "name": "python",
   "nbconvert_exporter": "python",
   "pygments_lexer": "ipython3",
   "version": "3.9.12"
  },
  "orig_nbformat": 4
 },
 "nbformat": 4,
 "nbformat_minor": 2
}
