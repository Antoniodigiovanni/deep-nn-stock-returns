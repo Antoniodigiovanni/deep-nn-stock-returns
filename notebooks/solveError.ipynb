{
 "cells": [
  {
   "cell_type": "code",
   "execution_count": 1,
   "metadata": {
    "pycharm": {
     "name": "#%%\n"
    }
   },
   "outputs": [],
   "source": [
    "from data.data_preprocessing import *\n",
    "import os, sys"
   ]
  },
  {
   "cell_type": "code",
   "execution_count": 2,
   "metadata": {
    "pycharm": {
     "name": "#%%\n"
    }
   },
   "outputs": [],
   "source": [
    "currentPath = os.getcwd()\n",
    "dataPath = (currentPath+'/../data')\n",
    "# Alternative is: os.path.dirname(__file__)\n",
    "\n",
    "CRSPretPath = (dataPath + '/external/crspmret.csv')\n",
    "CRSPinfoPath=(dataPath+'/external/crspminfo.csv')\n",
    "FFPath = (dataPath + '/external/FamaFrenchData.csv')\n",
    "SignalsPath = (dataPath + '/external/signed_predictors_all_wide.csv')\n",
    "ProcessedDataPath = (dataPath + '/processed')\n"
   ]
  },
  {
   "cell_type": "code",
   "execution_count": 4,
   "metadata": {
    "pycharm": {
     "name": "#%%\n"
    }
   },
   "outputs": [
    {
     "name": "stdout",
     "output_type": "stream",
     "text": [
      "Loading data...\n",
      "Data Loaded\n",
      "Dummy columns for sectors created, n. of columns: 220\n",
      "Stocks split by size\n",
      "Excess returns calculated.\n",
      "Share codes and Exchange codes filtered\n",
      "Beginning merge process between CRSP and OpenAssetPricing signals...\n",
      "Loop n. 20 | df Size 0: 45465 | df Size 1: 431\n",
      "Loop n. 40 | df Size 0: 45465 | df Size 1: 431\n",
      "Loop n. 60 | df Size 0: 45465 | df Size 1: 431\n",
      "Loop n. 80 | df Size 0: 45465 | df Size 1: 431\n",
      "Loop n. 100 | df Size 0: 45465 | df Size 1: 431\n",
      "Merge Complete.\n",
      "431\n",
      "['permno', 'yyyymm', 'ret', 'prc', 'siccd_0.0', 'siccd_1000.0', 'siccd_1011.0', 'siccd_1040.0', 'siccd_1041.0', 'siccd_1310.0', 'siccd_1311.0', 'siccd_1380.0', 'siccd_1499.0', 'siccd_1520.0', 'siccd_1731.0', 'siccd_1790.0', 'siccd_2050.0', 'siccd_2052.0', 'siccd_2060.0', 'siccd_2063.0', 'siccd_2082.0', 'siccd_2085.0', 'siccd_2110.0', 'siccd_2111.0', 'siccd_2250.0', 'siccd_2430.0', 'siccd_2490.0', 'siccd_2514.0', 'siccd_2640.0', 'siccd_2650.0', 'siccd_2730.0', 'siccd_2750.0', 'siccd_2752.0', 'siccd_2760.0', 'siccd_2810.0', 'siccd_2812.0', 'siccd_2813.0', 'siccd_2820.0', 'siccd_2830.0', 'siccd_2834.0', 'siccd_2835.0', 'siccd_2850.0', 'siccd_2860.0', 'siccd_2870.0', 'siccd_2890.0', 'siccd_3010.0', 'siccd_3070.0', 'siccd_3081.0', 'siccd_3083.0', 'siccd_3270.0', 'siccd_3310.0', 'siccd_3312.0', 'siccd_3340.0', 'siccd_3350.0', 'siccd_3410.0', 'siccd_3411.0', 'siccd_3420.0', 'siccd_3430.0', 'siccd_3432.0', 'siccd_3433.0', 'siccd_3443.0', 'siccd_3448.0', 'siccd_3460.0', 'siccd_3469.0', 'siccd_3470.0', 'siccd_3490.0', 'siccd_3496.0', 'siccd_3511.0', 'siccd_3520.0', 'siccd_3540.0', 'siccd_3541.0', 'siccd_3559.0', 'siccd_3560.0', 'siccd_3569.0', 'siccd_3570.0', 'siccd_3571.0', 'siccd_3572.0', 'siccd_3573.0', 'siccd_3580.0', 'siccd_3610.0', 'siccd_3640.0', 'siccd_3644.0', 'siccd_3650.0', 'siccd_3651.0', 'siccd_3660.0', 'siccd_3661.0', 'siccd_3662.0', 'siccd_3670.0', 'siccd_3690.0', 'siccd_3693.0', 'siccd_3710.0', 'siccd_3714.0', 'siccd_3724.0', 'siccd_3730.0', 'siccd_3740.0', 'siccd_3743.0', 'siccd_3812.0', 'siccd_3820.0', 'siccd_3830.0', 'siccd_3840.0', 'siccd_3842.0', 'siccd_3850.0', 'siccd_3860.0', 'siccd_3944.0', 'siccd_3990.0', 'siccd_4210.0', 'siccd_4410.0', 'siccd_4511.0', 'siccd_4710.0', 'siccd_4720.0', 'siccd_4810.0', 'siccd_4813.0', 'siccd_4820.0', 'siccd_4830.0', 'siccd_4832.0', 'siccd_4840.0', 'siccd_4841.0', 'siccd_4890.0', 'siccd_4910.0', 'siccd_4911.0', 'siccd_4920.0', 'siccd_4925.0', 'siccd_4931.0', 'siccd_4950.0', 'siccd_4960.0', 'siccd_5020.0', 'siccd_5030.0', 'siccd_5040.0', 'siccd_5060.0', 'siccd_5072.0', 'siccd_5080.0', 'siccd_5090.0', 'siccd_5094.0', 'siccd_5099.0', 'siccd_5120.0', 'siccd_5390.0', 'siccd_5410.0', 'siccd_5610.0', 'siccd_5620.0', 'siccd_5621.0', 'siccd_5650.0', 'siccd_5710.0', 'siccd_5730.0', 'siccd_5810.0', 'siccd_5812.0', 'siccd_5910.0', 'siccd_5940.0', 'siccd_5944.0', 'siccd_5960.0', 'siccd_5980.0', 'siccd_5990.0', 'siccd_6020.0', 'siccd_6022.0', 'siccd_6030.0', 'siccd_6035.0', 'siccd_6036.0', 'siccd_6120.0', 'siccd_6140.0', 'siccd_6210.0', 'siccd_6211.0', 'siccd_6310.0', 'siccd_6311.0', 'siccd_6320.0', 'siccd_6321.0', 'siccd_6330.0', 'siccd_6331.0', 'siccd_6410.0', 'siccd_6411.0', 'siccd_6550.0', 'siccd_6610.0', 'siccd_6710.0', 'siccd_6720.0', 'siccd_6722.0', 'siccd_6723.0', 'siccd_6726.0', 'siccd_6794.0', 'siccd_7010.0', 'siccd_7200.0', 'siccd_7312.0', 'siccd_7330.0', 'siccd_7334.0', 'siccd_7350.0', 'siccd_7363.0', 'siccd_7370.0', 'siccd_7371.0', 'siccd_7372.0', 'siccd_7373.0', 'siccd_7374.0', 'siccd_7380.0', 'siccd_7389.0', 'siccd_7390.0', 'siccd_7393.0', 'siccd_7399.0', 'siccd_7641.0', 'siccd_7810.0', 'siccd_7812.0', 'siccd_7820.0', 'siccd_7920.0', 'siccd_7922.0', 'siccd_7940.0', 'siccd_7990.0', 'siccd_8010.0', 'siccd_8040.0', 'siccd_8051.0', 'siccd_8060.0', 'siccd_8080.0', 'siccd_8090.0', 'siccd_8093.0', 'siccd_8200.0', 'siccd_8240.0', 'siccd_8290.0', 'siccd_8299.0', 'siccd_8300.0', 'siccd_8710.0', 'siccd_8711.0', 'siccd_8721.0', 'siccd_8730.0', 'siccd_8740.0', 'siccd_8742.0', 'siccd_8910.0', 'siccd_8911.0', 'siccd_8930.0', 'siccd_9611.0', 'siccd_nan', 'AbnormalAccruals', 'Accruals', 'AccrualsBM', 'Activism1', 'Activism2', 'AdExp', 'AgeIPO', 'AM', 'AnalystRevision', 'AnalystValue', 'AnnouncementReturn', 'AOP', 'AssetGrowth', 'Beta', 'BetaFP', 'BetaLiquidityPS', 'BetaTailRisk', 'betaVIX', 'BidAskSpread', 'BM', 'BMdec', 'BookLeverage', 'BPEBM', 'BrandInvest', 'Cash', 'CashProd', 'CBOperProf', 'CF', 'cfp', 'ChangeInRecommendation', 'ChAssetTurnover', 'ChEQ', 'ChForecastAccrual', 'ChInv', 'ChInvIA', 'ChNAnalyst', 'ChNNCOA', 'ChNWC', 'ChTax', 'CitationsRD', 'CompEquIss', 'CompositeDebtIssuance', 'ConsRecomm', 'ConvDebt', 'CoskewACX', 'Coskewness', 'CredRatDG', 'CustomerMomentum', 'DebtIssuance', 'DelBreadth', 'DelCOA', 'DelCOL', 'DelDRC', 'DelEqu', 'DelFINL', 'DelLTI', 'DelNetFin', 'DivInit', 'DivOmit', 'DivSeason', 'DivYieldST', 'dNoa', 'DolVol', 'DownRecomm', 'EarningsConsistency', 'EarningsForecastDisparity', 'EarningsStreak', 'EarningsSurprise', 'EarnSupBig', 'EBM', 'EntMult', 'EP', 'EquityDuration', 'ExchSwitch', 'ExclExp', 'FEPS', 'fgr5yrLag', 'FirmAge', 'FirmAgeMom', 'ForecastDispersion', 'FR', 'Frontier', 'Governance', 'GP', 'GrAdExp', 'grcapx', 'grcapx3y', 'GrLTNOA', 'GrSaleToGrInv', 'GrSaleToGrOverhead', 'Herf', 'HerfAsset', 'HerfBE', 'High52', 'hire', 'IdioRisk', 'IdioVol3F', 'IdioVolAHT', 'Illiquidity', 'IndIPO', 'IndMom', 'IndRetBig', 'IntanBM', 'IntanCFP', 'IntanEP', 'IntanSP', 'IntMom', 'Investment', 'InvestPPEInv', 'InvGrowth', 'IO_ShortInterest', 'iomom_cust', 'iomom_supp', 'Leverage', 'LRreversal', 'MaxRet', 'MeanRankRevGrowth', 'Mom12m', 'Mom12mOffSeason', 'Mom6m', 'Mom6mJunk', 'MomOffSeason', 'MomOffSeason06YrPlus', 'MomOffSeason11YrPlus', 'MomOffSeason16YrPlus', 'MomRev', 'MomSeason', 'MomSeason06YrPlus', 'MomSeason11YrPlus', 'MomSeason16YrPlus', 'MomSeasonShort', 'MomVol', 'MRreversal', 'MS', 'NetDebtFinance', 'NetDebtPrice', 'NetEquityFinance', 'NetPayoutYield', 'NOA', 'NumEarnIncrease', 'OperProf', 'OperProfRD', 'OPLeverage', 'OptionVolume1', 'OptionVolume2', 'OrderBacklog', 'OrderBacklogChg', 'OrgCap', 'OScore', 'PatentsRD', 'PayoutYield', 'PctAcc', 'PctTotAcc', 'PredictedFE', 'PriceDelayRsq', 'PriceDelaySlope', 'PriceDelayTstat', 'ProbInformedTrading', 'PS', 'RD', 'RDAbility', 'RDcap', 'RDIPO', 'RDS', 'realestate', 'Recomm_ShortInterest', 'ResidualMomentum', 'retConglomerate', 'ReturnSkew', 'ReturnSkew3F', 'REV6', 'RevenueSurprise', 'RIO_Disp', 'RIO_MB', 'RIO_Turnover', 'RIO_Volatility', 'roaq', 'RoE', 'sfe', 'ShareIss1Y', 'ShareIss5Y', 'ShareRepurchase', 'ShareVol', 'ShortInterest', 'sinAlgo', 'skew1', 'SmileSlope', 'SP', 'Spinoff', 'std_turn', 'SurpriseRD', 'tang', 'Tax', 'TotalAccruals', 'TrendFactor', 'UpRecomm', 'VarCF', 'VolMkt', 'VolSD', 'VolumeTrend', 'XFIN', 'zerotrade', 'zerotradeAlt1', 'zerotradeAlt12', 'STreversal', 'Price', 'Size']\n",
      "Dropping 135 rows as they still contain at least a NaN number (likely ret is missing)\n",
      "Data preparation complete, saving...\n",
      "Processed dataset saved.\n",
      "['siccd_3660.0', 'siccd_3730.0', 'siccd_6794.0', 'siccd_7393.0', 'siccd_3944.0', 'siccd_7390.0', 'siccd_4950.0', 'siccd_3350.0', 'siccd_6140.0', 'siccd_1310.0', 'siccd_6710.0', 'siccd_5099.0', 'siccd_3083.0', 'siccd_7372.0', 'siccd_2111.0', 'siccd_6720.0', 'siccd_3312.0', 'siccd_3448.0', 'siccd_2082.0', 'siccd_3571.0', 'siccd_8711.0', 'siccd_4910.0', 'siccd_6120.0', 'siccd_3340.0', 'siccd_2650.0', 'siccd_3714.0', 'siccd_2850.0', 'siccd_6211.0', 'siccd_3743.0', 'siccd_2834.0', 'siccd_3990.0', 'siccd_5410.0', 'siccd_6035.0', 'siccd_5650.0', 'siccd_2870.0', 'siccd_3850.0', 'siccd_7389.0', 'siccd_3820.0', 'siccd_5030.0', 'siccd_8740.0', 'siccd_3860.0', 'siccd_2060.0', 'siccd_5610.0', 'siccd_2085.0', 'siccd_3443.0', 'siccd_7334.0', 'siccd_3270.0', 'siccd_6723.0', 'siccd_4920.0', 'siccd_3842.0', 'siccd_5020.0', 'siccd_3573.0', 'siccd_5944.0', 'siccd_4410.0', 'siccd_5990.0', 'siccd_2752.0', 'siccd_3070.0', 'siccd_3644.0', 'siccd_1000.0', 'siccd_4841.0', 'siccd_4720.0', 'siccd_7812.0', 'siccd_4210.0', 'siccd_4710.0', 'siccd_6411.0', 'siccd_1520.0', 'siccd_3540.0', 'siccd_8060.0', 'siccd_4511.0', 'siccd_4925.0', 'siccd_8730.0', 'siccd_3430.0', 'siccd_3569.0', 'siccd_4832.0', 'siccd_6311.0', 'siccd_5810.0', 'siccd_3520.0', 'siccd_6030.0', 'siccd_1731.0', 'siccd_5910.0', 'siccd_7374.0', 'siccd_2890.0', 'siccd_5980.0', 'siccd_3840.0', 'siccd_6022.0', 'siccd_3661.0', 'siccd_3010.0', 'siccd_8721.0', 'siccd_5072.0', 'siccd_7990.0', 'siccd_3572.0', 'siccd_8040.0', 'siccd_3559.0', 'siccd_7373.0', 'siccd_2812.0', 'siccd_8080.0', 'siccd_3432.0', 'siccd_5390.0', 'siccd_2250.0', 'siccd_7200.0', 'siccd_4830.0', 'siccd_1311.0', 'siccd_2052.0', 'siccd_3662.0', 'siccd_7370.0', 'siccd_8240.0', 'siccd_3560.0', 'siccd_6210.0', 'siccd_1041.0', 'siccd_5094.0', 'siccd_3411.0', 'siccd_2810.0', 'siccd_3690.0', 'siccd_3812.0', 'siccd_1380.0', 'siccd_4840.0', 'siccd_7940.0', 'siccd_5080.0', 'siccd_7330.0', 'siccd_6320.0', 'siccd_6020.0', 'siccd_1040.0', 'siccd_1790.0', 'siccd_3693.0', 'siccd_7350.0', 'siccd_4813.0', 'siccd_8911.0', 'siccd_8051.0', 'siccd_6610.0', 'siccd_8910.0', 'siccd_6726.0', 'siccd_2860.0', 'siccd_3651.0', 'siccd_6321.0', 'siccd_8930.0', 'siccd_8300.0', 'siccd_5710.0', 'siccd_3496.0', 'siccd_5040.0', 'siccd_6330.0', 'siccd_3710.0', 'siccd_5090.0', 'siccd_3469.0', 'siccd_8090.0', 'siccd_4911.0', 'siccd_7641.0', 'siccd_3610.0', 'siccd_3470.0', 'siccd_5060.0', 'siccd_6331.0', 'siccd_8200.0', 'siccd_2750.0', 'siccd_3310.0', 'siccd_7312.0', 'siccd_4890.0', 'siccd_7380.0', 'siccd_2820.0', 'siccd_3541.0', 'siccd_7363.0', 'siccd_7820.0', 'siccd_2730.0', 'siccd_7399.0', 'siccd_2813.0', 'siccd_6722.0', 'siccd_8290.0', 'siccd_6410.0', 'siccd_3511.0', 'siccd_2430.0', 'siccd_3830.0', 'siccd_3740.0', 'siccd_3640.0', 'siccd_5812.0', 'siccd_3081.0', 'siccd_nan', 'siccd_2050.0', 'siccd_5960.0', 'siccd_2110.0', 'siccd_7810.0', 'siccd_3724.0', 'siccd_3670.0', 'siccd_4810.0', 'siccd_2640.0', 'siccd_7010.0', 'siccd_3433.0', 'siccd_3490.0', 'siccd_4820.0', 'siccd_5940.0', 'siccd_6036.0', 'siccd_7371.0', 'siccd_2830.0', 'siccd_7922.0', 'siccd_8710.0', 'siccd_9611.0', 'siccd_0.0', 'siccd_1011.0', 'siccd_2760.0', 'siccd_3650.0', 'siccd_5120.0', 'siccd_3570.0', 'siccd_5620.0', 'siccd_3580.0', 'siccd_3420.0', 'siccd_2514.0', 'siccd_1499.0', 'siccd_4960.0', 'siccd_7920.0', 'siccd_8299.0', 'siccd_8010.0', 'siccd_5730.0', 'siccd_2835.0', 'siccd_3460.0', 'siccd_3410.0', 'siccd_5621.0', 'siccd_8742.0', 'siccd_2490.0', 'siccd_6550.0', 'siccd_6310.0', 'siccd_8093.0', 'siccd_4931.0', 'siccd_2063.0']\n",
      "Pre-processing complete, the dataset has dimensions: (45330, 431)\n"
     ]
    }
   ],
   "source": [
    "crsp, categorical_cols = prepare_data(CRSPretPath, CRSPinfoPath, FFPath, SignalsPath, ProcessedDataPath)\n",
    "print(f'Pre-processing complete, the dataset has dimensions: {crsp.shape}')\n",
    "    "
   ]
  },
  {
   "cell_type": "code",
   "execution_count": 22,
   "metadata": {
    "pycharm": {
     "name": "#%%\n"
    }
   },
   "outputs": [],
   "source": [
    "df = crsp.reset_index(drop=True)"
   ]
  },
  {
   "cell_type": "code",
   "execution_count": 23,
   "metadata": {
    "pycharm": {
     "name": "#%%\n"
    }
   },
   "outputs": [
    {
     "data": {
      "text/html": [
       "<div>\n",
       "<style scoped>\n",
       "    .dataframe tbody tr th:only-of-type {\n",
       "        vertical-align: middle;\n",
       "    }\n",
       "\n",
       "    .dataframe tbody tr th {\n",
       "        vertical-align: top;\n",
       "    }\n",
       "\n",
       "    .dataframe thead th {\n",
       "        text-align: right;\n",
       "    }\n",
       "</style>\n",
       "<table border=\"1\" class=\"dataframe\">\n",
       "  <thead>\n",
       "    <tr style=\"text-align: right;\">\n",
       "      <th></th>\n",
       "      <th>permno</th>\n",
       "      <th>yyyymm</th>\n",
       "      <th>ret</th>\n",
       "      <th>prc</th>\n",
       "      <th>siccd_0.0</th>\n",
       "      <th>siccd_1000.0</th>\n",
       "      <th>siccd_1011.0</th>\n",
       "      <th>siccd_1040.0</th>\n",
       "      <th>siccd_1041.0</th>\n",
       "      <th>siccd_1310.0</th>\n",
       "      <th>...</th>\n",
       "      <th>VolMkt</th>\n",
       "      <th>VolSD</th>\n",
       "      <th>VolumeTrend</th>\n",
       "      <th>XFIN</th>\n",
       "      <th>zerotrade</th>\n",
       "      <th>zerotradeAlt1</th>\n",
       "      <th>zerotradeAlt12</th>\n",
       "      <th>STreversal</th>\n",
       "      <th>Price</th>\n",
       "      <th>Size</th>\n",
       "    </tr>\n",
       "  </thead>\n",
       "  <tbody>\n",
       "    <tr>\n",
       "      <th>0</th>\n",
       "      <td>10000.0</td>\n",
       "      <td>198602</td>\n",
       "      <td>-26.244287</td>\n",
       "      <td>-3.25</td>\n",
       "      <td>0.0</td>\n",
       "      <td>0.0</td>\n",
       "      <td>0.0</td>\n",
       "      <td>0.0</td>\n",
       "      <td>0.0</td>\n",
       "      <td>0.0</td>\n",
       "      <td>...</td>\n",
       "      <td>0.0</td>\n",
       "      <td>0.0</td>\n",
       "      <td>0.0</td>\n",
       "      <td>0.0</td>\n",
       "      <td>0.0</td>\n",
       "      <td>-0.138889</td>\n",
       "      <td>0.0</td>\n",
       "      <td>0.486842</td>\n",
       "      <td>0.273333</td>\n",
       "      <td>0.206667</td>\n",
       "    </tr>\n",
       "  </tbody>\n",
       "</table>\n",
       "<p>1 rows × 431 columns</p>\n",
       "</div>"
      ],
      "text/plain": [
       "    permno  yyyymm        ret   prc  siccd_0.0  siccd_1000.0  siccd_1011.0  \\\n",
       "0  10000.0  198602 -26.244287 -3.25        0.0           0.0           0.0   \n",
       "\n",
       "   siccd_1040.0  siccd_1041.0  siccd_1310.0  ...  VolMkt  VolSD  VolumeTrend  \\\n",
       "0           0.0           0.0           0.0  ...     0.0    0.0          0.0   \n",
       "\n",
       "   XFIN  zerotrade  zerotradeAlt1  zerotradeAlt12  STreversal     Price  \\\n",
       "0   0.0        0.0      -0.138889             0.0    0.486842  0.273333   \n",
       "\n",
       "       Size  \n",
       "0  0.206667  \n",
       "\n",
       "[1 rows x 431 columns]"
      ]
     },
     "execution_count": 23,
     "metadata": {},
     "output_type": "execute_result"
    }
   ],
   "source": [
    "df.loc[df.index == 0]"
   ]
  }
 ],
 "metadata": {
  "interpreter": {
   "hash": "b24a7fc3af2d24ab251664e0d275b58f78d4aa98cd444c3badbe61038adedf2b"
  },
  "kernelspec": {
   "display_name": "Python 3.9.12 ('thesis')",
   "language": "python",
   "name": "python3"
  },
  "language_info": {
   "codemirror_mode": {
    "name": "ipython",
    "version": 3
   },
   "file_extension": ".py",
   "mimetype": "text/x-python",
   "name": "python",
   "nbconvert_exporter": "python",
   "pygments_lexer": "ipython3",
   "version": "3.9.12"
  },
  "orig_nbformat": 4
 },
 "nbformat": 4,
 "nbformat_minor": 2
}