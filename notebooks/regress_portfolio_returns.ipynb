{
 "cells": [
  {
   "cell_type": "code",
   "execution_count": null,
   "metadata": {},
   "outputs": [],
   "source": [
    "import sys\n",
    "from pathlib import Path\n",
    "\n",
    "# Add root folder to Python path (to import modules)\n",
    "notebook_dir = Path().absolute()\n",
    "project_root = notebook_dir.parent\n",
    "sys.path.append(str(project_root))"
   ]
  },
  {
   "cell_type": "code",
   "execution_count": null,
   "metadata": {},
   "outputs": [],
   "source": [
    "import pandas as pd\n",
    "from src.portfolios.portfolio_new import Portfolio\n",
    "from src.portfolios.FF5FM_Mom import FF5FM_Mom"
   ]
  },
  {
   "cell_type": "code",
   "execution_count": null,
   "metadata": {},
   "outputs": [],
   "source": [
    "results_df = pd.read_csv('/home/ge65cuw/thesis/saved/final_results/results_df.csv', index_col=0).dropna()\n",
    "worst_net_id = results_df.loc[results_df.trial_id == results_df.trial_id.min()]['trial_id'].values[0]"
   ]
  },
  {
   "cell_type": "code",
   "execution_count": null,
   "metadata": {},
   "outputs": [],
   "source": [
    "base_path = '/home/ge65cuw/thesis/saved/final_results/'\n",
    "best_net_path = base_path + 'ensembleNN3.csv'\n",
    "worst_net_path = base_path + 'predicted_returns/' + str(worst_net_id) + '_predicted_returns.csv'\n",
    "benchmark_nn4_path = base_path + 'ensembleGu.csv'\n",
    "linear_path = base_path + 'linear/predicted_ret.csv'\n",
    "# market_returns = ''"
   ]
  },
  {
   "cell_type": "code",
   "execution_count": null,
   "metadata": {},
   "outputs": [],
   "source": [
    "df = pd.read_csv(best_net_path, index_col=0)\n",
    "pbest = Portfolio(df)"
   ]
  },
  {
   "cell_type": "code",
   "execution_count": null,
   "metadata": {},
   "outputs": [],
   "source": [
    "portfolio = pbest\n",
    "FFMom = FF5FM_Mom().returns\n",
    "columns_to_keep = [portfolio.returns.columns[0]]\n",
    "columns_to_keep.extend(portfolio.returns.columns[-2:])\n",
    "df = portfolio.returns[columns_to_keep]\n",
    "df = df.merge(FFMom, on=['yyyymm'], how='left')\n",
    "\n",
    "\n",
    "# On long-short returns        \n",
    "# X = df.iloc[:, 3:]\n",
    "\n",
    "# Column 1 is long returns on max quantile, \n",
    "# Column 2 is long-short returns\n",
    "# if method == 'long-short':\n",
    "#     y = df.iloc[:,2]\n",
    "# elif method == 'long':\n",
    "#     y = df.iloc[:,1]\n",
    "\n",
    "X = sm.add_constant(X)\n",
    "lm = sm.OLS(y, X).fit()\n",
    "\n",
    "print('Params')\n",
    "print(lm.params)\n",
    "print('tValues')\n",
    "print(lm.tvalues)\n",
    "\n",
    "alpha = lm.params[0]\n",
    "t_value_alpha = lm.tvalues[0]\n",
    "regression_rsquared = lm.rsquared\n",
    "print('Linear Regression summary:')\n",
    "print(lm.summary())\n",
    "\n",
    "\n",
    "year_min = portfolio.returns['yyyymm'].min()//100\n",
    "month_min = portfolio.returns['yyyymm'].min()%100\n",
    "\n",
    "year_max = portfolio.returns['yyyymm'].max()//100\n",
    "month_max = portfolio.returns['yyyymm'].max()%100\n",
    "\n",
    "n_months =  ((year_max - year_min) + (month_max-month_min+1)/12)*12 \n",
    "information_ratio_regression = t_value_alpha / np.sqrt(n_months)\n",
    "print(f'Informatio Ratio based on FF5FM+Mom regression: {information_ratio_regression:.2f}')"
   ]
  }
 ],
 "metadata": {
  "kernelspec": {
   "display_name": "Python 3.10.4 ('thesis')",
   "language": "python",
   "name": "python3"
  },
  "language_info": {
   "codemirror_mode": {
    "name": "ipython",
    "version": 3
   },
   "file_extension": ".py",
   "mimetype": "text/x-python",
   "name": "python",
   "nbconvert_exporter": "python",
   "pygments_lexer": "ipython3",
   "version": "3.10.4"
  },
  "orig_nbformat": 4,
  "vscode": {
   "interpreter": {
    "hash": "b4804d781847468e0794096453e716a44bf82c4d93fcc1a726a520e37d704781"
   }
  }
 },
 "nbformat": 4,
 "nbformat_minor": 2
}
