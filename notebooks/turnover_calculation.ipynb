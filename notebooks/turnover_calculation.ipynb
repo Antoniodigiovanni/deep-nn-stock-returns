{
 "cells": [
  {
   "cell_type": "code",
   "execution_count": null,
   "metadata": {},
   "outputs": [],
   "source": [
    "import sys\n",
    "from pathlib import Path\n",
    "\n",
    "# Add root folder to Python path (to import modules)\n",
    "notebook_dir = Path().absolute()\n",
    "project_root = notebook_dir.parent\n",
    "sys.path.append(str(project_root))"
   ]
  },
  {
   "cell_type": "code",
   "execution_count": null,
   "metadata": {},
   "outputs": [],
   "source": [
    "from src.portfolios.portfolio_new import Portfolio\n",
    "import pandas as pd\n",
    "import numpy as np"
   ]
  },
  {
   "cell_type": "code",
   "execution_count": null,
   "metadata": {},
   "outputs": [],
   "source": [
    "path = '../saved/results/FinalExpandingTuning/predicted_returns/16678983520958712_predicted_returns.csv'\n",
    "df = pd.read_csv(path, index_col=0)\n",
    "\n",
    "portfolio = Portfolio(df, verbose=0)"
   ]
  },
  {
   "cell_type": "markdown",
   "metadata": {},
   "source": [
    "# Maximum Drawdown"
   ]
  },
  {
   "cell_type": "code",
   "execution_count": null,
   "metadata": {},
   "outputs": [],
   "source": [
    "cumulative_returns = portfolio.returns.copy()\n",
    "cumulative_returns.iloc[:,1:] = np.log(cumulative_returns.iloc[:,1:]/100+1).cumsum()\n",
    "highwatermarks = cumulative_returns.cummax()\n",
    "\n",
    "drawdowns = (highwatermarks)-(cumulative_returns)\n",
    "\n",
    "max_dd = drawdowns.iloc[:,-1].max()\n",
    "print(f'Max_log_DD: {max_dd}\\tMax_DD: {np.exp(max_dd)-1}')"
   ]
  },
  {
   "cell_type": "code",
   "execution_count": null,
   "metadata": {},
   "outputs": [],
   "source": [
    "cumulative_returns = portfolio.returns.copy()\n",
    "cumulative_returns.iloc[:,1:] = (cumulative_returns.iloc[:,1:]/100+1).cumprod()-1\n",
    "highwatermarks = cumulative_returns.cummax()\n",
    "\n",
    "drawdowns = (1 + highwatermarks)/(1 + cumulative_returns) - 1\n",
    "\n",
    "max_dd = drawdowns.iloc[:,-1].max()\n",
    "print(f'Max_DD: {(100*max_dd):.2f}%')"
   ]
  },
  {
   "cell_type": "markdown",
   "metadata": {},
   "source": [
    "# Turnover"
   ]
  },
  {
   "cell_type": "code",
   "execution_count": null,
   "metadata": {},
   "outputs": [],
   "source": [
    "import models.neural_net.metric as metric\n",
    "metric.turnover(portfolio.weights_df)"
   ]
  }
 ],
 "metadata": {
  "kernelspec": {
   "display_name": "Python 3.10.4 ('thesis')",
   "language": "python",
   "name": "python3"
  },
  "language_info": {
   "codemirror_mode": {
    "name": "ipython",
    "version": 3
   },
   "file_extension": ".py",
   "mimetype": "text/x-python",
   "name": "python",
   "nbconvert_exporter": "python",
   "pygments_lexer": "ipython3",
   "version": "3.10.4"
  },
  "orig_nbformat": 4,
  "vscode": {
   "interpreter": {
    "hash": "b4804d781847468e0794096453e716a44bf82c4d93fcc1a726a520e37d704781"
   }
  }
 },
 "nbformat": 4,
 "nbformat_minor": 2
}
