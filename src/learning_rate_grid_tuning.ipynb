{
 "cells": [
  {
   "cell_type": "code",
   "execution_count": 33,
   "metadata": {},
   "outputs": [],
   "source": [
    "from os import listdir\n",
    "from os.path import isfile, join\n",
    "import pandas as pd\n",
    "import torchmetrics as tm\n",
    "import torch\n",
    "import json\n",
    "import matplotlib.pyplot as plt\n",
    "import numpy as np"
   ]
  },
  {
   "cell_type": "markdown",
   "metadata": {},
   "source": [
    "# NN3 Grid search around learning rate - analysis"
   ]
  },
  {
   "cell_type": "markdown",
   "metadata": {},
   "source": [
    "#### *Should be done with real returns and not winsorized returns*"
   ]
  },
  {
   "cell_type": "code",
   "execution_count": 34,
   "metadata": {},
   "outputs": [],
   "source": [
    "resultsPath = '../../saved/results/'"
   ]
  },
  {
   "cell_type": "code",
   "execution_count": 35,
   "metadata": {},
   "outputs": [],
   "source": [
    "NN3Path = resultsPath + 'NN3GridLearningRateTuning/'\n",
    "predicted_ret_path = NN3Path + 'predicted_returns/'\n",
    "trial_info_path = NN3Path + 'trial_info/'"
   ]
  },
  {
   "cell_type": "code",
   "execution_count": 36,
   "metadata": {},
   "outputs": [],
   "source": [
    "predicted_ret_files = [f for f in listdir(predicted_ret_path) if isfile(join(predicted_ret_path, f))]\n",
    "trial_info_files = [f for f in listdir(trial_info_path) if isfile(join(trial_info_path, f))]"
   ]
  },
  {
   "cell_type": "code",
   "execution_count": 37,
   "metadata": {},
   "outputs": [
    {
     "name": "stderr",
     "output_type": "stream",
     "text": [
      "/home/ge65cuw/anaconda3/envs/thesis/lib/python3.10/site-packages/torchmetrics/utilities/prints.py:36: UserWarning: Metric `SpearmanCorrcoef` will save all targets and predictions in the buffer. For large datasets, this may lead to large memory footprint.\n",
      "  warnings.warn(*args, **kwargs)\n"
     ]
    }
   ],
   "source": [
    "# spearman_coeffs = []\n",
    "spearman_coeffs = {}\n",
    "spearman = tm.SpearmanCorrCoef()\n",
    "\n",
    "for idx,file in enumerate(predicted_ret_files):\n",
    "    df = pd.read_csv(predicted_ret_path + '/' + file, index_col=0)\n",
    "    spear = spearman(torch.tensor(df['predicted_ret']), torch.tensor(df['ret']))\n",
    "    # print(f'{idx} has spearman coefficient of {spear.item():.3f}')\n",
    "    #spearman_coeffs.append(spear.item())\n",
    "    trial_id = file.split('_')[0]\n",
    "    spearman_coeffs[trial_id] = spear.item()\n",
    "\n",
    "# learning_rates = []\n",
    "learning_rates = {}\n",
    "\n",
    "for idx, file in enumerate(trial_info_files):\n",
    "    \n",
    "    with open(trial_info_path + '/' + file, 'r') as f:\n",
    "        data = json.load(f)\n",
    "    learning_rate = (data['params']['learning_rate'])\n",
    "    trial_id = file.split('_')[0] \n",
    "    # learning_rates.append(learning_rate)   \n",
    "    learning_rates[trial_id] = learning_rate  \n",
    "\n",
    "\n",
    "# Create df from dictionaries\n",
    "spearman_df = pd.DataFrame(spearman_coeffs.items(), columns=['Id', 'Spearman_Coefficient'])\n",
    "spearman_df['Id'] = spearman_df.Id.astype(int)\n",
    "lr_df = pd.DataFrame(learning_rates.items(), columns=['Id', 'LR'])\n",
    "lr_df['Id'] = lr_df.Id.astype(int)  \n",
    "\n",
    "# Merge the two dfs\n",
    "stats = spearman_df.merge(lr_df, on='Id')"
   ]
  },
  {
   "cell_type": "code",
   "execution_count": 38,
   "metadata": {},
   "outputs": [
    {
     "data": {
      "text/html": [
       "<div>\n",
       "<style scoped>\n",
       "    .dataframe tbody tr th:only-of-type {\n",
       "        vertical-align: middle;\n",
       "    }\n",
       "\n",
       "    .dataframe tbody tr th {\n",
       "        vertical-align: top;\n",
       "    }\n",
       "\n",
       "    .dataframe thead th {\n",
       "        text-align: right;\n",
       "    }\n",
       "</style>\n",
       "<table border=\"1\" class=\"dataframe\">\n",
       "  <thead>\n",
       "    <tr style=\"text-align: right;\">\n",
       "      <th></th>\n",
       "      <th>Id</th>\n",
       "      <th>Spearman_Coefficient</th>\n",
       "      <th>LR</th>\n",
       "    </tr>\n",
       "  </thead>\n",
       "  <tbody>\n",
       "    <tr>\n",
       "      <th>0</th>\n",
       "      <td>16660091510851426</td>\n",
       "      <td>0.066010</td>\n",
       "      <td>0.000200</td>\n",
       "    </tr>\n",
       "    <tr>\n",
       "      <th>1</th>\n",
       "      <td>16659974587135558</td>\n",
       "      <td>0.067496</td>\n",
       "      <td>0.000058</td>\n",
       "    </tr>\n",
       "    <tr>\n",
       "      <th>2</th>\n",
       "      <td>16659573347656214</td>\n",
       "      <td>0.067707</td>\n",
       "      <td>0.000068</td>\n",
       "    </tr>\n",
       "    <tr>\n",
       "      <th>3</th>\n",
       "      <td>16659513093165372</td>\n",
       "      <td>0.067496</td>\n",
       "      <td>0.000058</td>\n",
       "    </tr>\n",
       "    <tr>\n",
       "      <th>4</th>\n",
       "      <td>16659745269030252</td>\n",
       "      <td>0.066878</td>\n",
       "      <td>0.000108</td>\n",
       "    </tr>\n",
       "    <tr>\n",
       "      <th>5</th>\n",
       "      <td>16659800526498780</td>\n",
       "      <td>0.065517</td>\n",
       "      <td>0.000126</td>\n",
       "    </tr>\n",
       "    <tr>\n",
       "      <th>6</th>\n",
       "      <td>16660035606077354</td>\n",
       "      <td>0.062892</td>\n",
       "      <td>0.000171</td>\n",
       "    </tr>\n",
       "    <tr>\n",
       "      <th>7</th>\n",
       "      <td>16659856484283236</td>\n",
       "      <td>0.062516</td>\n",
       "      <td>0.000147</td>\n",
       "    </tr>\n",
       "    <tr>\n",
       "      <th>8</th>\n",
       "      <td>16659687915781436</td>\n",
       "      <td>0.065737</td>\n",
       "      <td>0.000093</td>\n",
       "    </tr>\n",
       "    <tr>\n",
       "      <th>9</th>\n",
       "      <td>16659630756301174</td>\n",
       "      <td>0.067246</td>\n",
       "      <td>0.000079</td>\n",
       "    </tr>\n",
       "    <tr>\n",
       "      <th>10</th>\n",
       "      <td>16659912192915382</td>\n",
       "      <td>0.066518</td>\n",
       "      <td>0.000050</td>\n",
       "    </tr>\n",
       "    <tr>\n",
       "      <th>11</th>\n",
       "      <td>16659450415098292</td>\n",
       "      <td>0.066518</td>\n",
       "      <td>0.000050</td>\n",
       "    </tr>\n",
       "  </tbody>\n",
       "</table>\n",
       "</div>"
      ],
      "text/plain": [
       "                   Id  Spearman_Coefficient        LR\n",
       "0   16660091510851426              0.066010  0.000200\n",
       "1   16659974587135558              0.067496  0.000058\n",
       "2   16659573347656214              0.067707  0.000068\n",
       "3   16659513093165372              0.067496  0.000058\n",
       "4   16659745269030252              0.066878  0.000108\n",
       "5   16659800526498780              0.065517  0.000126\n",
       "6   16660035606077354              0.062892  0.000171\n",
       "7   16659856484283236              0.062516  0.000147\n",
       "8   16659687915781436              0.065737  0.000093\n",
       "9   16659630756301174              0.067246  0.000079\n",
       "10  16659912192915382              0.066518  0.000050\n",
       "11  16659450415098292              0.066518  0.000050"
      ]
     },
     "execution_count": 38,
     "metadata": {},
     "output_type": "execute_result"
    }
   ],
   "source": [
    "# NN3 Stats (Spearman and LR)\n",
    "stats"
   ]
  },
  {
   "cell_type": "markdown",
   "metadata": {},
   "source": [
    "## Add original point:"
   ]
  },
  {
   "cell_type": "code",
   "execution_count": 39,
   "metadata": {},
   "outputs": [],
   "source": [
    "# 16647359418773646_trial_full\n",
    "ETPath = resultsPath + 'ExpandingTuning/'\n",
    "predicted_ret_path = ETPath + 'predicted_returns/'\n",
    "trial_info_path = ETPath + 'trial_info/'\n",
    "\n",
    "predicted_ret_files = [f for f in listdir(predicted_ret_path) if isfile(join(predicted_ret_path, f))]\n",
    "trial_info_files = [f for f in listdir(trial_info_path) if isfile(join(trial_info_path, f))]\n",
    "\n",
    "for idx, file in enumerate(predicted_ret_files):\n",
    "    file_split = file.split('_')\n",
    "    if file_split[0] == '16647359418773646':\n",
    "        df = pd.read_csv(predicted_ret_path + '/' + file, index_col=0)\n",
    "        original_spear = spearman(torch.tensor(df['predicted_ret']), torch.tensor(df['ret'])).item()\n",
    "\n",
    "\n",
    "for idx, file in enumerate(trial_info_files):\n",
    "    if file.split('_')[0] == '16647359418773646':\n",
    "        with open(trial_info_path + '/' + file, 'r') as f:\n",
    "            data = json.load(f)\n",
    "        original_learning_rate = (data['params']['learning_rate'])\n"
   ]
  },
  {
   "cell_type": "code",
   "execution_count": 41,
   "metadata": {},
   "outputs": [
    {
     "data": {
      "image/png": "[encoded data removed]",
      "text/plain": [
       "<Figure size 576x396 with 1 Axes>"
      ]
     },
     "metadata": {
      "needs_background": "light"
     },
     "output_type": "display_data"
    }
   ],
   "source": [
    "\"\"\"# Plot\n",
    "plt.scatter(stats['LR'], stats['Spearman_Coefficient'])\n",
    "plt.ticklabel_format(style='sci', axis='x', scilimits=(0,0))\n",
    "plt.ticklabel_format(style='sci', axis='y', scilimits=(0,0))\n",
    "plt.title('Learning rate vs. Spearman correlation coefficient')\n",
    "plt.xlabel('Learning Rate')\n",
    "plt.ylabel('Spearman coefficient')\n",
    "plt.plot(original_learning_rate,original_spear,'ro')\n",
    "plt.grid() #Keep?\n",
    "plt.tight_layout()\"\"\"\n",
    "# \"Tableau 20\" colors as RGB.  \n",
    "tableau20 = [(31, 119, 180), (174, 199, 232), (255, 127, 14), (255, 187, 120),  \n",
    "             (44, 160, 44), (152, 223, 138), (214, 39, 40), (255, 152, 150),  \n",
    "             (148, 103, 189), (197, 176, 213), (140, 86, 75), (196, 156, 148),  \n",
    "             (227, 119, 194), (247, 182, 210), (127, 127, 127), (199, 199, 199),  \n",
    "             (188, 189, 34), (219, 219, 141), (23, 190, 207), (158, 218, 229)]  \n",
    "\n",
    "# Scale the RGB values to the [0, 1] range, which is the format matplotlib accepts.  \n",
    "for i in range(len(tableau20)):  \n",
    "    r, g, b = tableau20[i]  \n",
    "    tableau20[i] = (r / 255., g / 255., b / 255.)  \n",
    "\n",
    "# Common sizes: (10, 7.5) and (12, 9)  \n",
    "plt.figure(figsize=(8, 5.5))\n",
    "\n",
    "ax = plt.subplot(111)  \n",
    "ax.spines[\"top\"].set_visible(False)  \n",
    "ax.spines[\"bottom\"].set_visible(True)  \n",
    "ax.spines[\"right\"].set_visible(False)  \n",
    "ax.spines[\"left\"].set_visible(True)  \n",
    "\n",
    "ax.get_xaxis().tick_bottom()\n",
    "ax.get_yaxis().tick_left()\n",
    "\n",
    "\n",
    "# Plot\n",
    "plt.scatter(stats['LR'], stats['Spearman_Coefficient'], color=tableau20[19], s=120)\n",
    "plt.ticklabel_format(style='sci', axis='x', scilimits=(0,0))\n",
    "plt.ticklabel_format(style='sci', axis='y', scilimits=(0,0))\n",
    "plt.title('Learning rate vs. Spearman correlation coefficient', fontsize=18)\n",
    "plt.ylabel('Spearman coefficient',fontsize=15)\n",
    "# plt.xticks(np.linspace(0, 0.002, 0.01), fontsize=13)\n",
    "# plt.yticks(np.linspace(0, 0.07, 0.01), fontsize=13)\n",
    "plt.xlabel(\"Learning Rate\", fontsize=15)\n",
    "plt.ylim(.06, .0725)\n",
    "plt.plot(original_learning_rate,original_spear,'ro', ms=10)\n",
    "# plt.grid(color='gray', linestyle='--', linewidth=.1)\n",
    "import matplotlib.patches as mpatches\n",
    "\n",
    "red_patch = mpatches.Patch(color='red', label='Original result')\n",
    "blue_patch = mpatches.Patch(color=tableau20[19], label='Grid search results')\n",
    "plt.legend(handles=[red_patch, blue_patch], loc='upper right', fontsize=13)\n",
    "\n",
    "plt.tight_layout()\n",
    "plt.show()\n",
    "\n",
    "\n",
    "# bbox_inches=\"tight\" removes all the extra whitespace on the edges of your plot.\n",
    "# plt.savefig(\"Returns_distribution.png\", bbox_inches=\"tight\")\n"
   ]
  },
  {
   "cell_type": "markdown",
   "metadata": {},
   "source": [
    "# NN9 Grid search around learning rate - analysis"
   ]
  },
  {
   "cell_type": "code",
   "execution_count": 30,
   "metadata": {},
   "outputs": [],
   "source": [
    "resultsPath = '../../saved/results/'\n",
    "\n",
    "NN9Path = resultsPath + 'NN9GridLearningRateTuning/'\n",
    "predicted_ret_path = NN9Path + 'predicted_returns/'\n",
    "trial_info_path = NN9Path + 'trial_info/'"
   ]
  },
  {
   "cell_type": "code",
   "execution_count": 31,
   "metadata": {},
   "outputs": [],
   "source": [
    "predicted_ret_files = [f for f in listdir(predicted_ret_path) if isfile(join(predicted_ret_path, f))]\n",
    "trial_info_files = [f for f in listdir(trial_info_path) if isfile(join(trial_info_path, f))]"
   ]
  },
  {
   "cell_type": "code",
   "execution_count": 32,
   "metadata": {},
   "outputs": [
    {
     "name": "stderr",
     "output_type": "stream",
     "text": [
      "/home/ge65cuw/anaconda3/envs/thesis/lib/python3.10/site-packages/torchmetrics/utilities/prints.py:36: UserWarning: Metric `SpearmanCorrcoef` will save all targets and predictions in the buffer. For large datasets, this may lead to large memory footprint.\n",
      "  warnings.warn(*args, **kwargs)\n"
     ]
    },
    {
     "ename": "KeyboardInterrupt",
     "evalue": "",
     "output_type": "error",
     "traceback": [
      "\u001b[0;31m---------------------------------------------------------------------------\u001b[0m",
      "\u001b[0;31mKeyboardInterrupt\u001b[0m                         Traceback (most recent call last)",
      "\u001b[1;32m/home/ge65cuw/thesis/src/results_generation/learning_rate_grid_tuning.ipynb Cell 15\u001b[0m in \u001b[0;36m<cell line: 5>\u001b[0;34m()\u001b[0m\n\u001b[1;32m      <a href='vscode-notebook-cell://ssh-remote%2B7b22686f73744e616d65223a2254554d5f536572766572227d/home/ge65cuw/thesis/src/results_generation/learning_rate_grid_tuning.ipynb#X23sdnNjb2RlLXJlbW90ZQ%3D%3D?line=4'>5</a>\u001b[0m \u001b[39mfor\u001b[39;00m idx,file \u001b[39min\u001b[39;00m \u001b[39menumerate\u001b[39m(predicted_ret_files):\n\u001b[1;32m      <a href='vscode-notebook-cell://ssh-remote%2B7b22686f73744e616d65223a2254554d5f536572766572227d/home/ge65cuw/thesis/src/results_generation/learning_rate_grid_tuning.ipynb#X23sdnNjb2RlLXJlbW90ZQ%3D%3D?line=5'>6</a>\u001b[0m     df \u001b[39m=\u001b[39m pd\u001b[39m.\u001b[39mread_csv(predicted_ret_path \u001b[39m+\u001b[39m \u001b[39m'\u001b[39m\u001b[39m/\u001b[39m\u001b[39m'\u001b[39m \u001b[39m+\u001b[39m file, index_col\u001b[39m=\u001b[39m\u001b[39m0\u001b[39m)\n\u001b[0;32m----> <a href='vscode-notebook-cell://ssh-remote%2B7b22686f73744e616d65223a2254554d5f536572766572227d/home/ge65cuw/thesis/src/results_generation/learning_rate_grid_tuning.ipynb#X23sdnNjb2RlLXJlbW90ZQ%3D%3D?line=6'>7</a>\u001b[0m     spear \u001b[39m=\u001b[39m spearman(torch\u001b[39m.\u001b[39mtensor(df[\u001b[39m'\u001b[39m\u001b[39mpredicted_ret\u001b[39m\u001b[39m'\u001b[39m]), torch\u001b[39m.\u001b[39;49mtensor(df[\u001b[39m'\u001b[39;49m\u001b[39mret\u001b[39;49m\u001b[39m'\u001b[39;49m]))\n\u001b[1;32m      <a href='vscode-notebook-cell://ssh-remote%2B7b22686f73744e616d65223a2254554d5f536572766572227d/home/ge65cuw/thesis/src/results_generation/learning_rate_grid_tuning.ipynb#X23sdnNjb2RlLXJlbW90ZQ%3D%3D?line=7'>8</a>\u001b[0m     \u001b[39m# print(f'{idx} has spearman coefficient of {spear.item():.3f}')\u001b[39;00m\n\u001b[1;32m      <a href='vscode-notebook-cell://ssh-remote%2B7b22686f73744e616d65223a2254554d5f536572766572227d/home/ge65cuw/thesis/src/results_generation/learning_rate_grid_tuning.ipynb#X23sdnNjb2RlLXJlbW90ZQ%3D%3D?line=8'>9</a>\u001b[0m     \u001b[39m#spearman_coeffs.append(spear.item())\u001b[39;00m\n\u001b[1;32m     <a href='vscode-notebook-cell://ssh-remote%2B7b22686f73744e616d65223a2254554d5f536572766572227d/home/ge65cuw/thesis/src/results_generation/learning_rate_grid_tuning.ipynb#X23sdnNjb2RlLXJlbW90ZQ%3D%3D?line=9'>10</a>\u001b[0m     trial_id \u001b[39m=\u001b[39m file\u001b[39m.\u001b[39msplit(\u001b[39m'\u001b[39m\u001b[39m_\u001b[39m\u001b[39m'\u001b[39m)[\u001b[39m0\u001b[39m]\n",
      "File \u001b[0;32m~/anaconda3/envs/thesis/lib/python3.10/site-packages/pandas/core/series.py:943\u001b[0m, in \u001b[0;36mSeries.__getitem__\u001b[0;34m(self, key)\u001b[0m\n\u001b[1;32m    938\u001b[0m \u001b[39mdef\u001b[39;00m \u001b[39m_slice\u001b[39m(\u001b[39mself\u001b[39m, slobj: \u001b[39mslice\u001b[39m, axis: \u001b[39mint\u001b[39m \u001b[39m=\u001b[39m \u001b[39m0\u001b[39m) \u001b[39m-\u001b[39m\u001b[39m>\u001b[39m Series:\n\u001b[1;32m    939\u001b[0m     \u001b[39m# axis kwarg is retained for compat with NDFrame method\u001b[39;00m\n\u001b[1;32m    940\u001b[0m     \u001b[39m#  _slice is *always* positional\u001b[39;00m\n\u001b[1;32m    941\u001b[0m     \u001b[39mreturn\u001b[39;00m \u001b[39mself\u001b[39m\u001b[39m.\u001b[39m_get_values(slobj)\n\u001b[0;32m--> 943\u001b[0m \u001b[39mdef\u001b[39;00m \u001b[39m__getitem__\u001b[39m(\u001b[39mself\u001b[39m, key):\n\u001b[1;32m    944\u001b[0m     check_deprecated_indexers(key)\n\u001b[1;32m    945\u001b[0m     key \u001b[39m=\u001b[39m com\u001b[39m.\u001b[39mapply_if_callable(key, \u001b[39mself\u001b[39m)\n",
      "\u001b[0;31mKeyboardInterrupt\u001b[0m: "
     ]
    }
   ],
   "source": [
    "# spearman_coeffs = []\n",
    "spearman_coeffs = {}\n",
    "spearman = tm.SpearmanCorrCoef()\n",
    "\n",
    "for idx,file in enumerate(predicted_ret_files):\n",
    "    df = pd.read_csv(predicted_ret_path + '/' + file, index_col=0)\n",
    "    spear = spearman(torch.tensor(df['predicted_ret']), torch.tensor(df['ret']))\n",
    "    # print(f'{idx} has spearman coefficient of {spear.item():.3f}')\n",
    "    #spearman_coeffs.append(spear.item())\n",
    "    trial_id = file.split('_')[0]\n",
    "    spearman_coeffs[trial_id] = spear.item()\n",
    "\n",
    "# learning_rates = []\n",
    "learning_rates = {}\n",
    "\n",
    "for idx, file in enumerate(trial_info_files):\n",
    "    \n",
    "    with open(trial_info_path + '/' + file, 'r') as f:\n",
    "        data = json.load(f)\n",
    "    learning_rate = (data['params']['learning_rate'])\n",
    "    trial_id = file.split('_')[0] \n",
    "    # learning_rates.append(learning_rate)   \n",
    "    learning_rates[trial_id] = learning_rate  \n",
    "\n",
    "\n",
    "# Create df from dictionaries\n",
    "spearman_df = pd.DataFrame(spearman_coeffs.items(), columns=['Id', 'Spearman_Coefficient'])\n",
    "spearman_df['Id'] = spearman_df.Id.astype(int)\n",
    "lr_df = pd.DataFrame(learning_rates.items(), columns=['Id', 'LR'])\n",
    "lr_df['Id'] = lr_df.Id.astype(int)  \n",
    "\n",
    "# Merge the two dfs\n",
    "stats = spearman_df.merge(lr_df, on='Id')"
   ]
  },
  {
   "cell_type": "markdown",
   "metadata": {},
   "source": [
    "## Original point:"
   ]
  },
  {
   "cell_type": "code",
   "execution_count": null,
   "metadata": {},
   "outputs": [],
   "source": [
    "# 16643916099395694_trial_full\n",
    "original_trial_id = '16643916099395694'\n",
    "ETPath = resultsPath + 'ExpandingTuning/'\n",
    "predicted_ret_path = ETPath + 'predicted_returns/'\n",
    "trial_info_path = ETPath + 'trial_info/'\n",
    "\n",
    "predicted_ret_files = [f for f in listdir(predicted_ret_path) if isfile(join(predicted_ret_path, f))]\n",
    "trial_info_files = [f for f in listdir(trial_info_path) if isfile(join(trial_info_path, f))]\n",
    "\n",
    "for idx, file in enumerate(predicted_ret_files):\n",
    "    file_split = file.split('_')\n",
    "    if file_split[0] == original_trial_id:\n",
    "        df = pd.read_csv(predicted_ret_path + '/' + file, index_col=0)\n",
    "        original_spear = spearman(torch.tensor(df['predicted_ret']), torch.tensor(df['ret'])).item()\n",
    "\n",
    "\n",
    "for idx, file in enumerate(trial_info_files):\n",
    "    if file.split('_')[0] == original_trial_id:\n",
    "        with open(trial_info_path + '/' + file, 'r') as f:\n",
    "            data = json.load(f)\n",
    "        original_learning_rate = (data['params']['learning_rate'])"
   ]
  },
  {
   "cell_type": "code",
   "execution_count": null,
   "metadata": {},
   "outputs": [
    {
     "data": {
      "image/png": "[encoded data removed]",
      "text/plain": [
       "<Figure size 576x396 with 1 Axes>"
      ]
     },
     "metadata": {
      "needs_background": "light"
     },
     "output_type": "display_data"
    }
   ],
   "source": [
    "# \"Tableau 20\" colors as RGB.  \n",
    "tableau20 = [(31, 119, 180), (174, 199, 232), (255, 127, 14), (255, 187, 120),  \n",
    "             (44, 160, 44), (152, 223, 138), (214, 39, 40), (255, 152, 150),  \n",
    "             (148, 103, 189), (197, 176, 213), (140, 86, 75), (196, 156, 148),  \n",
    "             (227, 119, 194), (247, 182, 210), (127, 127, 127), (199, 199, 199),  \n",
    "             (188, 189, 34), (219, 219, 141), (23, 190, 207), (158, 218, 229)]  \n",
    "\n",
    "# Scale the RGB values to the [0, 1] range, which is the format matplotlib accepts.  \n",
    "for i in range(len(tableau20)):  \n",
    "    r, g, b = tableau20[i]  \n",
    "    tableau20[i] = (r / 255., g / 255., b / 255.)  \n",
    "\n",
    "# Common sizes: (10, 7.5) and (12, 9)  \n",
    "plt.figure(figsize=(8, 5.5))\n",
    "\n",
    "ax = plt.subplot(111)  \n",
    "ax.spines[\"top\"].set_visible(False)  \n",
    "ax.spines[\"bottom\"].set_visible(True)  \n",
    "ax.spines[\"right\"].set_visible(False)  \n",
    "ax.spines[\"left\"].set_visible(True)  \n",
    "\n",
    "ax.get_xaxis().tick_bottom()\n",
    "ax.get_yaxis().tick_left()\n",
    "\n",
    "\n",
    "# Plot\n",
    "plt.scatter(stats['LR'], stats['Spearman_Coefficient'], color=tableau20[19], s=120)\n",
    "plt.ticklabel_format(style='sci', axis='x', scilimits=(0,0))\n",
    "plt.ticklabel_format(style='sci', axis='y', scilimits=(0,0))\n",
    "plt.title('Learning rate vs. Spearman correlation coefficient', fontsize=18)\n",
    "plt.ylabel('Spearman coefficient',fontsize=15)\n",
    "# plt.xticks(np.linspace(0, 0.002, 0.01), fontsize=13)\n",
    "# plt.yticks(np.linspace(0, 0.07, 0.01), fontsize=13)\n",
    "plt.xlabel(\"Learning Rate\", fontsize=15)\n",
    "plt.ylim(.04, .068)\n",
    "plt.plot(original_learning_rate,original_spear,'ro', ms=10)\n",
    "# plt.grid(color='gray', linestyle='--', linewidth=.1)\n",
    "import matplotlib.patches as mpatches\n",
    "\n",
    "red_patch = mpatches.Patch(color='red', label='Original result')\n",
    "blue_patch = mpatches.Patch(color=tableau20[19], label='Grid search results')\n",
    "plt.legend(handles=[red_patch, blue_patch], loc='upper right', fontsize=13)\n",
    "\n",
    "plt.tight_layout()\n",
    "plt.show()\n",
    "\n",
    "\n",
    "# bbox_inches=\"tight\" removes all the extra whitespace on the edges of your plot.\n",
    "# plt.savefig(\"Returns_distribution.png\", bbox_inches=\"tight\")\n"
   ]
  },
  {
   "cell_type": "markdown",
   "metadata": {},
   "source": [
    "# Gu et al's grid search around learning rate - analysis"
   ]
  },
  {
   "cell_type": "code",
   "execution_count": null,
   "metadata": {},
   "outputs": [],
   "source": [
    "# Calculate all GridTuning1 spearman coefficients and check which is the best, can we say I used that architecture for the next step?"
   ]
  }
 ],
 "metadata": {
  "kernelspec": {
   "display_name": "Python 3.10.4 ('thesis')",
   "language": "python",
   "name": "python3"
  },
  "language_info": {
   "codemirror_mode": {
    "name": "ipython",
    "version": 3
   },
   "file_extension": ".py",
   "mimetype": "text/x-python",
   "name": "python",
   "nbconvert_exporter": "python",
   "pygments_lexer": "ipython3",
   "version": "3.10.4"
  },
  "orig_nbformat": 4,
  "vscode": {
   "interpreter": {
    "hash": "b4804d781847468e0794096453e716a44bf82c4d93fcc1a726a520e37d704781"
   }
  }
 },
 "nbformat": 4,
 "nbformat_minor": 2
}
