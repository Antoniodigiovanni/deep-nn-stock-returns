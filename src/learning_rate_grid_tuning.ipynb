{
 "cells": [
  {
   "cell_type": "code",
   "execution_count": 1,
   "metadata": {},
   "outputs": [],
   "source": [
    "from os import listdir\n",
    "from os.path import isfile, join\n",
    "import pandas as pd\n",
    "import torchmetrics as tm\n",
    "import torch\n",
    "import json\n",
    "import matplotlib.pyplot as plt\n",
    "import numpy as np\n",
    "import os"
   ]
  },
  {
   "cell_type": "markdown",
   "metadata": {},
   "source": [
    "# NN3 Grid search around learning rate - analysis"
   ]
  },
  {
   "cell_type": "markdown",
   "metadata": {},
   "source": [
    "#### *Should be done with real returns and not winsorized returns*"
   ]
  },
  {
   "cell_type": "code",
   "execution_count": 2,
   "metadata": {},
   "outputs": [],
   "source": [
    "cwd= os.getcwd()\n",
    "resultsPath = cwd + '/../saved/results_old/'"
   ]
  },
  {
   "cell_type": "code",
   "execution_count": 3,
   "metadata": {},
   "outputs": [],
   "source": [
    "NN3Path = resultsPath + 'NN3GridLearningRateTuning/'\n",
    "predicted_ret_path = NN3Path + 'predicted_returns/'\n",
    "trial_info_path = NN3Path + 'trial_info/'"
   ]
  },
  {
   "cell_type": "code",
   "execution_count": 4,
   "metadata": {},
   "outputs": [],
   "source": [
    "predicted_ret_files = [f for f in listdir(predicted_ret_path) if isfile(join(predicted_ret_path, f))]\n",
    "trial_info_files = [f for f in listdir(trial_info_path) if isfile(join(trial_info_path, f))]"
   ]
  },
  {
   "cell_type": "code",
   "execution_count": 5,
   "metadata": {},
   "outputs": [
    {
     "name": "stderr",
     "output_type": "stream",
     "text": [
      "/home/ge65cuw/anaconda3/envs/thesis/lib/python3.10/site-packages/torchmetrics/utilities/prints.py:36: UserWarning: Metric `SpearmanCorrcoef` will save all targets and predictions in the buffer. For large datasets, this may lead to large memory footprint.\n",
      "  warnings.warn(*args, **kwargs)\n"
     ]
    }
   ],
   "source": [
    "# spearman_coeffs = []\n",
    "spearman_coeffs = {}\n",
    "spearman = tm.SpearmanCorrCoef()\n",
    "\n",
    "for idx,file in enumerate(predicted_ret_files):\n",
    "    df = pd.read_csv(predicted_ret_path + '/' + file, index_col=0)\n",
    "    spear = spearman(torch.tensor(df['predicted_ret']), torch.tensor(df['ret']))\n",
    "    # print(f'{idx} has spearman coefficient of {spear.item():.3f}')\n",
    "    #spearman_coeffs.append(spear.item())\n",
    "    trial_id = file.split('_')[0]\n",
    "    spearman_coeffs[trial_id] = spear.item()\n",
    "\n",
    "# learning_rates = []\n",
    "learning_rates = {}\n",
    "\n",
    "for idx, file in enumerate(trial_info_files):\n",
    "    \n",
    "    with open(trial_info_path + '/' + file, 'r') as f:\n",
    "        data = json.load(f)\n",
    "    learning_rate = (data['params']['learning_rate'])\n",
    "    trial_id = file.split('_')[0] \n",
    "    # learning_rates.append(learning_rate)   \n",
    "    learning_rates[trial_id] = learning_rate  \n",
    "\n",
    "\n",
    "# Create df from dictionaries\n",
    "spearman_df = pd.DataFrame(spearman_coeffs.items(), columns=['Id', 'Spearman_Coefficient'])\n",
    "spearman_df['Id'] = spearman_df.Id.astype(int)\n",
    "lr_df = pd.DataFrame(learning_rates.items(), columns=['Id', 'LR'])\n",
    "lr_df['Id'] = lr_df.Id.astype(int)  \n",
    "\n",
    "# Merge the two dfs\n",
    "stats = spearman_df.merge(lr_df, on='Id')"
   ]
  },
  {
   "cell_type": "code",
   "execution_count": 6,
   "metadata": {},
   "outputs": [
    {
     "data": {
      "text/html": [
       "<div>\n",
       "<style scoped>\n",
       "    .dataframe tbody tr th:only-of-type {\n",
       "        vertical-align: middle;\n",
       "    }\n",
       "\n",
       "    .dataframe tbody tr th {\n",
       "        vertical-align: top;\n",
       "    }\n",
       "\n",
       "    .dataframe thead th {\n",
       "        text-align: right;\n",
       "    }\n",
       "</style>\n",
       "<table border=\"1\" class=\"dataframe\">\n",
       "  <thead>\n",
       "    <tr style=\"text-align: right;\">\n",
       "      <th></th>\n",
       "      <th>Id</th>\n",
       "      <th>Spearman_Coefficient</th>\n",
       "      <th>LR</th>\n",
       "    </tr>\n",
       "  </thead>\n",
       "  <tbody>\n",
       "    <tr>\n",
       "      <th>0</th>\n",
       "      <td>16660091510851426</td>\n",
       "      <td>0.066010</td>\n",
       "      <td>0.000200</td>\n",
       "    </tr>\n",
       "    <tr>\n",
       "      <th>1</th>\n",
       "      <td>16659974587135558</td>\n",
       "      <td>0.067496</td>\n",
       "      <td>0.000058</td>\n",
       "    </tr>\n",
       "    <tr>\n",
       "      <th>2</th>\n",
       "      <td>16659573347656214</td>\n",
       "      <td>0.067707</td>\n",
       "      <td>0.000068</td>\n",
       "    </tr>\n",
       "    <tr>\n",
       "      <th>3</th>\n",
       "      <td>16659513093165372</td>\n",
       "      <td>0.067496</td>\n",
       "      <td>0.000058</td>\n",
       "    </tr>\n",
       "    <tr>\n",
       "      <th>4</th>\n",
       "      <td>16659745269030252</td>\n",
       "      <td>0.066878</td>\n",
       "      <td>0.000108</td>\n",
       "    </tr>\n",
       "    <tr>\n",
       "      <th>5</th>\n",
       "      <td>16659800526498780</td>\n",
       "      <td>0.065517</td>\n",
       "      <td>0.000126</td>\n",
       "    </tr>\n",
       "    <tr>\n",
       "      <th>6</th>\n",
       "      <td>16660035606077354</td>\n",
       "      <td>0.062892</td>\n",
       "      <td>0.000171</td>\n",
       "    </tr>\n",
       "    <tr>\n",
       "      <th>7</th>\n",
       "      <td>16659856484283236</td>\n",
       "      <td>0.062516</td>\n",
       "      <td>0.000147</td>\n",
       "    </tr>\n",
       "    <tr>\n",
       "      <th>8</th>\n",
       "      <td>16659687915781436</td>\n",
       "      <td>0.065737</td>\n",
       "      <td>0.000093</td>\n",
       "    </tr>\n",
       "    <tr>\n",
       "      <th>9</th>\n",
       "      <td>16659630756301174</td>\n",
       "      <td>0.067246</td>\n",
       "      <td>0.000079</td>\n",
       "    </tr>\n",
       "    <tr>\n",
       "      <th>10</th>\n",
       "      <td>16659912192915382</td>\n",
       "      <td>0.066518</td>\n",
       "      <td>0.000050</td>\n",
       "    </tr>\n",
       "    <tr>\n",
       "      <th>11</th>\n",
       "      <td>16659450415098292</td>\n",
       "      <td>0.066518</td>\n",
       "      <td>0.000050</td>\n",
       "    </tr>\n",
       "  </tbody>\n",
       "</table>\n",
       "</div>"
      ],
      "text/plain": [
       "                   Id  Spearman_Coefficient        LR\n",
       "0   16660091510851426              0.066010  0.000200\n",
       "1   16659974587135558              0.067496  0.000058\n",
       "2   16659573347656214              0.067707  0.000068\n",
       "3   16659513093165372              0.067496  0.000058\n",
       "4   16659745269030252              0.066878  0.000108\n",
       "5   16659800526498780              0.065517  0.000126\n",
       "6   16660035606077354              0.062892  0.000171\n",
       "7   16659856484283236              0.062516  0.000147\n",
       "8   16659687915781436              0.065737  0.000093\n",
       "9   16659630756301174              0.067246  0.000079\n",
       "10  16659912192915382              0.066518  0.000050\n",
       "11  16659450415098292              0.066518  0.000050"
      ]
     },
     "execution_count": 6,
     "metadata": {},
     "output_type": "execute_result"
    }
   ],
   "source": [
    "# NN3 Stats (Spearman and LR)\n",
    "stats"
   ]
  },
  {
   "cell_type": "markdown",
   "metadata": {},
   "source": [
    "## Add original point:"
   ]
  },
  {
   "cell_type": "code",
   "execution_count": 7,
   "metadata": {},
   "outputs": [
    {
     "name": "stderr",
     "output_type": "stream",
     "text": [
      "/home/ge65cuw/anaconda3/envs/thesis/lib/python3.10/site-packages/torchmetrics/utilities/prints.py:36: UserWarning: Metric `SpearmanCorrcoef` will save all targets and predictions in the buffer. For large datasets, this may lead to large memory footprint.\n",
      "  warnings.warn(*args, **kwargs)\n"
     ]
    }
   ],
   "source": [
    "# 16647359418773646_trial_full\n",
    "ETPath = resultsPath + 'ExpandingTuning/'\n",
    "predicted_ret_path = ETPath + 'predicted_returns/'\n",
    "trial_info_path = ETPath + 'trial_info/'\n",
    "\n",
    "spearman = tm.SpearmanCorrCoef()\n",
    "predicted_ret_files = [f for f in listdir(predicted_ret_path) if isfile(join(predicted_ret_path, f))]\n",
    "trial_info_files = [f for f in listdir(trial_info_path) if isfile(join(trial_info_path, f))]\n",
    "\n",
    "for idx, file in enumerate(predicted_ret_files):\n",
    "    file_split = file.split('_')\n",
    "    if file_split[0] == '16647359418773646':\n",
    "        df = pd.read_csv(predicted_ret_path + '/' + file, index_col=0)\n",
    "        original_spear = spearman(torch.tensor(df['predicted_ret']), torch.tensor(df['ret'])).item()\n",
    "\n",
    "\n",
    "for idx, file in enumerate(trial_info_files):\n",
    "    if file.split('_')[0] == '16647359418773646':\n",
    "        with open(trial_info_path + '/' + file, 'r') as f:\n",
    "            data = json.load(f)\n",
    "        original_learning_rate = (data['params']['learning_rate'])\n"
   ]
  },
  {
   "cell_type": "code",
   "execution_count": 8,
   "metadata": {},
   "outputs": [
    {
     "data": {
      "text/plain": [
       "0.06550802719266571"
      ]
     },
     "execution_count": 8,
     "metadata": {},
     "output_type": "execute_result"
    }
   ],
   "source": [
    "original_spear"
   ]
  },
  {
   "cell_type": "code",
   "execution_count": 25,
   "metadata": {},
   "outputs": [
    {
     "data": {
      "image/png": "[encoded data removed]",
      "text/plain": [
       "<Figure size 576x396 with 1 Axes>"
      ]
     },
     "metadata": {
      "needs_background": "light"
     },
     "output_type": "display_data"
    }
   ],
   "source": [
    "\"\"\"# Plot\n",
    "plt.scatter(stats['LR'], stats['Spearman_Coefficient'])\n",
    "plt.ticklabel_format(style='sci', axis='x', scilimits=(0,0))\n",
    "plt.ticklabel_format(style='sci', axis='y', scilimits=(0,0))\n",
    "plt.title('Learning rate vs. Spearman correlation coefficient')\n",
    "plt.xlabel('Learning Rate')\n",
    "plt.ylabel('Spearman coefficient')\n",
    "plt.plot(original_learning_rate,original_spear,'ro')\n",
    "plt.grid() #Keep?\n",
    "plt.tight_layout()\"\"\"\n",
    "# \"Tableau 20\" colors as RGB.  \n",
    "tableau20 = [(31, 119, 180), (174, 199, 232), (255, 127, 14), (255, 187, 120),  \n",
    "             (44, 160, 44), (152, 223, 138), (214, 39, 40), (255, 152, 150),  \n",
    "             (148, 103, 189), (197, 176, 213), (140, 86, 75), (196, 156, 148),  \n",
    "             (227, 119, 194), (247, 182, 210), (127, 127, 127), (199, 199, 199),  \n",
    "             (188, 189, 34), (219, 219, 141), (23, 190, 207), (158, 218, 229)]  \n",
    "\n",
    "# Scale the RGB values to the [0, 1] range, which is the format matplotlib accepts.  \n",
    "for i in range(len(tableau20)):  \n",
    "    r, g, b = tableau20[i]  \n",
    "    tableau20[i] = (r / 255., g / 255., b / 255.)  \n",
    "\n",
    "# Common sizes: (10, 7.5) and (12, 9)  \n",
    "plt.figure(figsize=(8, 5.5))\n",
    "\n",
    "ax = plt.subplot(111)  \n",
    "ax.spines[\"top\"].set_visible(False)  \n",
    "ax.spines[\"bottom\"].set_visible(True)  \n",
    "ax.spines[\"right\"].set_visible(False)  \n",
    "ax.spines[\"left\"].set_visible(True)  \n",
    "\n",
    "ax.get_xaxis().tick_bottom()\n",
    "ax.get_yaxis().tick_left()\n",
    "\n",
    "# Plot\n",
    "plt.scatter(stats['LR'], stats['Spearman_Coefficient'], color=tableau20[19], s=120)\n",
    "plt.ticklabel_format(style='sci', axis='x', scilimits=(0,0))\n",
    "plt.ticklabel_format(style='sci', axis='y', scilimits=(0,0))\n",
    "# plt.title('Learning rate vs. Spearman correlation coefficient', fontsize=18)\n",
    "plt.ylabel('Spearman coefficient',fontsize=15)\n",
    "# plt.xticks(np.linspace(0, 0.002, 0.01), fontsize=13)\n",
    "# plt.yticks(np.linspace(0, 0.07, 0.01), fontsize=13)\n",
    "plt.xlabel(\"Learning Rate\", fontsize=15)\n",
    "plt.ylim(.06, .0725)\n",
    "plt.plot(original_learning_rate,original_spear,'ro', ms=10)\n",
    "# plt.grid(color='gray', linestyle='--', linewidth=.15)\n",
    "import matplotlib.patches as mpatches\n",
    "\n",
    "red_patch = mpatches.Patch(color='red', label='Original result')\n",
    "blue_patch = mpatches.Patch(color=tableau20[19], label='Grid search results')\n",
    "plt.legend(handles=[red_patch, blue_patch], loc='upper right', fontsize=13)\n",
    "\n",
    "plt.tight_layout()\n",
    "plt.show()\n",
    "\n",
    "\n",
    "# bbox_inches=\"tight\" removes all the extra whitespace on the edges of your plot.\n",
    "# plt.savefig(\"Returns_distribution.png\", bbox_inches=\"tight\")\n"
   ]
  },
  {
   "cell_type": "markdown",
   "metadata": {},
   "source": [
    "# NN9 Grid search around learning rate - analysis"
   ]
  },
  {
   "cell_type": "code",
   "execution_count": 30,
   "metadata": {},
   "outputs": [],
   "source": [
    "resultsPath = '../../saved/results/'\n",
    "\n",
    "NN9Path = resultsPath + 'NN9GridLearningRateTuning/'\n",
    "predicted_ret_path = NN9Path + 'predicted_returns/'\n",
    "trial_info_path = NN9Path + 'trial_info/'"
   ]
  },
  {
   "cell_type": "code",
   "execution_count": 31,
   "metadata": {},
   "outputs": [],
   "source": [
    "predicted_ret_files = [f for f in listdir(predicted_ret_path) if isfile(join(predicted_ret_path, f))]\n",
    "trial_info_files = [f for f in listdir(trial_info_path) if isfile(join(trial_info_path, f))]"
   ]
  },
  {
   "cell_type": "code",
   "execution_count": 32,
   "metadata": {},
   "outputs": [
    {
     "name": "stderr",
     "output_type": "stream",
     "text": [
      "/home/ge65cuw/anaconda3/envs/thesis/lib/python3.10/site-packages/torchmetrics/utilities/prints.py:36: UserWarning: Metric `SpearmanCorrcoef` will save all targets and predictions in the buffer. For large datasets, this may lead to large memory footprint.\n",
      "  warnings.warn(*args, **kwargs)\n"
     ]
    },
    {
     "ename": "KeyboardInterrupt",
     "evalue": "",
     "output_type": "error",
     "traceback": [
      "\u001b[0;31m---------------------------------------------------------------------------\u001b[0m",
      "\u001b[0;31mKeyboardInterrupt\u001b[0m                         Traceback (most recent call last)",
      "\u001b[1;32m/home/ge65cuw/thesis/src/results_generation/learning_rate_grid_tuning.ipynb Cell 15\u001b[0m in \u001b[0;36m<cell line: 5>\u001b[0;34m()\u001b[0m\n\u001b[1;32m      <a href='vscode-notebook-cell://ssh-remote%2B7b22686f73744e616d65223a2254554d5f536572766572227d/home/ge65cuw/thesis/src/results_generation/learning_rate_grid_tuning.ipynb#X23sdnNjb2RlLXJlbW90ZQ%3D%3D?line=4'>5</a>\u001b[0m \u001b[39mfor\u001b[39;00m idx,file \u001b[39min\u001b[39;00m \u001b[39menumerate\u001b[39m(predicted_ret_files):\n\u001b[1;32m      <a href='vscode-notebook-cell://ssh-remote%2B7b22686f73744e616d65223a2254554d5f536572766572227d/home/ge65cuw/thesis/src/results_generation/learning_rate_grid_tuning.ipynb#X23sdnNjb2RlLXJlbW90ZQ%3D%3D?line=5'>6</a>\u001b[0m     df \u001b[39m=\u001b[39m pd\u001b[39m.\u001b[39mread_csv(predicted_ret_path \u001b[39m+\u001b[39m \u001b[39m'\u001b[39m\u001b[39m/\u001b[39m\u001b[39m'\u001b[39m \u001b[39m+\u001b[39m file, index_col\u001b[39m=\u001b[39m\u001b[39m0\u001b[39m)\n\u001b[0;32m----> <a href='vscode-notebook-cell://ssh-remote%2B7b22686f73744e616d65223a2254554d5f536572766572227d/home/ge65cuw/thesis/src/results_generation/learning_rate_grid_tuning.ipynb#X23sdnNjb2RlLXJlbW90ZQ%3D%3D?line=6'>7</a>\u001b[0m     spear \u001b[39m=\u001b[39m spearman(torch\u001b[39m.\u001b[39mtensor(df[\u001b[39m'\u001b[39m\u001b[39mpredicted_ret\u001b[39m\u001b[39m'\u001b[39m]), torch\u001b[39m.\u001b[39;49mtensor(df[\u001b[39m'\u001b[39;49m\u001b[39mret\u001b[39;49m\u001b[39m'\u001b[39;49m]))\n\u001b[1;32m      <a href='vscode-notebook-cell://ssh-remote%2B7b22686f73744e616d65223a2254554d5f536572766572227d/home/ge65cuw/thesis/src/results_generation/learning_rate_grid_tuning.ipynb#X23sdnNjb2RlLXJlbW90ZQ%3D%3D?line=7'>8</a>\u001b[0m     \u001b[39m# print(f'{idx} has spearman coefficient of {spear.item():.3f}')\u001b[39;00m\n\u001b[1;32m      <a href='vscode-notebook-cell://ssh-remote%2B7b22686f73744e616d65223a2254554d5f536572766572227d/home/ge65cuw/thesis/src/results_generation/learning_rate_grid_tuning.ipynb#X23sdnNjb2RlLXJlbW90ZQ%3D%3D?line=8'>9</a>\u001b[0m     \u001b[39m#spearman_coeffs.append(spear.item())\u001b[39;00m\n\u001b[1;32m     <a href='vscode-notebook-cell://ssh-remote%2B7b22686f73744e616d65223a2254554d5f536572766572227d/home/ge65cuw/thesis/src/results_generation/learning_rate_grid_tuning.ipynb#X23sdnNjb2RlLXJlbW90ZQ%3D%3D?line=9'>10</a>\u001b[0m     trial_id \u001b[39m=\u001b[39m file\u001b[39m.\u001b[39msplit(\u001b[39m'\u001b[39m\u001b[39m_\u001b[39m\u001b[39m'\u001b[39m)[\u001b[39m0\u001b[39m]\n",
      "File \u001b[0;32m~/anaconda3/envs/thesis/lib/python3.10/site-packages/pandas/core/series.py:943\u001b[0m, in \u001b[0;36mSeries.__getitem__\u001b[0;34m(self, key)\u001b[0m\n\u001b[1;32m    938\u001b[0m \u001b[39mdef\u001b[39;00m \u001b[39m_slice\u001b[39m(\u001b[39mself\u001b[39m, slobj: \u001b[39mslice\u001b[39m, axis: \u001b[39mint\u001b[39m \u001b[39m=\u001b[39m \u001b[39m0\u001b[39m) \u001b[39m-\u001b[39m\u001b[39m>\u001b[39m Series:\n\u001b[1;32m    939\u001b[0m     \u001b[39m# axis kwarg is retained for compat with NDFrame method\u001b[39;00m\n\u001b[1;32m    940\u001b[0m     \u001b[39m#  _slice is *always* positional\u001b[39;00m\n\u001b[1;32m    941\u001b[0m     \u001b[39mreturn\u001b[39;00m \u001b[39mself\u001b[39m\u001b[39m.\u001b[39m_get_values(slobj)\n\u001b[0;32m--> 943\u001b[0m \u001b[39mdef\u001b[39;00m \u001b[39m__getitem__\u001b[39m(\u001b[39mself\u001b[39m, key):\n\u001b[1;32m    944\u001b[0m     check_deprecated_indexers(key)\n\u001b[1;32m    945\u001b[0m     key \u001b[39m=\u001b[39m com\u001b[39m.\u001b[39mapply_if_callable(key, \u001b[39mself\u001b[39m)\n",
      "\u001b[0;31mKeyboardInterrupt\u001b[0m: "
     ]
    }
   ],
   "source": [
    "# spearman_coeffs = []\n",
    "spearman_coeffs = {}\n",
    "spearman = tm.SpearmanCorrCoef()\n",
    "\n",
    "for idx,file in enumerate(predicted_ret_files):\n",
    "    df = pd.read_csv(predicted_ret_path + '/' + file, index_col=0)\n",
    "    spear = spearman(torch.tensor(df['predicted_ret']), torch.tensor(df['ret']))\n",
    "    # print(f'{idx} has spearman coefficient of {spear.item():.3f}')\n",
    "    #spearman_coeffs.append(spear.item())\n",
    "    trial_id = file.split('_')[0]\n",
    "    spearman_coeffs[trial_id] = spear.item()\n",
    "\n",
    "# learning_rates = []\n",
    "learning_rates = {}\n",
    "\n",
    "for idx, file in enumerate(trial_info_files):\n",
    "    \n",
    "    with open(trial_info_path + '/' + file, 'r') as f:\n",
    "        data = json.load(f)\n",
    "    learning_rate = (data['params']['learning_rate'])\n",
    "    trial_id = file.split('_')[0] \n",
    "    # learning_rates.append(learning_rate)   \n",
    "    learning_rates[trial_id] = learning_rate  \n",
    "\n",
    "\n",
    "# Create df from dictionaries\n",
    "spearman_df = pd.DataFrame(spearman_coeffs.items(), columns=['Id', 'Spearman_Coefficient'])\n",
    "spearman_df['Id'] = spearman_df.Id.astype(int)\n",
    "lr_df = pd.DataFrame(learning_rates.items(), columns=['Id', 'LR'])\n",
    "lr_df['Id'] = lr_df.Id.astype(int)  \n",
    "\n",
    "# Merge the two dfs\n",
    "stats = spearman_df.merge(lr_df, on='Id')"
   ]
  },
  {
   "cell_type": "markdown",
   "metadata": {},
   "source": [
    "## Original point:"
   ]
  },
  {
   "cell_type": "code",
   "execution_count": null,
   "metadata": {},
   "outputs": [],
   "source": [
    "# 16643916099395694_trial_full\n",
    "original_trial_id = '16643916099395694'\n",
    "ETPath = resultsPath + 'ExpandingTuning/'\n",
    "predicted_ret_path = ETPath + 'predicted_returns/'\n",
    "trial_info_path = ETPath + 'trial_info/'\n",
    "\n",
    "predicted_ret_files = [f for f in listdir(predicted_ret_path) if isfile(join(predicted_ret_path, f))]\n",
    "trial_info_files = [f for f in listdir(trial_info_path) if isfile(join(trial_info_path, f))]\n",
    "\n",
    "for idx, file in enumerate(predicted_ret_files):\n",
    "    file_split = file.split('_')\n",
    "    if file_split[0] == original_trial_id:\n",
    "        df = pd.read_csv(predicted_ret_path + '/' + file, index_col=0)\n",
    "        original_spear = spearman(torch.tensor(df['predicted_ret']), torch.tensor(df['ret'])).item()\n",
    "\n",
    "\n",
    "for idx, file in enumerate(trial_info_files):\n",
    "    if file.split('_')[0] == original_trial_id:\n",
    "        with open(trial_info_path + '/' + file, 'r') as f:\n",
    "            data = json.load(f)\n",
    "        original_learning_rate = (data['params']['learning_rate'])"
   ]
  },
  {
   "cell_type": "code",
   "execution_count": null,
   "metadata": {},
   "outputs": [
    {
     "data": {
      "image/png": "[encoded data removed]",
      "text/plain": [
       "<Figure size 576x396 with 1 Axes>"
      ]
     },
     "metadata": {
      "needs_background": "light"
     },
     "output_type": "display_data"
    }
   ],
   "source": [
    "# \"Tableau 20\" colors as RGB.  \n",
    "tableau20 = [(31, 119, 180), (174, 199, 232), (255, 127, 14), (255, 187, 120),  \n",
    "             (44, 160, 44), (152, 223, 138), (214, 39, 40), (255, 152, 150),  \n",
    "             (148, 103, 189), (197, 176, 213), (140, 86, 75), (196, 156, 148),  \n",
    "             (227, 119, 194), (247, 182, 210), (127, 127, 127), (199, 199, 199),  \n",
    "             (188, 189, 34), (219, 219, 141), (23, 190, 207), (158, 218, 229)]  \n",
    "\n",
    "# Scale the RGB values to the [0, 1] range, which is the format matplotlib accepts.  \n",
    "for i in range(len(tableau20)):  \n",
    "    r, g, b = tableau20[i]  \n",
    "    tableau20[i] = (r / 255., g / 255., b / 255.)  \n",
    "\n",
    "# Common sizes: (10, 7.5) and (12, 9)  \n",
    "plt.figure(figsize=(8, 5.5))\n",
    "\n",
    "ax = plt.subplot(111)  \n",
    "ax.spines[\"top\"].set_visible(False)  \n",
    "ax.spines[\"bottom\"].set_visible(True)  \n",
    "ax.spines[\"right\"].set_visible(False)  \n",
    "ax.spines[\"left\"].set_visible(True)  \n",
    "\n",
    "ax.get_xaxis().tick_bottom()\n",
    "ax.get_yaxis().tick_left()\n",
    "\n",
    "\n",
    "# Plot\n",
    "plt.scatter(stats['LR'], stats['Spearman_Coefficient'], color=tableau20[19], s=120)\n",
    "plt.ticklabel_format(style='sci', axis='x', scilimits=(0,0))\n",
    "plt.ticklabel_format(style='sci', axis='y', scilimits=(0,0))\n",
    "plt.title('Learning rate vs. Spearman correlation coefficient', fontsize=18)\n",
    "plt.ylabel('Spearman coefficient',fontsize=15)\n",
    "# plt.xticks(np.linspace(0, 0.002, 0.01), fontsize=13)\n",
    "# plt.yticks(np.linspace(0, 0.07, 0.01), fontsize=13)\n",
    "plt.xlabel(\"Learning Rate\", fontsize=15)\n",
    "plt.ylim(.04, .068)\n",
    "plt.plot(original_learning_rate,original_spear,'ro', ms=10)\n",
    "# plt.grid(color='gray', linestyle='--', linewidth=.1)\n",
    "import matplotlib.patches as mpatches\n",
    "\n",
    "red_patch = mpatches.Patch(color='red', label='Original result')\n",
    "blue_patch = mpatches.Patch(color=tableau20[19], label='Grid search results')\n",
    "plt.legend(handles=[red_patch, blue_patch], loc='upper right', fontsize=13)\n",
    "\n",
    "plt.tight_layout()\n",
    "plt.show()\n",
    "\n",
    "\n",
    "# bbox_inches=\"tight\" removes all the extra whitespace on the edges of your plot.\n",
    "# plt.savefig(\"Returns_distribution.png\", bbox_inches=\"tight\")\n"
   ]
  },
  {
   "cell_type": "markdown",
   "metadata": {},
   "source": [
    "# Gu et al's grid search around learning rate - analysis"
   ]
  },
  {
   "cell_type": "code",
   "execution_count": 26,
   "metadata": {},
   "outputs": [],
   "source": [
    "# Calculate all GridTuning1 spearman coefficients and check which is the best, can we say I used that architecture for the next step?\n",
    "GuGrid1Path = resultsPath + 'GuExperiment1/'\n",
    "predicted_ret_path = GuGrid1Path + 'predicted_returns/'\n",
    "trial_info_path = GuGrid1Path + 'trial_info/'\n",
    "\n",
    "predicted_ret_files = [f for f in listdir(predicted_ret_path) if isfile(join(predicted_ret_path, f))]\n",
    "trial_info_files = [f for f in listdir(trial_info_path) if isfile(join(trial_info_path, f))]"
   ]
  },
  {
   "cell_type": "code",
   "execution_count": 27,
   "metadata": {},
   "outputs": [
    {
     "name": "stderr",
     "output_type": "stream",
     "text": [
      "/home/ge65cuw/anaconda3/envs/thesis/lib/python3.10/site-packages/torchmetrics/utilities/prints.py:36: UserWarning: Metric `SpearmanCorrcoef` will save all targets and predictions in the buffer. For large datasets, this may lead to large memory footprint.\n",
      "  warnings.warn(*args, **kwargs)\n"
     ]
    }
   ],
   "source": [
    "# spearman_coeffs = []\n",
    "spearman_coeffs = {}\n",
    "spearman = tm.SpearmanCorrCoef()\n",
    "\n",
    "for idx,file in enumerate(predicted_ret_files):\n",
    "    df = pd.read_csv(predicted_ret_path + '/' + file, index_col=0)\n",
    "    spear = spearman(torch.tensor(df['predicted_ret']), torch.tensor(df['ret']))\n",
    "    # print(f'{idx} has spearman coefficient of {spear.item():.3f}')\n",
    "    #spearman_coeffs.append(spear.item())\n",
    "    trial_id = file.split('_')[0]\n",
    "    spearman_coeffs[trial_id] = spear.item()\n",
    "\n",
    "# learning_rates = []\n",
    "learning_rates = {}\n",
    "results_df = pd.DataFrame()\n",
    "for idx, file in enumerate(trial_info_files):\n",
    "    \n",
    "    with open(trial_info_path + '/' + file, 'r') as f:\n",
    "        data = json.load(f)\n",
    "    learning_rate = (data['params']['learning_rate'])\n",
    "    l1_lambda = data['params']['l1_lambda1']\n",
    "    adam_beta1 = data['params']['adam_beta_1']\n",
    "    adam_beta2 = data['params']['adam_beta_2']\n",
    "    trial_id = file.split('_')[0] \n",
    "    # learning_rates[trial_id] = learning_rate  \n",
    "    temp_df = pd.DataFrame(data['params'], index=[0])\n",
    "    temp_df['Id'] = trial_id\n",
    "    results_df = pd.concat([results_df, temp_df], ignore_index=True)\n",
    "\n",
    "# Create df from dictionaries\n",
    "spearman_df = pd.DataFrame(spearman_coeffs.items(), columns=['Id', 'Spearman_Coefficient'])\n",
    "spearman_df['Id'] = spearman_df.Id.astype(int)\n",
    "# lr_df = pd.DataFrame(learning_rates.items(), columns=['Id', 'LR'])\n",
    "# lr_df['Id'] = lr_df.Id.astype(int)  \n",
    "\n",
    "# Merge the two dfs\n",
    "# stats = spearman_df.merge(lr_df, on='Id')\n",
    "spearman_df.Id = spearman_df.Id.astype(int)\n",
    "results_df.Id = results_df.Id.astype(int)\n",
    "stats = spearman_df.merge(results_df, on='Id')"
   ]
  },
  {
   "cell_type": "code",
   "execution_count": 28,
   "metadata": {},
   "outputs": [
    {
     "data": {
      "text/html": [
       "<div>\n",
       "<style scoped>\n",
       "    .dataframe tbody tr th:only-of-type {\n",
       "        vertical-align: middle;\n",
       "    }\n",
       "\n",
       "    .dataframe tbody tr th {\n",
       "        vertical-align: top;\n",
       "    }\n",
       "\n",
       "    .dataframe thead th {\n",
       "        text-align: right;\n",
       "    }\n",
       "</style>\n",
       "<table border=\"1\" class=\"dataframe\">\n",
       "  <thead>\n",
       "    <tr style=\"text-align: right;\">\n",
       "      <th></th>\n",
       "      <th>Id</th>\n",
       "      <th>Spearman_Coefficient</th>\n",
       "      <th>learning_rate</th>\n",
       "      <th>l1_lambda1</th>\n",
       "      <th>adam_beta_1</th>\n",
       "      <th>adam_beta_2</th>\n",
       "    </tr>\n",
       "  </thead>\n",
       "  <tbody>\n",
       "    <tr>\n",
       "      <th>2</th>\n",
       "      <td>16641446857256002</td>\n",
       "      <td>0.070277</td>\n",
       "      <td>0.010</td>\n",
       "      <td>0.00001</td>\n",
       "      <td>0.8</td>\n",
       "      <td>0.999</td>\n",
       "    </tr>\n",
       "    <tr>\n",
       "      <th>8</th>\n",
       "      <td>16641537519500850</td>\n",
       "      <td>0.069392</td>\n",
       "      <td>0.010</td>\n",
       "      <td>0.00001</td>\n",
       "      <td>0.9</td>\n",
       "      <td>0.999</td>\n",
       "    </tr>\n",
       "    <tr>\n",
       "      <th>3</th>\n",
       "      <td>16641354041604962</td>\n",
       "      <td>0.067436</td>\n",
       "      <td>0.005</td>\n",
       "      <td>0.00001</td>\n",
       "      <td>0.9</td>\n",
       "      <td>0.999</td>\n",
       "    </tr>\n",
       "    <tr>\n",
       "      <th>1</th>\n",
       "      <td>16641445558551988</td>\n",
       "      <td>0.066434</td>\n",
       "      <td>0.010</td>\n",
       "      <td>0.00001</td>\n",
       "      <td>0.8</td>\n",
       "      <td>0.990</td>\n",
       "    </tr>\n",
       "    <tr>\n",
       "      <th>4</th>\n",
       "      <td>16641340448865242</td>\n",
       "      <td>0.066318</td>\n",
       "      <td>0.005</td>\n",
       "      <td>0.00001</td>\n",
       "      <td>0.9</td>\n",
       "      <td>0.990</td>\n",
       "    </tr>\n",
       "    <tr>\n",
       "      <th>11</th>\n",
       "      <td>16641534819056638</td>\n",
       "      <td>0.066263</td>\n",
       "      <td>0.010</td>\n",
       "      <td>0.00001</td>\n",
       "      <td>0.9</td>\n",
       "      <td>0.990</td>\n",
       "    </tr>\n",
       "    <tr>\n",
       "      <th>6</th>\n",
       "      <td>16641258163301814</td>\n",
       "      <td>0.065895</td>\n",
       "      <td>0.005</td>\n",
       "      <td>0.00001</td>\n",
       "      <td>0.8</td>\n",
       "      <td>0.999</td>\n",
       "    </tr>\n",
       "    <tr>\n",
       "      <th>7</th>\n",
       "      <td>16641080896201272</td>\n",
       "      <td>0.065260</td>\n",
       "      <td>0.001</td>\n",
       "      <td>0.00001</td>\n",
       "      <td>0.8</td>\n",
       "      <td>0.990</td>\n",
       "    </tr>\n",
       "    <tr>\n",
       "      <th>0</th>\n",
       "      <td>16641164093398536</td>\n",
       "      <td>0.065035</td>\n",
       "      <td>0.001</td>\n",
       "      <td>0.00001</td>\n",
       "      <td>0.9</td>\n",
       "      <td>0.990</td>\n",
       "    </tr>\n",
       "    <tr>\n",
       "      <th>5</th>\n",
       "      <td>16641164443646428</td>\n",
       "      <td>0.064378</td>\n",
       "      <td>0.001</td>\n",
       "      <td>0.00001</td>\n",
       "      <td>0.9</td>\n",
       "      <td>0.999</td>\n",
       "    </tr>\n",
       "    <tr>\n",
       "      <th>10</th>\n",
       "      <td>16641080894077970</td>\n",
       "      <td>0.063659</td>\n",
       "      <td>0.001</td>\n",
       "      <td>0.00001</td>\n",
       "      <td>0.8</td>\n",
       "      <td>0.999</td>\n",
       "    </tr>\n",
       "    <tr>\n",
       "      <th>9</th>\n",
       "      <td>16641257433675918</td>\n",
       "      <td>0.061827</td>\n",
       "      <td>0.005</td>\n",
       "      <td>0.00001</td>\n",
       "      <td>0.8</td>\n",
       "      <td>0.990</td>\n",
       "    </tr>\n",
       "  </tbody>\n",
       "</table>\n",
       "</div>"
      ],
      "text/plain": [
       "                   Id  Spearman_Coefficient  learning_rate  l1_lambda1  \\\n",
       "2   16641446857256002              0.070277          0.010     0.00001   \n",
       "8   16641537519500850              0.069392          0.010     0.00001   \n",
       "3   16641354041604962              0.067436          0.005     0.00001   \n",
       "1   16641445558551988              0.066434          0.010     0.00001   \n",
       "4   16641340448865242              0.066318          0.005     0.00001   \n",
       "11  16641534819056638              0.066263          0.010     0.00001   \n",
       "6   16641258163301814              0.065895          0.005     0.00001   \n",
       "7   16641080896201272              0.065260          0.001     0.00001   \n",
       "0   16641164093398536              0.065035          0.001     0.00001   \n",
       "5   16641164443646428              0.064378          0.001     0.00001   \n",
       "10  16641080894077970              0.063659          0.001     0.00001   \n",
       "9   16641257433675918              0.061827          0.005     0.00001   \n",
       "\n",
       "    adam_beta_1  adam_beta_2  \n",
       "2           0.8        0.999  \n",
       "8           0.9        0.999  \n",
       "3           0.9        0.999  \n",
       "1           0.8        0.990  \n",
       "4           0.9        0.990  \n",
       "11          0.9        0.990  \n",
       "6           0.8        0.999  \n",
       "7           0.8        0.990  \n",
       "0           0.9        0.990  \n",
       "5           0.9        0.999  \n",
       "10          0.8        0.999  \n",
       "9           0.8        0.990  "
      ]
     },
     "execution_count": 28,
     "metadata": {},
     "output_type": "execute_result"
    }
   ],
   "source": [
    "stats.sort_values(by='Spearman_Coefficient', ascending=False)"
   ]
  },
  {
   "cell_type": "code",
   "execution_count": 29,
   "metadata": {},
   "outputs": [
    {
     "data": {
      "text/plain": [
       "l1_lambda1  adam_beta_1  adam_beta_2\n",
       "0.00001     0.8          0.990          0.064507\n",
       "                         0.999          0.066610\n",
       "            0.9          0.990          0.065872\n",
       "                         0.999          0.067069\n",
       "Name: Spearman_Coefficient, dtype: float64"
      ]
     },
     "execution_count": 29,
     "metadata": {},
     "output_type": "execute_result"
    }
   ],
   "source": [
    "stats.groupby(['l1_lambda1', 'adam_beta_1', 'adam_beta_2'])['Spearman_Coefficient'].mean()"
   ]
  },
  {
   "cell_type": "markdown",
   "metadata": {},
   "source": [
    "## Part 2 Grid search"
   ]
  },
  {
   "cell_type": "markdown",
   "metadata": {},
   "source": [
    "Hyperparameters:\n",
    "- Learning rate: tunable between 0.01 and 0.1\n",
    "- Adam Beta 1: 0.9\n",
    "- Adam Beta 2: 0.999\n",
    "- L1 lambda: 1e-5"
   ]
  },
  {
   "cell_type": "code",
   "execution_count": 30,
   "metadata": {},
   "outputs": [],
   "source": [
    "GuPart2Path = resultsPath + 'GuExperiment2/'\n",
    "predicted_ret_path = GuPart2Path + 'predicted_returns/'\n",
    "trial_info_path = GuPart2Path + 'trial_info/'\n",
    "\n",
    "predicted_ret_files = [f for f in listdir(predicted_ret_path) if isfile(join(predicted_ret_path, f))]\n",
    "trial_info_files = [f for f in listdir(trial_info_path) if isfile(join(trial_info_path, f))]"
   ]
  },
  {
   "cell_type": "code",
   "execution_count": null,
   "metadata": {},
   "outputs": [],
   "source": []
  },
  {
   "cell_type": "code",
   "execution_count": 31,
   "metadata": {},
   "outputs": [
    {
     "name": "stderr",
     "output_type": "stream",
     "text": [
      "/home/ge65cuw/anaconda3/envs/thesis/lib/python3.10/site-packages/torchmetrics/utilities/prints.py:36: UserWarning: Metric `SpearmanCorrcoef` will save all targets and predictions in the buffer. For large datasets, this may lead to large memory footprint.\n",
      "  warnings.warn(*args, **kwargs)\n"
     ]
    }
   ],
   "source": [
    "# spearman_coeffs = []\n",
    "spearman_coeffs = {}\n",
    "spearman = tm.SpearmanCorrCoef()\n",
    "\n",
    "for idx,file in enumerate(predicted_ret_files):\n",
    "    df = pd.read_csv(predicted_ret_path + '/' + file, index_col=0)\n",
    "    spear = spearman(torch.tensor(df['predicted_ret']), torch.tensor(df['ret']))\n",
    "    # print(f'{idx} has spearman coefficient of {spear.item():.3f}')\n",
    "    #spearman_coeffs.append(spear.item())\n",
    "    trial_id = file.split('_')[0]\n",
    "    spearman_coeffs[trial_id] = spear.item()\n",
    "\n",
    "# learning_rates = []\n",
    "learning_rates = {}\n",
    "\n",
    "for idx, file in enumerate(trial_info_files):\n",
    "    \n",
    "    with open(trial_info_path + '/' + file, 'r') as f:\n",
    "        data = json.load(f)\n",
    "    learning_rate = (data['params']['learning_rate'])\n",
    "    trial_id = file.split('_')[0] \n",
    "    # learning_rates.append(learning_rate)   \n",
    "    learning_rates[trial_id] = learning_rate  \n",
    "\n",
    "\n",
    "# Create df from dictionaries\n",
    "spearman_df = pd.DataFrame(spearman_coeffs.items(), columns=['Id', 'Spearman_Coefficient'])\n",
    "spearman_df['Id'] = spearman_df.Id.astype(int)\n",
    "lr_df = pd.DataFrame(learning_rates.items(), columns=['Id', 'LR'])\n",
    "lr_df['Id'] = lr_df.Id.astype(int)  \n",
    "\n",
    "# Merge the two dfs\n",
    "stats = spearman_df.merge(lr_df, on='Id')"
   ]
  },
  {
   "cell_type": "code",
   "execution_count": 33,
   "metadata": {},
   "outputs": [
    {
     "data": {
      "text/html": [
       "<div>\n",
       "<style scoped>\n",
       "    .dataframe tbody tr th:only-of-type {\n",
       "        vertical-align: middle;\n",
       "    }\n",
       "\n",
       "    .dataframe tbody tr th {\n",
       "        vertical-align: top;\n",
       "    }\n",
       "\n",
       "    .dataframe thead th {\n",
       "        text-align: right;\n",
       "    }\n",
       "</style>\n",
       "<table border=\"1\" class=\"dataframe\">\n",
       "  <thead>\n",
       "    <tr style=\"text-align: right;\">\n",
       "      <th></th>\n",
       "      <th>Id</th>\n",
       "      <th>Spearman_Coefficient</th>\n",
       "      <th>LR</th>\n",
       "    </tr>\n",
       "  </thead>\n",
       "  <tbody>\n",
       "    <tr>\n",
       "      <th>0</th>\n",
       "      <td>16642690802510898</td>\n",
       "      <td>0.067883</td>\n",
       "      <td>0.07</td>\n",
       "    </tr>\n",
       "    <tr>\n",
       "      <th>1</th>\n",
       "      <td>16642687911177632</td>\n",
       "      <td>0.067229</td>\n",
       "      <td>0.04</td>\n",
       "    </tr>\n",
       "    <tr>\n",
       "      <th>2</th>\n",
       "      <td>16642485897315580</td>\n",
       "      <td>0.067514</td>\n",
       "      <td>0.03</td>\n",
       "    </tr>\n",
       "    <tr>\n",
       "      <th>3</th>\n",
       "      <td>16642795827826356</td>\n",
       "      <td>0.064505</td>\n",
       "      <td>0.05</td>\n",
       "    </tr>\n",
       "    <tr>\n",
       "      <th>4</th>\n",
       "      <td>16642875036405952</td>\n",
       "      <td>0.069392</td>\n",
       "      <td>0.01</td>\n",
       "    </tr>\n",
       "    <tr>\n",
       "      <th>5</th>\n",
       "      <td>16642900936681954</td>\n",
       "      <td>0.068359</td>\n",
       "      <td>0.10</td>\n",
       "    </tr>\n",
       "    <tr>\n",
       "      <th>6</th>\n",
       "      <td>16642587372883304</td>\n",
       "      <td>0.065636</td>\n",
       "      <td>0.02</td>\n",
       "    </tr>\n",
       "    <tr>\n",
       "      <th>7</th>\n",
       "      <td>16642579882697944</td>\n",
       "      <td>0.070012</td>\n",
       "      <td>0.08</td>\n",
       "    </tr>\n",
       "    <tr>\n",
       "      <th>8</th>\n",
       "      <td>16642774169001760</td>\n",
       "      <td>0.067296</td>\n",
       "      <td>0.09</td>\n",
       "    </tr>\n",
       "    <tr>\n",
       "      <th>9</th>\n",
       "      <td>16642485896997488</td>\n",
       "      <td>0.066859</td>\n",
       "      <td>0.06</td>\n",
       "    </tr>\n",
       "  </tbody>\n",
       "</table>\n",
       "</div>"
      ],
      "text/plain": [
       "                  Id  Spearman_Coefficient    LR\n",
       "0  16642690802510898              0.067883  0.07\n",
       "1  16642687911177632              0.067229  0.04\n",
       "2  16642485897315580              0.067514  0.03\n",
       "3  16642795827826356              0.064505  0.05\n",
       "4  16642875036405952              0.069392  0.01\n",
       "5  16642900936681954              0.068359  0.10\n",
       "6  16642587372883304              0.065636  0.02\n",
       "7  16642579882697944              0.070012  0.08\n",
       "8  16642774169001760              0.067296  0.09\n",
       "9  16642485896997488              0.066859  0.06"
      ]
     },
     "execution_count": 33,
     "metadata": {},
     "output_type": "execute_result"
    }
   ],
   "source": [
    "stats"
   ]
  },
  {
   "cell_type": "code",
   "execution_count": 36,
   "metadata": {},
   "outputs": [
    {
     "data": {
      "image/png": "[encoded data removed]",
      "text/plain": [
       "<Figure size 576x396 with 1 Axes>"
      ]
     },
     "metadata": {
      "needs_background": "light"
     },
     "output_type": "display_data"
    }
   ],
   "source": [
    "\"\"\"# Plot\n",
    "plt.scatter(stats['LR'], stats['Spearman_Coefficient'])\n",
    "plt.ticklabel_format(style='sci', axis='x', scilimits=(0,0))\n",
    "plt.ticklabel_format(style='sci', axis='y', scilimits=(0,0))\n",
    "plt.title('Learning rate vs. Spearman correlation coefficient')\n",
    "plt.xlabel('Learning Rate')\n",
    "plt.ylabel('Spearman coefficient')\n",
    "plt.plot(original_learning_rate,original_spear,'ro')\n",
    "plt.grid() #Keep?\n",
    "plt.tight_layout()\"\"\"\n",
    "# \"Tableau 20\" colors as RGB.  \n",
    "tableau20 = [(31, 119, 180), (174, 199, 232), (255, 127, 14), (255, 187, 120),  \n",
    "             (44, 160, 44), (152, 223, 138), (214, 39, 40), (255, 152, 150),  \n",
    "             (148, 103, 189), (197, 176, 213), (140, 86, 75), (196, 156, 148),  \n",
    "             (227, 119, 194), (247, 182, 210), (127, 127, 127), (199, 199, 199),  \n",
    "             (188, 189, 34), (219, 219, 141), (23, 190, 207), (158, 218, 229)]  \n",
    "\n",
    "# Scale the RGB values to the [0, 1] range, which is the format matplotlib accepts.  \n",
    "for i in range(len(tableau20)):  \n",
    "    r, g, b = tableau20[i]  \n",
    "    tableau20[i] = (r / 255., g / 255., b / 255.)  \n",
    "\n",
    "# Common sizes: (10, 7.5) and (12, 9)  \n",
    "plt.figure(figsize=(8, 5.5))\n",
    "\n",
    "ax = plt.subplot(111)  \n",
    "ax.spines[\"top\"].set_visible(False)  \n",
    "ax.spines[\"bottom\"].set_visible(True)  \n",
    "ax.spines[\"right\"].set_visible(False)  \n",
    "ax.spines[\"left\"].set_visible(True)  \n",
    "\n",
    "ax.get_xaxis().tick_bottom()\n",
    "ax.get_yaxis().tick_left()\n",
    "\n",
    "# Plot\n",
    "plt.scatter(stats['LR'], stats['Spearman_Coefficient'], color=tableau20[19], s=120)\n",
    "plt.ticklabel_format(style='sci', axis='x', scilimits=(0,0))\n",
    "plt.ticklabel_format(style='sci', axis='y', scilimits=(0,0))\n",
    "plt.ylabel('Spearman coefficient',fontsize=15)\n",
    "plt.xlabel(\"Learning Rate\", fontsize=15)\n",
    "plt.ylim(.06, .0725)\n",
    "plt.grid(color='gray', linestyle='--', linewidth=.15)\n",
    "import matplotlib.patches as mpatches\n",
    "\n",
    "red_patch = mpatches.Patch(color='red', label='Original result')\n",
    "blue_patch = mpatches.Patch(color=tableau20[19], label='Grid search results')\n",
    "# plt.legend(handles=[red_patch, blue_patch], loc='upper right', fontsize=13)\n",
    "\n",
    "plt.tight_layout()\n",
    "plt.show()\n",
    "\n",
    "\n",
    "# bbox_inches=\"tight\" removes all the extra whitespace on the edges of your plot.\n",
    "# plt.savefig(\"Returns_distribution.png\", bbox_inches=\"tight\")\n"
   ]
  }
 ],
 "metadata": {
  "kernelspec": {
   "display_name": "Python 3.10.4 ('thesis')",
   "language": "python",
   "name": "python3"
  },
  "language_info": {
   "codemirror_mode": {
    "name": "ipython",
    "version": 3
   },
   "file_extension": ".py",
   "mimetype": "text/x-python",
   "name": "python",
   "nbconvert_exporter": "python",
   "pygments_lexer": "ipython3",
   "version": "3.10.4"
  },
  "orig_nbformat": 4,
  "vscode": {
   "interpreter": {
    "hash": "b4804d781847468e0794096453e716a44bf82c4d93fcc1a726a520e37d704781"
   }
  }
 },
 "nbformat": 4,
 "nbformat_minor": 2
}
