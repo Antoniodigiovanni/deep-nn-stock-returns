{
 "cells": [
  {
   "cell_type": "code",
   "execution_count": 2,
   "metadata": {},
   "outputs": [
    {
     "name": "stdout",
     "output_type": "stream",
     "text": [
      "Device: cpu\n",
      "Epochs: 100\n",
      "Random seed set at: 21\n"
     ]
    }
   ],
   "source": [
    "from os import listdir\n",
    "from os.path import isfile, join\n",
    "import pandas as pd\n",
    "import torchmetrics as tm\n",
    "import torch\n",
    "import json\n",
    "import matplotlib.pyplot as plt\n",
    "import numpy as np\n",
    "import seaborn as sns\n",
    "import sys,os\n",
    "\n",
    "from portfolios.portfolio_new import Portfolio"
   ]
  },
  {
   "cell_type": "code",
   "execution_count": 3,
   "metadata": {},
   "outputs": [],
   "source": [
    "resultsPath = '../saved/results_old/'"
   ]
  },
  {
   "cell_type": "code",
   "execution_count": 4,
   "metadata": {},
   "outputs": [],
   "source": [
    "GuEnsemblePath = resultsPath + 'GuEnsemble/'\n",
    "predicted_ret_path = GuEnsemblePath + 'predicted_returns/'\n",
    "trial_info_path = GuEnsemblePath + 'trial_info/'"
   ]
  },
  {
   "cell_type": "code",
   "execution_count": 5,
   "metadata": {},
   "outputs": [],
   "source": [
    "predicted_ret_files = [f for f in listdir(predicted_ret_path) if isfile(join(predicted_ret_path, f))]\n",
    "trial_info_files = [f for f in listdir(trial_info_path) if isfile(join(trial_info_path, f))]"
   ]
  },
  {
   "cell_type": "code",
   "execution_count": 40,
   "metadata": {},
   "outputs": [
    {
     "name": "stdout",
     "output_type": "stream",
     "text": [
      "129.12%\n"
     ]
    }
   ],
   "source": [
    "# # Turnover calculation\n",
    "\n",
    "# df = pd.read_csv(predicted_ret_path + predicted_ret_files[0], index_col=0)\n",
    "# port = Portfolio(df)\n",
    "\n",
    "# df = port.weights_df[['permno', 'yyyymm','ret', 'predicted_ret','decile','weight', 'vw_ret']].copy()\n",
    "# df = df.sort_values(by=['permno','yyyymm'])\n",
    "# df['ret'] = df['ret']/100\n",
    "\n",
    "# # Calculate needed metrics\n",
    "# df['w_t+1'] = df.groupby('permno')['weight'].shift(-1)\n",
    "# df['ret_t+1'] = df.groupby('permno')['ret'].shift(-1)\n",
    "# df['w_t-times-r_t+1'] = df.groupby(['permno','decile'], as_index=False).apply(lambda x: x['weight']*x['ret_t+1']).reset_index(drop=True)\n",
    "\n",
    "# # Calculate the sum over all stocks in the denominator\n",
    "# sum_over_j = df.groupby('yyyymm', as_index=False)['w_t-times-r_t+1'].sum()\n",
    "# sum_over_j = sum_over_j.rename({'w_t-times-r_t+1': 'sum_over_j'}, axis=1)\n",
    "# df = df.merge(sum_over_j, on=['yyyymm'])\n",
    "# df['sum_over_j'] = df['sum_over_j'] + 1\n",
    "\n",
    "# # Select portfolio\n",
    "# df = df.loc[df['decile'] == 10]\n",
    "\n",
    "# # Final calculation of turnover\n",
    "# turnover = np.abs(df['w_t+1'] - ((df['weight'] * (1+df['ret_t+1'])/df['sum_over_j']))).sum()\n",
    "# turnover = round(turnover,2)\n",
    "# print(f'{turnover}%')"
   ]
  },
  {
   "cell_type": "code",
   "execution_count": 8,
   "metadata": {},
   "outputs": [
    {
     "ename": "KeyError",
     "evalue": "('permno', 'yyyymm', 'ret')",
     "output_type": "error",
     "traceback": [
      "\u001b[0;31m---------------------------------------------------------------------------\u001b[0m",
      "\u001b[0;31mKeyError\u001b[0m                                  Traceback (most recent call last)",
      "File \u001b[0;32m~/anaconda3/envs/thesis/lib/python3.10/site-packages/pandas/core/indexes/base.py:3621\u001b[0m, in \u001b[0;36mIndex.get_loc\u001b[0;34m(self, key, method, tolerance)\u001b[0m\n\u001b[1;32m   3620\u001b[0m \u001b[39mtry\u001b[39;00m:\n\u001b[0;32m-> 3621\u001b[0m     \u001b[39mreturn\u001b[39;00m \u001b[39mself\u001b[39;49m\u001b[39m.\u001b[39;49m_engine\u001b[39m.\u001b[39;49mget_loc(casted_key)\n\u001b[1;32m   3622\u001b[0m \u001b[39mexcept\u001b[39;00m \u001b[39mKeyError\u001b[39;00m \u001b[39mas\u001b[39;00m err:\n",
      "File \u001b[0;32m~/anaconda3/envs/thesis/lib/python3.10/site-packages/pandas/_libs/index.pyx:136\u001b[0m, in \u001b[0;36mpandas._libs.index.IndexEngine.get_loc\u001b[0;34m()\u001b[0m\n",
      "File \u001b[0;32m~/anaconda3/envs/thesis/lib/python3.10/site-packages/pandas/_libs/index.pyx:163\u001b[0m, in \u001b[0;36mpandas._libs.index.IndexEngine.get_loc\u001b[0;34m()\u001b[0m\n",
      "File \u001b[0;32mpandas/_libs/hashtable_class_helper.pxi:5198\u001b[0m, in \u001b[0;36mpandas._libs.hashtable.PyObjectHashTable.get_item\u001b[0;34m()\u001b[0m\n",
      "File \u001b[0;32mpandas/_libs/hashtable_class_helper.pxi:5206\u001b[0m, in \u001b[0;36mpandas._libs.hashtable.PyObjectHashTable.get_item\u001b[0;34m()\u001b[0m\n",
      "\u001b[0;31mKeyError\u001b[0m: ('permno', 'yyyymm', 'ret')",
      "\nThe above exception was the direct cause of the following exception:\n",
      "\u001b[0;31mKeyError\u001b[0m                                  Traceback (most recent call last)",
      "\u001b[1;32m/home/ge65cuw/thesis/src/ensemble_guPortfolio.ipynb Cell 5\u001b[0m in \u001b[0;36m<cell line: 8>\u001b[0;34m()\u001b[0m\n\u001b[1;32m      <a href='vscode-notebook-cell://ssh-remote%2B7b22686f73744e616d65223a2254554d5f536572766572227d/home/ge65cuw/thesis/src/ensemble_guPortfolio.ipynb#X31sdnNjb2RlLXJlbW90ZQ%3D%3D?line=5'>6</a>\u001b[0m crsp \u001b[39m=\u001b[39m dp\u001b[39m.\u001b[39mload_crsp()\n\u001b[1;32m      <a href='vscode-notebook-cell://ssh-remote%2B7b22686f73744e616d65223a2254554d5f536572766572227d/home/ge65cuw/thesis/src/ensemble_guPortfolio.ipynb#X31sdnNjb2RlLXJlbW90ZQ%3D%3D?line=6'>7</a>\u001b[0m df\u001b[39m.\u001b[39mdrop(\u001b[39m'\u001b[39m\u001b[39mret\u001b[39m\u001b[39m'\u001b[39m, axis\u001b[39m=\u001b[39m\u001b[39m1\u001b[39m, inplace\u001b[39m=\u001b[39m\u001b[39mTrue\u001b[39;00m)\n\u001b[0;32m----> <a href='vscode-notebook-cell://ssh-remote%2B7b22686f73744e616d65223a2254554d5f536572766572227d/home/ge65cuw/thesis/src/ensemble_guPortfolio.ipynb#X31sdnNjb2RlLXJlbW90ZQ%3D%3D?line=7'>8</a>\u001b[0m df\u001b[39m.\u001b[39mmerge(crsp[\u001b[39m'\u001b[39;49m\u001b[39mpermno\u001b[39;49m\u001b[39m'\u001b[39;49m,\u001b[39m'\u001b[39;49m\u001b[39myyyymm\u001b[39;49m\u001b[39m'\u001b[39;49m,\u001b[39m'\u001b[39;49m\u001b[39mret\u001b[39;49m\u001b[39m'\u001b[39;49m], on\u001b[39m=\u001b[39m[\u001b[39m'\u001b[39m\u001b[39mpermno\u001b[39m\u001b[39m'\u001b[39m,\u001b[39m'\u001b[39m\u001b[39myyyymm\u001b[39m\u001b[39m'\u001b[39m], how\u001b[39m=\u001b[39m\u001b[39m'\u001b[39m\u001b[39mleft\u001b[39m\u001b[39m'\u001b[39m)\n\u001b[1;32m      <a href='vscode-notebook-cell://ssh-remote%2B7b22686f73744e616d65223a2254554d5f536572766572227d/home/ge65cuw/thesis/src/ensemble_guPortfolio.ipynb#X31sdnNjb2RlLXJlbW90ZQ%3D%3D?line=8'>9</a>\u001b[0m metric\u001b[39m.\u001b[39mcalc_r2(df)\n",
      "File \u001b[0;32m~/anaconda3/envs/thesis/lib/python3.10/site-packages/pandas/core/frame.py:3505\u001b[0m, in \u001b[0;36mDataFrame.__getitem__\u001b[0;34m(self, key)\u001b[0m\n\u001b[1;32m   3503\u001b[0m \u001b[39mif\u001b[39;00m \u001b[39mself\u001b[39m\u001b[39m.\u001b[39mcolumns\u001b[39m.\u001b[39mnlevels \u001b[39m>\u001b[39m \u001b[39m1\u001b[39m:\n\u001b[1;32m   3504\u001b[0m     \u001b[39mreturn\u001b[39;00m \u001b[39mself\u001b[39m\u001b[39m.\u001b[39m_getitem_multilevel(key)\n\u001b[0;32m-> 3505\u001b[0m indexer \u001b[39m=\u001b[39m \u001b[39mself\u001b[39;49m\u001b[39m.\u001b[39;49mcolumns\u001b[39m.\u001b[39;49mget_loc(key)\n\u001b[1;32m   3506\u001b[0m \u001b[39mif\u001b[39;00m is_integer(indexer):\n\u001b[1;32m   3507\u001b[0m     indexer \u001b[39m=\u001b[39m [indexer]\n",
      "File \u001b[0;32m~/anaconda3/envs/thesis/lib/python3.10/site-packages/pandas/core/indexes/base.py:3623\u001b[0m, in \u001b[0;36mIndex.get_loc\u001b[0;34m(self, key, method, tolerance)\u001b[0m\n\u001b[1;32m   3621\u001b[0m     \u001b[39mreturn\u001b[39;00m \u001b[39mself\u001b[39m\u001b[39m.\u001b[39m_engine\u001b[39m.\u001b[39mget_loc(casted_key)\n\u001b[1;32m   3622\u001b[0m \u001b[39mexcept\u001b[39;00m \u001b[39mKeyError\u001b[39;00m \u001b[39mas\u001b[39;00m err:\n\u001b[0;32m-> 3623\u001b[0m     \u001b[39mraise\u001b[39;00m \u001b[39mKeyError\u001b[39;00m(key) \u001b[39mfrom\u001b[39;00m \u001b[39merr\u001b[39;00m\n\u001b[1;32m   3624\u001b[0m \u001b[39mexcept\u001b[39;00m \u001b[39mTypeError\u001b[39;00m:\n\u001b[1;32m   3625\u001b[0m     \u001b[39m# If we have a listlike key, _check_indexing_error will raise\u001b[39;00m\n\u001b[1;32m   3626\u001b[0m     \u001b[39m#  InvalidIndexError. Otherwise we fall through and re-raise\u001b[39;00m\n\u001b[1;32m   3627\u001b[0m     \u001b[39m#  the TypeError.\u001b[39;00m\n\u001b[1;32m   3628\u001b[0m     \u001b[39mself\u001b[39m\u001b[39m.\u001b[39m_check_indexing_error(key)\n",
      "\u001b[0;31mKeyError\u001b[0m: ('permno', 'yyyymm', 'ret')"
     ]
    }
   ],
   "source": [
    "df = pd.read_csv(predicted_ret_path + '/' + predicted_ret_files[0], index_col=0)\n",
    "import models.neural_net.metric as metric\n",
    "import data.data_preprocessing as dp\n",
    "\n",
    "print(f'R2 with predicted_ret file: {metric.calc_r2(df)}')\n",
    "crsp = dp.load_crsp()\n",
    "df.drop('ret', axis=1, inplace=True)\n",
    "df.merge(crsp[['permno','yyyymm','ret']], on=['permno','yyyymm'], how='left')\n",
    "metric.calc_r2(df)"
   ]
  },
  {
   "cell_type": "code",
   "execution_count": 5,
   "metadata": {},
   "outputs": [],
   "source": [
    "returns = pd.DataFrame()\n",
    "\n",
    "for idx, file in enumerate(predicted_ret_files):\n",
    "    df = pd.read_csv(predicted_ret_path + '/' + file, index_col=0)\n",
    "    df = df.rename({'predicted_ret': 'predicted_ret_'+str(idx)}, axis=1)\n",
    "    if idx == 0:\n",
    "        # returns = returns.reindex(columns=df.columns.tolist())\n",
    "        returns = pd.concat([returns, df], axis=1)\n",
    "\n",
    "    else:\n",
    "        returns = pd.concat([returns, df.iloc[:,-1]], axis=1)"
   ]
  },
  {
   "cell_type": "code",
   "execution_count": 6,
   "metadata": {},
   "outputs": [],
   "source": [
    "returns['predicted_ret'] = returns.iloc[:,3:].mean(axis=1)"
   ]
  },
  {
   "cell_type": "code",
   "execution_count": 7,
   "metadata": {},
   "outputs": [],
   "source": [
    "returns = returns[['permno','yyyymm','ret', 'predicted_ret']]"
   ]
  },
  {
   "cell_type": "code",
   "execution_count": 8,
   "metadata": {},
   "outputs": [
    {
     "name": "stderr",
     "output_type": "stream",
     "text": [
      "/home/ge65cuw/anaconda3/envs/thesis/lib/python3.10/site-packages/torchmetrics/utilities/prints.py:36: UserWarning: Metric `SpearmanCorrcoef` will save all targets and predictions in the buffer. For large datasets, this may lead to large memory footprint.\n",
      "  warnings.warn(*args, **kwargs)\n"
     ]
    }
   ],
   "source": [
    "import torchmetrics\n",
    "import torch\n",
    "\n",
    "spear = torchmetrics.SpearmanCorrCoef()\n",
    "spearman = spear(torch.tensor(returns['ret']),torch.tensor(returns['predicted_ret']))"
   ]
  },
  {
   "cell_type": "code",
   "execution_count": 9,
   "metadata": {},
   "outputs": [
    {
     "name": "stdout",
     "output_type": "stream",
     "text": [
      "Spearman correlation coefficient: 0.0767\n"
     ]
    }
   ],
   "source": [
    "print(f'Spearman correlation coefficient: {spearman.item():.4f}')"
   ]
  },
  {
   "cell_type": "code",
   "execution_count": 9,
   "metadata": {},
   "outputs": [
    {
     "data": {
      "image/png": "[encoded data removed]",
      "text/plain": [
       "<Figure size 576x396 with 1 Axes>"
      ]
     },
     "metadata": {
      "needs_background": "light"
     },
     "output_type": "display_data"
    }
   ],
   "source": [
    "# Remove the plot frame lines. They are unnecessary chartjunk.\n",
    "# These are the \"Tableau 20\" colors as RGB.  \n",
    "tableau20 = [(31, 119, 180), (174, 199, 232), (255, 127, 14), (255, 187, 120),  \n",
    "             (44, 160, 44), (152, 223, 138), (214, 39, 40), (255, 152, 150),  \n",
    "             (148, 103, 189), (197, 176, 213), (140, 86, 75), (196, 156, 148),  \n",
    "             (227, 119, 194), (247, 182, 210), (127, 127, 127), (199, 199, 199),  \n",
    "             (188, 189, 34), (219, 219, 141), (23, 190, 207), (158, 218, 229)]  \n",
    "\n",
    "# Scale the RGB values to the [0, 1] range, which is the format matplotlib accepts.  \n",
    "for i in range(len(tableau20)):  \n",
    "    r, g, b = tableau20[i]  \n",
    "    tableau20[i] = (r / 255., g / 255., b / 255.)  \n",
    "\n",
    "# You typically want your plot to be ~1.33x wider than tall. This plot is a rare  \n",
    "# exception because of the number of lines being plotted on it.  \n",
    "# Common sizes: (10, 7.5) and (12, 9)  \n",
    "plt.figure(figsize=(8, 5.5))\n",
    "\n",
    "# Remove the plot frame lines. They are unnecessary chartjunk.  \n",
    "ax = plt.subplot(111)  \n",
    "ax.spines[\"top\"].set_visible(False)  \n",
    "ax.spines[\"bottom\"].set_visible(True)  \n",
    "ax.spines[\"right\"].set_visible(False)  \n",
    "ax.spines[\"left\"].set_visible(True)  \n",
    "\n",
    "ax.get_xaxis().tick_bottom()\n",
    "ax.get_yaxis().tick_left()\n",
    "\n",
    "plt.title(\"Stock returns distribution (actual and forecasted)\\n\", fontsize=22)\n",
    "\n",
    "\n",
    "# Distribution of actual returns and predicted returns\n",
    "bins = np.linspace(-30, 30, 100)\n",
    "x1 = returns['predicted_ret']\n",
    "x2 = returns['ret']\n",
    "plt.hist(x1, bins, alpha=0.5, label='NN4', color=tableau20[3])\n",
    "plt.hist(x2, bins, alpha=0.5, label='Actual', color=tableau20[5])\n",
    "plt.ticklabel_format(style='sci', axis='y', scilimits=(0,0))\n",
    "plt.xticks(range(-30, 30, 5), fontsize=13)\n",
    "plt.yticks(range(0, 120000, 20000), fontsize=13)\n",
    "plt.legend(loc='upper right', fontsize=14)\n",
    "plt.xlabel(\"Monthly stock returns (%)\", fontsize=15)\n",
    "plt.ylim(1, 90000)\n",
    "\n",
    "plt.tight_layout()\n",
    "plt.show()\n",
    "\n",
    "# bbox_inches=\"tight\" removes all the extra whitespace on the edges of your plot.\n",
    "# plt.savefig(\"Returns_distribution.png\", bbox_inches=\"tight\")\n"
   ]
  },
  {
   "cell_type": "markdown",
   "metadata": {},
   "source": [
    "# Portfolio calculation"
   ]
  },
  {
   "cell_type": "code",
   "execution_count": 11,
   "metadata": {},
   "outputs": [
    {
     "name": "stdout",
     "output_type": "stream",
     "text": [
      "Loading the dataset...\n",
      "Features stats:\n",
      "Mean: -0.0\tStd: 0.89\tMedian: 0.0\n",
      "Weight columns = Index(['yyyymm', 'total_melag'], dtype='object')\n",
      "   yyyymm  market_ret\n",
      "0  197601    0.000000\n",
      "1  197602    0.275002\n",
      "2  197603    2.782108\n",
      "3  197604   -1.059692\n",
      "4  197605   -0.914437\n",
      "IR & alpha calculation...\n",
      "Params\n",
      "const     1.585319\n",
      "Mkt-RF   -0.042643\n",
      "SMB      -0.456151\n",
      "HML       0.284871\n",
      "RMW       0.433332\n",
      "CMA       0.338306\n",
      "Mom       0.134050\n",
      "ST_Rev   -0.125761\n",
      "dtype: float64\n",
      "tValues\n",
      "const     6.466020\n",
      "Mkt-RF   -0.664069\n",
      "SMB      -5.523790\n",
      "HML       2.765142\n",
      "RMW       4.010977\n",
      "CMA       2.253171\n",
      "Mom       2.532449\n",
      "ST_Rev   -1.865450\n",
      "dtype: float64\n",
      "Linear Regression summary:\n",
      "                            OLS Regression Results                            \n",
      "==============================================================================\n",
      "Dep. Variable:                    l-s   R-squared:                       0.409\n",
      "Model:                            OLS   Adj. R-squared:                  0.395\n",
      "Method:                 Least Squares   F-statistic:                     28.51\n",
      "Date:                Sat, 22 Oct 2022   Prob (F-statistic):           1.01e-29\n",
      "Time:                        13:35:01   Log-Likelihood:                -816.21\n",
      "No. Observations:                 296   AIC:                             1648.\n",
      "Df Residuals:                     288   BIC:                             1678.\n",
      "Df Model:                           7                                         \n",
      "Covariance Type:            nonrobust                                         \n",
      "==============================================================================\n",
      "                 coef    std err          t      P>|t|      [0.025      0.975]\n",
      "------------------------------------------------------------------------------\n",
      "const          1.5853      0.245      6.466      0.000       1.103       2.068\n",
      "Mkt-RF        -0.0426      0.064     -0.664      0.507      -0.169       0.084\n",
      "SMB           -0.4562      0.083     -5.524      0.000      -0.619      -0.294\n",
      "HML            0.2849      0.103      2.765      0.006       0.082       0.488\n",
      "RMW            0.4333      0.108      4.011      0.000       0.221       0.646\n",
      "CMA            0.3383      0.150      2.253      0.025       0.043       0.634\n",
      "Mom            0.1340      0.053      2.532      0.012       0.030       0.238\n",
      "ST_Rev        -0.1258      0.067     -1.865      0.063      -0.258       0.007\n",
      "==============================================================================\n",
      "Omnibus:                       18.790   Durbin-Watson:                   1.779\n",
      "Prob(Omnibus):                  0.000   Jarque-Bera (JB):               37.166\n",
      "Skew:                           0.331   Prob(JB):                     8.50e-09\n",
      "Kurtosis:                       4.605   Cond. No.                         6.42\n",
      "==============================================================================\n",
      "\n",
      "Notes:\n",
      "[1] Standard Errors assume that the covariance matrix of the errors is correctly specified.\n",
      "\n",
      "Linear Regression R-squared:\n",
      "0.4092886249533978\n",
      "Informatio Ratio based on FF5FM+Mom regression: 0.36 (long-short)\n",
      "Average return:\n",
      "\tLong: 0.55%\tLong-short: 1.85%\n",
      "T is 296\n",
      "Annualized returns:\n",
      "\tLong: 6.11%\tLong-short:22.94%\n",
      "Standard deviation on returns:\n",
      "\tLong: 3.24\tLong-short:4.96\n",
      "Sharpe ratio:\n",
      "\tLong: 1.89\tLong-short:4.62\n",
      "Loading the dataset...\n",
      "Features stats:\n",
      "Mean: -0.0\tStd: 0.89\tMedian: 0.0\n",
      "Weight columns = Index(['yyyymm', 'total_melag'], dtype='object')\n",
      "   yyyymm  market_ret\n",
      "0  197601    0.000000\n",
      "1  197602    0.275002\n",
      "2  197603    2.782108\n",
      "3  197604   -1.059692\n",
      "4  197605   -0.914437\n",
      "     yyyymm  market_ret\n",
      "0    197601    0.000000\n",
      "1    197602    0.275002\n",
      "2    197603    2.782108\n",
      "3    197604   -1.059692\n",
      "4    197605   -0.914437\n",
      "..      ...         ...\n",
      "535  202008    6.793989\n",
      "536  202009   -3.341652\n",
      "537  202010   -1.552484\n",
      "538  202011   11.900663\n",
      "539  202012    4.282958\n",
      "\n",
      "[540 rows x 2 columns]\n",
      "Alpha over market:\tLong:-0.15842410912011262\tLong-short:-0.019646356262300935\n"
     ]
    }
   ],
   "source": [
    "portfolioVW = Portfolio(returns, weighting='VW')\n",
    "# portfolioEW = Portfolio(returns, weighting='EW')"
   ]
  },
  {
   "cell_type": "code",
   "execution_count": 15,
   "metadata": {},
   "outputs": [],
   "source": [
    "pret = portfolioVW.returns"
   ]
  },
  {
   "cell_type": "code",
   "execution_count": 1,
   "metadata": {},
   "outputs": [
    {
     "name": "stdout",
     "output_type": "stream",
     "text": [
      "Device: cpu\n",
      "Epochs: 200\n",
      "Random seed set at: 21\n",
      "Creating the dataset...\n",
      "Data pre-processing...\n",
      "Merging returns information with signals...\n",
      "Scaling features...\n",
      "Index(['VolumeTrend', 'XFIN', 'zerotrade', 'zerotradeAlt1', 'zerotradeAlt12'], dtype='object')\n",
      "Shape of final_df before scaling: 1359199\n",
      "After scaling, the length is: 1048471\n",
      "Loading the dataset...\n",
      "Features stats:\n",
      "Mean: -0.0\tStd: 0.87\tMedian: 0.0\n",
      "202112\n",
      "202112\n",
      "Weight columns = Index(['yyyymm', 'total_melag'], dtype='object')\n",
      "   yyyymm  market_ret\n",
      "0  197001    0.000000\n",
      "1  197002    5.842420\n",
      "2  197003   -0.339433\n",
      "3  197004  -10.218710\n",
      "4  197005   -6.267181\n"
     ]
    }
   ],
   "source": [
    "from portfolios.market_portfolio import MarketPortfolio\n",
    "mp = MarketPortfolio()"
   ]
  },
  {
   "cell_type": "code",
   "execution_count": 1,
   "metadata": {},
   "outputs": [
    {
     "ename": "NameError",
     "evalue": "name 'mp' is not defined",
     "output_type": "error",
     "traceback": [
      "\u001b[0;31m---------------------------------------------------------------------------\u001b[0m",
      "\u001b[0;31mNameError\u001b[0m                                 Traceback (most recent call last)",
      "\u001b[1;32m/home/ge65cuw/thesis/src/ensemble_guPortfolio.ipynb Cell 15\u001b[0m in \u001b[0;36m<cell line: 1>\u001b[0;34m()\u001b[0m\n\u001b[0;32m----> <a href='vscode-notebook-cell://ssh-remote%2B7b22686f73744e616d65223a2254554d5f536572766572227d/home/ge65cuw/thesis/src/ensemble_guPortfolio.ipynb#X23sdnNjb2RlLXJlbW90ZQ%3D%3D?line=0'>1</a>\u001b[0m mkt \u001b[39m=\u001b[39m mp\u001b[39m.\u001b[39mmkt_returns\n\u001b[1;32m      <a href='vscode-notebook-cell://ssh-remote%2B7b22686f73744e616d65223a2254554d5f536572766572227d/home/ge65cuw/thesis/src/ensemble_guPortfolio.ipynb#X23sdnNjb2RlLXJlbW90ZQ%3D%3D?line=1'>2</a>\u001b[0m pret \u001b[39m=\u001b[39m pret\u001b[39m.\u001b[39mmerge(mkt, on\u001b[39m=\u001b[39m\u001b[39m'\u001b[39m\u001b[39myyyymm\u001b[39m\u001b[39m'\u001b[39m, how\u001b[39m=\u001b[39m\u001b[39m'\u001b[39m\u001b[39mleft\u001b[39m\u001b[39m'\u001b[39m)\n",
      "\u001b[0;31mNameError\u001b[0m: name 'mp' is not defined"
     ]
    }
   ],
   "source": [
    "mkt = mp.mkt_returns\n",
    "pret = pret.merge(mkt, on='yyyymm', how='left')"
   ]
  },
  {
   "cell_type": "code",
   "execution_count": 25,
   "metadata": {},
   "outputs": [
    {
     "data": {
      "text/html": [
       "<div>\n",
       "<style scoped>\n",
       "    .dataframe tbody tr th:only-of-type {\n",
       "        vertical-align: middle;\n",
       "    }\n",
       "\n",
       "    .dataframe tbody tr th {\n",
       "        vertical-align: top;\n",
       "    }\n",
       "\n",
       "    .dataframe thead th {\n",
       "        text-align: right;\n",
       "    }\n",
       "</style>\n",
       "<table border=\"1\" class=\"dataframe\">\n",
       "  <thead>\n",
       "    <tr style=\"text-align: right;\">\n",
       "      <th></th>\n",
       "      <th>yyyymm</th>\n",
       "      <th>market_ret</th>\n",
       "    </tr>\n",
       "  </thead>\n",
       "  <tbody>\n",
       "    <tr>\n",
       "      <th>0</th>\n",
       "      <td>197601</td>\n",
       "      <td>0.000000</td>\n",
       "    </tr>\n",
       "    <tr>\n",
       "      <th>1</th>\n",
       "      <td>197602</td>\n",
       "      <td>0.275002</td>\n",
       "    </tr>\n",
       "    <tr>\n",
       "      <th>2</th>\n",
       "      <td>197603</td>\n",
       "      <td>2.782108</td>\n",
       "    </tr>\n",
       "    <tr>\n",
       "      <th>3</th>\n",
       "      <td>197604</td>\n",
       "      <td>-1.059692</td>\n",
       "    </tr>\n",
       "    <tr>\n",
       "      <th>4</th>\n",
       "      <td>197605</td>\n",
       "      <td>-0.914437</td>\n",
       "    </tr>\n",
       "    <tr>\n",
       "      <th>...</th>\n",
       "      <td>...</td>\n",
       "      <td>...</td>\n",
       "    </tr>\n",
       "    <tr>\n",
       "      <th>535</th>\n",
       "      <td>202008</td>\n",
       "      <td>6.793989</td>\n",
       "    </tr>\n",
       "    <tr>\n",
       "      <th>536</th>\n",
       "      <td>202009</td>\n",
       "      <td>-3.341652</td>\n",
       "    </tr>\n",
       "    <tr>\n",
       "      <th>537</th>\n",
       "      <td>202010</td>\n",
       "      <td>-1.552484</td>\n",
       "    </tr>\n",
       "    <tr>\n",
       "      <th>538</th>\n",
       "      <td>202011</td>\n",
       "      <td>11.900663</td>\n",
       "    </tr>\n",
       "    <tr>\n",
       "      <th>539</th>\n",
       "      <td>202012</td>\n",
       "      <td>4.282958</td>\n",
       "    </tr>\n",
       "  </tbody>\n",
       "</table>\n",
       "<p>540 rows × 2 columns</p>\n",
       "</div>"
      ],
      "text/plain": [
       "     yyyymm  market_ret\n",
       "0    197601    0.000000\n",
       "1    197602    0.275002\n",
       "2    197603    2.782108\n",
       "3    197604   -1.059692\n",
       "4    197605   -0.914437\n",
       "..      ...         ...\n",
       "535  202008    6.793989\n",
       "536  202009   -3.341652\n",
       "537  202010   -1.552484\n",
       "538  202011   11.900663\n",
       "539  202012    4.282958\n",
       "\n",
       "[540 rows x 2 columns]"
      ]
     },
     "execution_count": 25,
     "metadata": {},
     "output_type": "execute_result"
    }
   ],
   "source": []
  },
  {
   "cell_type": "code",
   "execution_count": 18,
   "metadata": {},
   "outputs": [],
   "source": [
    "T = pret.count()[1]\n",
    "alpha_market_long = ((((pret.iloc[:,-3] - pret.iloc[:,-1])/100+1)**(12/T)).prod())-1\n",
    "alpha_market_long_short = ((((pret.iloc[:,-2] - pret.iloc[:,-1])/100+1)**(12/T)).prod())-1\n",
    "        "
   ]
  },
  {
   "cell_type": "code",
   "execution_count": 30,
   "metadata": {},
   "outputs": [
    {
     "data": {
      "text/plain": [
       "1.066721509722535"
      ]
     },
     "execution_count": 30,
     "metadata": {},
     "output_type": "execute_result"
    }
   ],
   "source": [
    "(((pret.iloc[:,-2] - pret.iloc[:,-1])/100+1)**(12/T)).prod()"
   ]
  },
  {
   "cell_type": "code",
   "execution_count": 20,
   "metadata": {},
   "outputs": [
    {
     "data": {
      "text/plain": [
       "0.0667215097225351"
      ]
     },
     "execution_count": 20,
     "metadata": {},
     "output_type": "execute_result"
    }
   ],
   "source": [
    "alpha_market_long_short"
   ]
  },
  {
   "cell_type": "code",
   "execution_count": 12,
   "metadata": {},
   "outputs": [
    {
     "name": "stdout",
     "output_type": "stream",
     "text": [
      "Loading the dataset...\n",
      "Weight columns = Index(['yyyymm', 'total_melag'], dtype='object')\n",
      "   yyyymm  market_ret\n",
      "0  197601    0.000000\n",
      "1  197602    0.275002\n",
      "2  197603    2.782108\n",
      "3  197604   -1.059692\n",
      "4  197605   -0.914437\n"
     ]
    },
    {
     "data": {
      "image/png": "[encoded data removed]",
      "text/plain": [
       "<Figure size 1080x360 with 1 Axes>"
      ]
     },
     "metadata": {
      "needs_background": "light"
     },
     "output_type": "display_data"
    }
   ],
   "source": [
    "portfolioVW.plot_cumulative_returns(path=None)"
   ]
  },
  {
   "cell_type": "code",
   "execution_count": 13,
   "metadata": {},
   "outputs": [
    {
     "name": "stdout",
     "output_type": "stream",
     "text": [
      "IR & alpha calculation...\n",
      "Params\n",
      "const     0.570426\n",
      "Mkt-RF   -0.020665\n",
      "SMB      -0.697060\n",
      "HML       0.079298\n",
      "RMW       0.028033\n",
      "CMA       0.132227\n",
      "Mom       0.100550\n",
      "ST_Rev   -0.090972\n",
      "dtype: float64\n",
      "tValues\n",
      "const      4.214199\n",
      "Mkt-RF    -0.582912\n",
      "SMB      -15.289520\n",
      "HML        1.394206\n",
      "RMW        0.469999\n",
      "CMA        1.595145\n",
      "Mom        3.440758\n",
      "ST_Rev    -2.444222\n",
      "dtype: float64\n",
      "Linear Regression summary:\n",
      "                            OLS Regression Results                            \n",
      "==============================================================================\n",
      "Dep. Variable:                     10   R-squared:                       0.578\n",
      "Model:                            OLS   Adj. R-squared:                  0.568\n",
      "Method:                 Least Squares   F-statistic:                     56.30\n",
      "Date:                Sat, 22 Oct 2022   Prob (F-statistic):           2.37e-50\n",
      "Time:                        11:59:26   Log-Likelihood:                -640.37\n",
      "No. Observations:                 296   AIC:                             1297.\n",
      "Df Residuals:                     288   BIC:                             1326.\n",
      "Df Model:                           7                                         \n",
      "Covariance Type:            nonrobust                                         \n",
      "==============================================================================\n",
      "                 coef    std err          t      P>|t|      [0.025      0.975]\n",
      "------------------------------------------------------------------------------\n",
      "const          0.5704      0.135      4.214      0.000       0.304       0.837\n",
      "Mkt-RF        -0.0207      0.035     -0.583      0.560      -0.090       0.049\n",
      "SMB           -0.6971      0.046    -15.290      0.000      -0.787      -0.607\n",
      "HML            0.0793      0.057      1.394      0.164      -0.033       0.191\n",
      "RMW            0.0280      0.060      0.470      0.639      -0.089       0.145\n",
      "CMA            0.1322      0.083      1.595      0.112      -0.031       0.295\n",
      "Mom            0.1006      0.029      3.441      0.001       0.043       0.158\n",
      "ST_Rev        -0.0910      0.037     -2.444      0.015      -0.164      -0.018\n",
      "==============================================================================\n",
      "Omnibus:                       29.026   Durbin-Watson:                   2.120\n",
      "Prob(Omnibus):                  0.000   Jarque-Bera (JB):               69.571\n",
      "Skew:                           0.462   Prob(JB):                     7.81e-16\n",
      "Kurtosis:                       5.188   Cond. No.                         6.42\n",
      "==============================================================================\n",
      "\n",
      "Notes:\n",
      "[1] Standard Errors assume that the covariance matrix of the errors is correctly specified.\n",
      "\n",
      "Linear Regression R-squared:\n",
      "0.5777749531922916\n",
      "Informatio Ratio based on FF5FM+Mom regression: 0.23 (long)\n"
     ]
    }
   ],
   "source": [
    "portfolioVW.regress_on_FF5FM(method='long')"
   ]
  },
  {
   "cell_type": "code",
   "execution_count": 14,
   "metadata": {},
   "outputs": [
    {
     "name": "stdout",
     "output_type": "stream",
     "text": [
      "Average return:\n",
      "\tLong: 0.55%\tLong-short: 1.85%\n",
      "T is 296\n",
      "Annualized returns:\n",
      "\tLong: 6.11%\tLong-short:22.94%\n",
      "Standard deviation on returns:\n",
      "\tLong: 3.24\tLong-short:4.96\n",
      "Sharpe ratio:\n",
      "\tLong: 1.89\tLong-short:4.62\n",
      "Loading the dataset...\n",
      "Weight columns = Index(['yyyymm', 'total_melag'], dtype='object')\n",
      "   yyyymm  market_ret\n",
      "0  197601    0.000000\n",
      "1  197602    0.275002\n",
      "2  197603    2.782108\n",
      "3  197604   -1.059692\n",
      "4  197605   -0.914437\n",
      "     yyyymm  market_ret\n",
      "0    197601    0.000000\n",
      "1    197602    0.275002\n",
      "2    197603    2.782108\n",
      "3    197604   -1.059692\n",
      "4    197605   -0.914437\n",
      "..      ...         ...\n",
      "535  202008    6.793989\n",
      "536  202009   -3.341652\n",
      "537  202010   -1.552484\n",
      "538  202011   11.900663\n",
      "539  202012    4.282958\n",
      "\n",
      "[540 rows x 2 columns]\n"
     ]
    }
   ],
   "source": [
    "portfolioVW._calculate_metrics()"
   ]
  }
 ],
 "metadata": {
  "kernelspec": {
   "display_name": "Python 3.10.4 ('thesis')",
   "language": "python",
   "name": "python3"
  },
  "language_info": {
   "codemirror_mode": {
    "name": "ipython",
    "version": 3
   },
   "file_extension": ".py",
   "mimetype": "text/x-python",
   "name": "python",
   "nbconvert_exporter": "python",
   "pygments_lexer": "ipython3",
   "version": "3.10.4"
  },
  "orig_nbformat": 4,
  "vscode": {
   "interpreter": {
    "hash": "b4804d781847468e0794096453e716a44bf82c4d93fcc1a726a520e37d704781"
   }
  }
 },
 "nbformat": 4,
 "nbformat_minor": 2
}
