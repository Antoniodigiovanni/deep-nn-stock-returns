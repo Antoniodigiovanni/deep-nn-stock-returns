{
 "cells": [
  {
   "cell_type": "code",
   "execution_count": 1,
   "metadata": {},
   "outputs": [
    {
     "name": "stdout",
     "output_type": "stream",
     "text": [
      "Device: cpu\n",
      "Epochs: 100\n",
      "Random seed set at: 21\n"
     ]
    }
   ],
   "source": [
    "from portfolios.portfolio_new import Portfolio\n",
    "import pandas as pd\n",
    "import numpy as np"
   ]
  },
  {
   "cell_type": "code",
   "execution_count": 2,
   "metadata": {},
   "outputs": [],
   "source": [
    "path = '/home/ge65cuw/thesis/saved/results/FinalExpandingTuning/predicted_returns/16678983520958712_predicted_returns.csv'\n",
    "df = pd.read_csv(path, index_col=0)\n",
    "\n",
    "portfolio = Portfolio(df, verbose=0)"
   ]
  },
  {
   "cell_type": "markdown",
   "metadata": {},
   "source": [
    "# Maximum Drawdown"
   ]
  },
  {
   "cell_type": "code",
   "execution_count": 23,
   "metadata": {},
   "outputs": [
    {
     "name": "stdout",
     "output_type": "stream",
     "text": [
      "Max_log_DD: 0.35099153357515894\tMax_DD: 0.42047529951392315\n"
     ]
    }
   ],
   "source": [
    "cumulative_returns = portfolio.returns.copy()\n",
    "cumulative_returns.iloc[:,1:] = np.log(cumulative_returns.iloc[:,1:]/100+1).cumsum()\n",
    "highwatermarks = cumulative_returns.cummax()\n",
    "\n",
    "drawdowns = (highwatermarks)-(cumulative_returns)\n",
    "\n",
    "max_dd = drawdowns.iloc[:,-1].max()\n",
    "print(f'Max_log_DD: {max_dd}\\tMax_DD: {np.exp(max_dd)-1}')"
   ]
  },
  {
   "cell_type": "code",
   "execution_count": 24,
   "metadata": {},
   "outputs": [
    {
     "name": "stdout",
     "output_type": "stream",
     "text": [
      "Max_DD: 42.05%\n"
     ]
    }
   ],
   "source": [
    "cumulative_returns = portfolio.returns.copy()\n",
    "cumulative_returns.iloc[:,1:] = (cumulative_returns.iloc[:,1:]/100+1).cumprod()-1\n",
    "highwatermarks = cumulative_returns.cummax()\n",
    "\n",
    "drawdowns = (1 + highwatermarks)/(1 + cumulative_returns) - 1\n",
    "\n",
    "max_dd = drawdowns.iloc[:,-1].max()\n",
    "print(f'Max_DD: {(100*max_dd):.2f}%')"
   ]
  },
  {
   "cell_type": "markdown",
   "metadata": {},
   "source": [
    "# Turnover"
   ]
  },
  {
   "cell_type": "code",
   "execution_count": 3,
   "metadata": {},
   "outputs": [
    {
     "data": {
      "text/plain": [
       "{'long': 127.8492520443721,\n",
       " 'short': 109.1634414089839,\n",
       " 'long-short': 237.012693453356}"
      ]
     },
     "execution_count": 3,
     "metadata": {},
     "output_type": "execute_result"
    }
   ],
   "source": [
    "import models.neural_net.metric as metric\n",
    "metric.turnover(portfolio.weights_df)"
   ]
  },
  {
   "cell_type": "code",
   "execution_count": 9,
   "metadata": {},
   "outputs": [],
   "source": [
    "rets = portfolio.returns.copy()"
   ]
  },
  {
   "cell_type": "code",
   "execution_count": 17,
   "metadata": {},
   "outputs": [],
   "source": [
    "rets.iloc[:,1:] = np.log(rets.iloc[:,1:]/100+1).cumsum()"
   ]
  },
  {
   "cell_type": "code",
   "execution_count": 23,
   "metadata": {},
   "outputs": [],
   "source": [
    "years_list = list(set(rets['yyyymm']))"
   ]
  },
  {
   "cell_type": "code",
   "execution_count": 33,
   "metadata": {},
   "outputs": [
    {
     "name": "stdout",
     "output_type": "stream",
     "text": [
      "79    1.087232\n",
      "Name: l-s, dtype: float64\n",
      "80    1.054598\n",
      "Name: l-s, dtype: float64\n"
     ]
    },
    {
     "ename": "ValueError",
     "evalue": "The truth value of a Series is ambiguous. Use a.empty, a.bool(), a.item(), a.any() or a.all().",
     "output_type": "error",
     "traceback": [
      "\u001b[0;31m---------------------------------------------------------------------------\u001b[0m",
      "\u001b[0;31mValueError\u001b[0m                                Traceback (most recent call last)",
      "\u001b[1;32m/home/ge65cuw/thesis/src/turnover_calculation.ipynb Cell 7\u001b[0m in \u001b[0;36m<cell line: 4>\u001b[0;34m()\u001b[0m\n\u001b[1;32m      <a href='vscode-notebook-cell://ssh-remote%2B7b22686f73744e616d65223a2274756d536572766572227d/home/ge65cuw/thesis/src/turnover_calculation.ipynb#X16sdnNjb2RlLXJlbW90ZQ%3D%3D?line=3'>4</a>\u001b[0m \u001b[39mfor\u001b[39;00m year \u001b[39min\u001b[39;00m years_list:\n\u001b[1;32m      <a href='vscode-notebook-cell://ssh-remote%2B7b22686f73744e616d65223a2274756d536572766572227d/home/ge65cuw/thesis/src/turnover_calculation.ipynb#X16sdnNjb2RlLXJlbW90ZQ%3D%3D?line=4'>5</a>\u001b[0m     \u001b[39mprint\u001b[39m(rets\u001b[39m.\u001b[39mloc[rets\u001b[39m.\u001b[39myyyymm \u001b[39m==\u001b[39m year]\u001b[39m.\u001b[39miloc[:,\u001b[39m-\u001b[39m\u001b[39m1\u001b[39m])\n\u001b[0;32m----> <a href='vscode-notebook-cell://ssh-remote%2B7b22686f73744e616d65223a2274756d536572766572227d/home/ge65cuw/thesis/src/turnover_calculation.ipynb#X16sdnNjb2RlLXJlbW90ZQ%3D%3D?line=6'>7</a>\u001b[0m     \u001b[39mif\u001b[39;00m (rets\u001b[39m.\u001b[39mloc[rets\u001b[39m.\u001b[39myyyymm \u001b[39m==\u001b[39m year]\u001b[39m.\u001b[39miloc[:,\u001b[39m-\u001b[39m\u001b[39m1\u001b[39m])\u001b[39m.\u001b[39mall() \u001b[39m>\u001b[39m max_cum:\n\u001b[1;32m      <a href='vscode-notebook-cell://ssh-remote%2B7b22686f73744e616d65223a2274756d536572766572227d/home/ge65cuw/thesis/src/turnover_calculation.ipynb#X16sdnNjb2RlLXJlbW90ZQ%3D%3D?line=7'>8</a>\u001b[0m         max_cum \u001b[39m=\u001b[39m rets\u001b[39m.\u001b[39mloc[rets\u001b[39m.\u001b[39myyyymm \u001b[39m==\u001b[39m year]\u001b[39m.\u001b[39miloc[:,\u001b[39m-\u001b[39m\u001b[39m1\u001b[39m]\n\u001b[1;32m      <a href='vscode-notebook-cell://ssh-remote%2B7b22686f73744e616d65223a2274756d536572766572227d/home/ge65cuw/thesis/src/turnover_calculation.ipynb#X16sdnNjb2RlLXJlbW90ZQ%3D%3D?line=8'>9</a>\u001b[0m     i\u001b[39m+\u001b[39m\u001b[39m=\u001b[39m\u001b[39m1\u001b[39m\n",
      "File \u001b[0;32m~/anaconda3/envs/thesis/lib/python3.10/site-packages/pandas/core/generic.py:1527\u001b[0m, in \u001b[0;36mNDFrame.__nonzero__\u001b[0;34m(self)\u001b[0m\n\u001b[1;32m   1525\u001b[0m \u001b[39m@final\u001b[39m\n\u001b[1;32m   1526\u001b[0m \u001b[39mdef\u001b[39;00m \u001b[39m__nonzero__\u001b[39m(\u001b[39mself\u001b[39m):\n\u001b[0;32m-> 1527\u001b[0m     \u001b[39mraise\u001b[39;00m \u001b[39mValueError\u001b[39;00m(\n\u001b[1;32m   1528\u001b[0m         \u001b[39mf\u001b[39m\u001b[39m\"\u001b[39m\u001b[39mThe truth value of a \u001b[39m\u001b[39m{\u001b[39;00m\u001b[39mtype\u001b[39m(\u001b[39mself\u001b[39m)\u001b[39m.\u001b[39m\u001b[39m__name__\u001b[39m\u001b[39m}\u001b[39;00m\u001b[39m is ambiguous. \u001b[39m\u001b[39m\"\u001b[39m\n\u001b[1;32m   1529\u001b[0m         \u001b[39m\"\u001b[39m\u001b[39mUse a.empty, a.bool(), a.item(), a.any() or a.all().\u001b[39m\u001b[39m\"\u001b[39m\n\u001b[1;32m   1530\u001b[0m     )\n",
      "\u001b[0;31mValueError\u001b[0m: The truth value of a Series is ambiguous. Use a.empty, a.bool(), a.item(), a.any() or a.all()."
     ]
    }
   ],
   "source": [
    "max_cum = -np.inf\n",
    "min_cum = np.inf\n",
    "i = 0\n",
    "for year in years_list:\n",
    "    print(rets.loc[rets.yyyymm == year].iloc[:,-1])\n",
    "    \n",
    "    if (rets.loc[rets.yyyymm == year].iloc[:,-1]).all() > max_cum:\n",
    "        max_cum = rets.loc[rets.yyyymm == year].iloc[:,-1]\n",
    "    i+=1\n",
    "    if i>=2:\n",
    "        break\n"
   ]
  }
 ],
 "metadata": {
  "kernelspec": {
   "display_name": "Python 3.10.4 ('thesis')",
   "language": "python",
   "name": "python3"
  },
  "language_info": {
   "codemirror_mode": {
    "name": "ipython",
    "version": 3
   },
   "file_extension": ".py",
   "mimetype": "text/x-python",
   "name": "python",
   "nbconvert_exporter": "python",
   "pygments_lexer": "ipython3",
   "version": "3.10.4"
  },
  "orig_nbformat": 4,
  "vscode": {
   "interpreter": {
    "hash": "b4804d781847468e0794096453e716a44bf82c4d93fcc1a726a520e37d704781"
   }
  }
 },
 "nbformat": 4,
 "nbformat_minor": 2
}
