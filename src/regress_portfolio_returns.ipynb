{
 "cells": [
  {
   "cell_type": "code",
   "execution_count": 19,
   "metadata": {},
   "outputs": [],
   "source": [
    "import pandas as pd\n",
    "from portfolios.portfolio_new import Portfolio\n",
    "from portfolios.FF5FM_Mom import FF5FM_Mom"
   ]
  },
  {
   "cell_type": "code",
   "execution_count": 15,
   "metadata": {},
   "outputs": [],
   "source": [
    "results_df = pd.read_csv('/home/ge65cuw/thesis/saved/final_results/results_df.csv', index_col=0).dropna()\n",
    "worst_net_id = results_df.loc[results_df.trial_id == results_df.trial_id.min()]['trial_id'].values[0]"
   ]
  },
  {
   "cell_type": "code",
   "execution_count": 17,
   "metadata": {},
   "outputs": [],
   "source": [
    "base_path = '/home/ge65cuw/thesis/saved/final_results/'\n",
    "best_net_path = base_path + 'ensembleNN3.csv'\n",
    "worst_net_path = base_path + 'predicted_returns/' + str(worst_net_id) + '_predicted_returns.csv'\n",
    "benchmark_nn4_path = base_path + 'ensembleGu.csv'\n",
    "linear_path = base_path + 'linear/predicted_ret.csv'\n",
    "# market_returns = ''"
   ]
  },
  {
   "cell_type": "code",
   "execution_count": 18,
   "metadata": {},
   "outputs": [
    {
     "name": "stdout",
     "output_type": "stream",
     "text": [
      "Loading the dataset...\n",
      "Features stats:\n",
      "Mean: -0.01\tStd: 0.29\tMedian: -0.02\n",
      "IR & alpha calculation...\n",
      "Params\n",
      "const     1.390458\n",
      "Mkt-RF   -0.045262\n",
      "SMB      -0.157068\n",
      "HML       0.346980\n",
      "RMW       0.138406\n",
      "CMA       0.260275\n",
      "Mom       0.018406\n",
      "ST_Rev   -0.006553\n",
      "dtype: float64\n",
      "tValues\n",
      "const     6.178562\n",
      "Mkt-RF   -0.767920\n",
      "SMB      -2.072170\n",
      "HML       3.669293\n",
      "RMW       1.395709\n",
      "CMA       1.888540\n",
      "Mom       0.378823\n",
      "ST_Rev   -0.105896\n",
      "dtype: float64\n",
      "Linear Regression summary:\n",
      "                            OLS Regression Results                            \n",
      "==============================================================================\n",
      "Dep. Variable:                    l-s   R-squared:                       0.228\n",
      "Model:                            OLS   Adj. R-squared:                  0.209\n",
      "Method:                 Least Squares   F-statistic:                     12.13\n",
      "Date:                Sat, 19 Nov 2022   Prob (F-statistic):           1.41e-13\n",
      "Time:                        07:58:51   Log-Likelihood:                -790.85\n",
      "No. Observations:                 296   AIC:                             1598.\n",
      "Df Residuals:                     288   BIC:                             1627.\n",
      "Df Model:                           7                                         \n",
      "Covariance Type:            nonrobust                                         \n",
      "==============================================================================\n",
      "                 coef    std err          t      P>|t|      [0.025      0.975]\n",
      "------------------------------------------------------------------------------\n",
      "const          1.3905      0.225      6.179      0.000       0.948       1.833\n",
      "Mkt-RF        -0.0453      0.059     -0.768      0.443      -0.161       0.071\n",
      "SMB           -0.1571      0.076     -2.072      0.039      -0.306      -0.008\n",
      "HML            0.3470      0.095      3.669      0.000       0.161       0.533\n",
      "RMW            0.1384      0.099      1.396      0.164      -0.057       0.334\n",
      "CMA            0.2603      0.138      1.889      0.060      -0.011       0.532\n",
      "Mom            0.0184      0.049      0.379      0.705      -0.077       0.114\n",
      "ST_Rev        -0.0066      0.062     -0.106      0.916      -0.128       0.115\n",
      "==============================================================================\n",
      "Omnibus:                       17.607   Durbin-Watson:                   1.926\n",
      "Prob(Omnibus):                  0.000   Jarque-Bera (JB):               20.752\n",
      "Skew:                           0.511   Prob(JB):                     3.12e-05\n",
      "Kurtosis:                       3.800   Cond. No.                         6.42\n",
      "==============================================================================\n",
      "\n",
      "Notes:\n",
      "[1] Standard Errors assume that the covariance matrix of the errors is correctly specified.\n",
      "\n",
      "Linear Regression R-squared:\n",
      "0.22766412946765058\n",
      "Informatio Ratio based on FF5FM+Mom regression: 0.34 (long-short)\n",
      "Average return:\n",
      "\tLong: 0.55%\tLong-short: 1.51%\n",
      "T is 296\n",
      "Annualized returns:\n",
      "\tLong: 6.17%\tLong-short:18.68%\n",
      "Annualized Market Returns 0.12%\n",
      "Standard deviation on returns:\n",
      "\tLong: 3.13\tLong-short:3.98\n",
      "Alpha over market:\tLong:-0.07%\tLong-short:0.04%\n",
      "Average Return per decile\n",
      "decile\n",
      "1     -0.965469\n",
      "2     -0.630470\n",
      "3     -0.204021\n",
      "4     -0.011589\n",
      "5      0.081676\n",
      "6      0.145935\n",
      "7      0.121335\n",
      "8      0.402420\n",
      "9      0.365397\n",
      "10     0.548650\n",
      "l-s    1.514119\n",
      "dtype: float64\n"
     ]
    }
   ],
   "source": [
    "df = pd.read_csv(best_net_path, index_col=0)\n",
    "pbest = Portfolio(df)"
   ]
  },
  {
   "cell_type": "code",
   "execution_count": null,
   "metadata": {},
   "outputs": [],
   "source": [
    "portfolio = pbest\n",
    "FFMom = FF5FM_Mom().returns\n",
    "columns_to_keep = [portfolio.returns.columns[0]]\n",
    "columns_to_keep.extend(portfolio.returns.columns[-2:])\n",
    "df = portfolio.returns[columns_to_keep]\n",
    "df = df.merge(FFMom, on=['yyyymm'], how='left')\n",
    "\n",
    "\n",
    "# On long-short returns        \n",
    "# X = df.iloc[:, 3:]\n",
    "\n",
    "# Column 1 is long returns on max quantile, \n",
    "# Column 2 is long-short returns\n",
    "# if method == 'long-short':\n",
    "#     y = df.iloc[:,2]\n",
    "# elif method == 'long':\n",
    "#     y = df.iloc[:,1]\n",
    "\n",
    "X = sm.add_constant(X)\n",
    "lm = sm.OLS(y, X).fit()\n",
    "\n",
    "print('Params')\n",
    "print(lm.params)\n",
    "print('tValues')\n",
    "print(lm.tvalues)\n",
    "\n",
    "alpha = lm.params[0]\n",
    "t_value_alpha = lm.tvalues[0]\n",
    "regression_rsquared = lm.rsquared\n",
    "print('Linear Regression summary:')\n",
    "print(lm.summary())\n",
    "\n",
    "\n",
    "year_min = portfolio.returns['yyyymm'].min()//100\n",
    "month_min = portfolio.returns['yyyymm'].min()%100\n",
    "\n",
    "year_max = portfolio.returns['yyyymm'].max()//100\n",
    "month_max = portfolio.returns['yyyymm'].max()%100\n",
    "\n",
    "n_months =  ((year_max - year_min) + (month_max-month_min+1)/12)*12 \n",
    "information_ratio_regression = t_value_alpha / np.sqrt(n_months)\n",
    "print(f'Informatio Ratio based on FF5FM+Mom regression: {information_ratio_regression:.2f}')"
   ]
  }
 ],
 "metadata": {
  "kernelspec": {
   "display_name": "Python 3.10.4 ('thesis')",
   "language": "python",
   "name": "python3"
  },
  "language_info": {
   "codemirror_mode": {
    "name": "ipython",
    "version": 3
   },
   "file_extension": ".py",
   "mimetype": "text/x-python",
   "name": "python",
   "nbconvert_exporter": "python",
   "pygments_lexer": "ipython3",
   "version": "3.10.4"
  },
  "orig_nbformat": 4,
  "vscode": {
   "interpreter": {
    "hash": "b4804d781847468e0794096453e716a44bf82c4d93fcc1a726a520e37d704781"
   }
  }
 },
 "nbformat": 4,
 "nbformat_minor": 2
}
