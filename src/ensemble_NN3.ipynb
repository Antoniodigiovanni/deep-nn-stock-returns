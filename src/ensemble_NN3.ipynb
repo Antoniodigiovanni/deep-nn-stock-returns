{
 "cells": [
  {
   "cell_type": "code",
   "execution_count": 2,
   "metadata": {},
   "outputs": [
    {
     "name": "stdout",
     "output_type": "stream",
     "text": [
      "Device: cpu\n",
      "Epochs: 200\n",
      "Random seed set at: 21\n"
     ]
    }
   ],
   "source": [
    "from os import listdir\n",
    "from os.path import isfile, join\n",
    "import pandas as pd\n",
    "import torchmetrics as tm\n",
    "import torch\n",
    "import json\n",
    "import matplotlib.pyplot as plt\n",
    "import numpy as np\n",
    "import seaborn as sns\n",
    "import sys,os\n",
    "\n",
    "from portfolios.portfolio_new import Portfolio"
   ]
  },
  {
   "cell_type": "code",
   "execution_count": 3,
   "metadata": {},
   "outputs": [],
   "source": [
    "resultsPath = '../saved/results/'"
   ]
  },
  {
   "cell_type": "code",
   "execution_count": 4,
   "metadata": {},
   "outputs": [],
   "source": [
    "GuEnsemblePath = resultsPath + 'NN3Ensemble/'\n",
    "predicted_ret_path = GuEnsemblePath + 'predicted_returns/'\n",
    "trial_info_path = GuEnsemblePath + 'trial_info/'"
   ]
  },
  {
   "cell_type": "code",
   "execution_count": 5,
   "metadata": {},
   "outputs": [],
   "source": [
    "predicted_ret_files = [f for f in listdir(predicted_ret_path) if isfile(join(predicted_ret_path, f))]\n",
    "trial_info_files = [f for f in listdir(trial_info_path) if isfile(join(trial_info_path, f))]"
   ]
  },
  {
   "cell_type": "code",
   "execution_count": 6,
   "metadata": {},
   "outputs": [],
   "source": [
    "returns = pd.DataFrame()\n",
    "\n",
    "for idx, file in enumerate(predicted_ret_files):\n",
    "    df = pd.read_csv(predicted_ret_path + '/' + file, index_col=0)\n",
    "    df = df.rename({'predicted_ret': 'predicted_ret_'+str(idx)}, axis=1)\n",
    "    if idx == 0:\n",
    "        # returns = returns.reindex(columns=df.columns.tolist())\n",
    "        returns = pd.concat([returns, df], axis=1)\n",
    "\n",
    "    else:\n",
    "        returns = pd.concat([returns, df.iloc[:,-1]], axis=1)"
   ]
  },
  {
   "cell_type": "code",
   "execution_count": 7,
   "metadata": {},
   "outputs": [],
   "source": [
    "returns['predicted_ret'] = returns.iloc[:,3:].mean(axis=1)"
   ]
  },
  {
   "cell_type": "code",
   "execution_count": 8,
   "metadata": {},
   "outputs": [],
   "source": [
    "returns = returns[['permno','yyyymm','ret', 'predicted_ret']]"
   ]
  },
  {
   "cell_type": "code",
   "execution_count": 9,
   "metadata": {},
   "outputs": [
    {
     "name": "stderr",
     "output_type": "stream",
     "text": [
      "/home/ge65cuw/anaconda3/envs/thesis/lib/python3.10/site-packages/torchmetrics/utilities/prints.py:36: UserWarning: Metric `SpearmanCorrcoef` will save all targets and predictions in the buffer. For large datasets, this may lead to large memory footprint.\n",
      "  warnings.warn(*args, **kwargs)\n"
     ]
    }
   ],
   "source": [
    "import torchmetrics\n",
    "import torch\n",
    "\n",
    "spear = torchmetrics.SpearmanCorrCoef()\n",
    "spearman = spear(torch.tensor(returns['ret']),torch.tensor(returns['predicted_ret']))"
   ]
  },
  {
   "cell_type": "code",
   "execution_count": 10,
   "metadata": {},
   "outputs": [
    {
     "name": "stdout",
     "output_type": "stream",
     "text": [
      "Spearman correlation coefficient: 0.0716\n"
     ]
    }
   ],
   "source": [
    "print(f'Spearman correlation coefficient: {spearman.item():.4f}')"
   ]
  },
  {
   "cell_type": "code",
   "execution_count": 11,
   "metadata": {},
   "outputs": [
    {
     "data": {
      "image/png": "[encoded data removed]",
      "text/plain": [
       "<Figure size 576x396 with 1 Axes>"
      ]
     },
     "metadata": {
      "needs_background": "light"
     },
     "output_type": "display_data"
    }
   ],
   "source": [
    "# Remove the plot frame lines. They are unnecessary chartjunk.\n",
    "# These are the \"Tableau 20\" colors as RGB.  \n",
    "tableau20 = [(31, 119, 180), (174, 199, 232), (255, 127, 14), (255, 187, 120),  \n",
    "             (44, 160, 44), (152, 223, 138), (214, 39, 40), (255, 152, 150),  \n",
    "             (148, 103, 189), (197, 176, 213), (140, 86, 75), (196, 156, 148),  \n",
    "             (227, 119, 194), (247, 182, 210), (127, 127, 127), (199, 199, 199),  \n",
    "             (188, 189, 34), (219, 219, 141), (23, 190, 207), (158, 218, 229)]  \n",
    "\n",
    "# Scale the RGB values to the [0, 1] range, which is the format matplotlib accepts.  \n",
    "for i in range(len(tableau20)):  \n",
    "    r, g, b = tableau20[i]  \n",
    "    tableau20[i] = (r / 255., g / 255., b / 255.)  \n",
    "\n",
    "# You typically want your plot to be ~1.33x wider than tall. This plot is a rare  \n",
    "# exception because of the number of lines being plotted on it.  \n",
    "# Common sizes: (10, 7.5) and (12, 9)  \n",
    "plt.figure(figsize=(8, 5.5))\n",
    "\n",
    "# Remove the plot frame lines. They are unnecessary chartjunk.  \n",
    "ax = plt.subplot(111)  \n",
    "ax.spines[\"top\"].set_visible(False)  \n",
    "ax.spines[\"bottom\"].set_visible(True)  \n",
    "ax.spines[\"right\"].set_visible(False)  \n",
    "ax.spines[\"left\"].set_visible(True)  \n",
    "\n",
    "ax.get_xaxis().tick_bottom()\n",
    "ax.get_yaxis().tick_left()\n",
    "\n",
    "plt.title(\"Stock returns distribution (actual and forecasted)\\n\", fontsize=22)\n",
    "\n",
    "\n",
    "# Distribution of actual returns and predicted returns\n",
    "bins = np.linspace(-30, 30, 100)\n",
    "x1 = returns['predicted_ret']\n",
    "x2 = returns['ret']\n",
    "plt.hist(x1, bins, alpha=0.5, label='NN3', color=tableau20[3])\n",
    "plt.hist(x2, bins, alpha=0.5, label='Actual', color=tableau20[5])\n",
    "plt.ticklabel_format(style='sci', axis='y', scilimits=(0,0))\n",
    "plt.xticks(range(-30, 30, 5), fontsize=13)\n",
    "plt.yticks(range(0, 120000, 20000), fontsize=13)\n",
    "plt.legend(loc='upper right', fontsize=14)\n",
    "plt.xlabel(\"Monthly stock returns (%)\", fontsize=15)\n",
    "plt.ylim(1, 90000)\n",
    "\n",
    "plt.tight_layout()\n",
    "plt.show()\n",
    "\n",
    "# bbox_inches=\"tight\" removes all the extra whitespace on the edges of your plot.\n",
    "# plt.savefig(\"Returns_distribution.png\", bbox_inches=\"tight\")\n"
   ]
  },
  {
   "cell_type": "markdown",
   "metadata": {},
   "source": [
    "# Portfolio calculation"
   ]
  },
  {
   "cell_type": "code",
   "execution_count": 12,
   "metadata": {},
   "outputs": [
    {
     "name": "stdout",
     "output_type": "stream",
     "text": [
      "IR & alpha calculation...\n",
      "Params\n",
      "const     1.320835\n",
      "Mkt-RF   -0.035181\n",
      "SMB      -0.181539\n",
      "HML       0.240869\n",
      "RMW       0.127073\n",
      "CMA       0.317146\n",
      "Mom       0.028771\n",
      "ST_Rev    0.004195\n",
      "dtype: float64\n",
      "tValues\n",
      "const     5.975252\n",
      "Mkt-RF   -0.607669\n",
      "SMB      -2.438297\n",
      "HML       2.593207\n",
      "RMW       1.304576\n",
      "CMA       2.342783\n",
      "Mom       0.602869\n",
      "ST_Rev    0.069018\n",
      "dtype: float64\n",
      "Linear Regression summary:\n",
      "                            OLS Regression Results                            \n",
      "==============================================================================\n",
      "Dep. Variable:                    l-s   R-squared:                       0.195\n",
      "Model:                            OLS   Adj. R-squared:                  0.176\n",
      "Method:                 Least Squares   F-statistic:                     9.986\n",
      "Date:                Sat, 22 Oct 2022   Prob (F-statistic):           3.59e-11\n",
      "Time:                        11:12:37   Log-Likelihood:                -785.55\n",
      "No. Observations:                 296   AIC:                             1587.\n",
      "Df Residuals:                     288   BIC:                             1617.\n",
      "Df Model:                           7                                         \n",
      "Covariance Type:            nonrobust                                         \n",
      "==============================================================================\n",
      "                 coef    std err          t      P>|t|      [0.025      0.975]\n",
      "------------------------------------------------------------------------------\n",
      "const          1.3208      0.221      5.975      0.000       0.886       1.756\n",
      "Mkt-RF        -0.0352      0.058     -0.608      0.544      -0.149       0.079\n",
      "SMB           -0.1815      0.074     -2.438      0.015      -0.328      -0.035\n",
      "HML            0.2409      0.093      2.593      0.010       0.058       0.424\n",
      "RMW            0.1271      0.097      1.305      0.193      -0.065       0.319\n",
      "CMA            0.3171      0.135      2.343      0.020       0.051       0.584\n",
      "Mom            0.0288      0.048      0.603      0.547      -0.065       0.123\n",
      "ST_Rev         0.0042      0.061      0.069      0.945      -0.115       0.124\n",
      "==============================================================================\n",
      "Omnibus:                       20.423   Durbin-Watson:                   1.905\n",
      "Prob(Omnibus):                  0.000   Jarque-Bera (JB):               25.146\n",
      "Skew:                           0.551   Prob(JB):                     3.46e-06\n",
      "Kurtosis:                       3.907   Cond. No.                         6.42\n",
      "==============================================================================\n",
      "\n",
      "Notes:\n",
      "[1] Standard Errors assume that the covariance matrix of the errors is correctly specified.\n",
      "\n",
      "Linear Regression R-squared:\n",
      "0.19531621794066067\n",
      "Informatio Ratio based on FF5FM+Mom regression: 0.33 (long-short)\n",
      "Average return:\n",
      "\tLong: 0.49%\tLong-short: 1.45%\n",
      "T is 296\n",
      "Annualized returns:\n",
      "\tLong: 5.38%\tLong-short:17.80%\n",
      "Standard deviation on returns:\n",
      "\tLong: 3.09\tLong-short:3.83\n",
      "Sharpe ratio:\n",
      "\tLong: 1.74\tLong-short:4.64\n",
      "Weight columns = Index(['yyyymm', 'total_melag'], dtype='object')\n",
      "   yyyymm  market_ret\n",
      "0  197601    0.000000\n",
      "1  197602   -0.057624\n",
      "2  197603    2.375386\n",
      "3  197604   -1.474004\n",
      "4  197605   -1.282115\n",
      "     yyyymm  market_ret\n",
      "0    197601    0.000000\n",
      "1    197602   -0.057624\n",
      "2    197603    2.375386\n",
      "3    197604   -1.474004\n",
      "4    197605   -1.282115\n",
      "..      ...         ...\n",
      "535  202008    7.645680\n",
      "536  202009   -3.641317\n",
      "537  202010   -2.086130\n",
      "538  202011   12.324246\n",
      "539  202012    4.597379\n",
      "\n",
      "[540 rows x 2 columns]\n"
     ]
    }
   ],
   "source": [
    "portfolioVW = Portfolio(returns, weighting='VW')\n",
    "# portfolioEW = Portfolio(returns, weighting='EW')"
   ]
  },
  {
   "cell_type": "code",
   "execution_count": 13,
   "metadata": {},
   "outputs": [],
   "source": [
    "# portfolioVW.plot_cumulative_returns(path=None)"
   ]
  },
  {
   "cell_type": "code",
   "execution_count": 14,
   "metadata": {},
   "outputs": [
    {
     "name": "stdout",
     "output_type": "stream",
     "text": [
      "IR & alpha calculation...\n",
      "Params\n",
      "const     0.529910\n",
      "Mkt-RF   -0.037006\n",
      "SMB      -0.639849\n",
      "HML       0.233324\n",
      "RMW      -0.038392\n",
      "CMA       0.167272\n",
      "Mom       0.048490\n",
      "ST_Rev   -0.026214\n",
      "dtype: float64\n",
      "tValues\n",
      "const      3.961545\n",
      "Mkt-RF    -1.056284\n",
      "SMB      -14.201959\n",
      "HML        4.151173\n",
      "RMW       -0.651356\n",
      "CMA        2.041973\n",
      "Mom        1.679058\n",
      "ST_Rev    -0.712709\n",
      "dtype: float64\n",
      "Linear Regression summary:\n",
      "                            OLS Regression Results                            \n",
      "==============================================================================\n",
      "Dep. Variable:                     10   R-squared:                       0.548\n",
      "Model:                            OLS   Adj. R-squared:                  0.537\n",
      "Method:                 Least Squares   F-statistic:                     49.85\n",
      "Date:                Sat, 22 Oct 2022   Prob (F-statistic):           4.00e-46\n",
      "Time:                        11:12:49   Log-Likelihood:                -636.86\n",
      "No. Observations:                 296   AIC:                             1290.\n",
      "Df Residuals:                     288   BIC:                             1319.\n",
      "Df Model:                           7                                         \n",
      "Covariance Type:            nonrobust                                         \n",
      "==============================================================================\n",
      "                 coef    std err          t      P>|t|      [0.025      0.975]\n",
      "------------------------------------------------------------------------------\n",
      "const          0.5299      0.134      3.962      0.000       0.267       0.793\n",
      "Mkt-RF        -0.0370      0.035     -1.056      0.292      -0.106       0.032\n",
      "SMB           -0.6398      0.045    -14.202      0.000      -0.729      -0.551\n",
      "HML            0.2333      0.056      4.151      0.000       0.123       0.344\n",
      "RMW           -0.0384      0.059     -0.651      0.515      -0.154       0.078\n",
      "CMA            0.1673      0.082      2.042      0.042       0.006       0.329\n",
      "Mom            0.0485      0.029      1.679      0.094      -0.008       0.105\n",
      "ST_Rev        -0.0262      0.037     -0.713      0.477      -0.099       0.046\n",
      "==============================================================================\n",
      "Omnibus:                       15.739   Durbin-Watson:                   1.940\n",
      "Prob(Omnibus):                  0.000   Jarque-Bera (JB):               33.940\n",
      "Skew:                           0.217   Prob(JB):                     4.27e-08\n",
      "Kurtosis:                       4.601   Cond. No.                         6.42\n",
      "==============================================================================\n",
      "\n",
      "Notes:\n",
      "[1] Standard Errors assume that the covariance matrix of the errors is correctly specified.\n",
      "\n",
      "Linear Regression R-squared:\n",
      "0.5478424848504408\n",
      "Informatio Ratio based on FF5FM+Mom regression: 0.22 (long)\n"
     ]
    }
   ],
   "source": [
    "portfolioVW.regress_on_FF5FM(method='long')"
   ]
  },
  {
   "cell_type": "code",
   "execution_count": 15,
   "metadata": {},
   "outputs": [
    {
     "name": "stdout",
     "output_type": "stream",
     "text": [
      "Average return:\n",
      "\tLong: 0.49%\tLong-short: 1.45%\n",
      "T is 296\n",
      "Annualized returns:\n",
      "\tLong: 5.38%\tLong-short:17.80%\n",
      "Standard deviation on returns:\n",
      "\tLong: 3.09\tLong-short:3.83\n",
      "Sharpe ratio:\n",
      "\tLong: 1.74\tLong-short:4.64\n",
      "Weight columns = Index(['yyyymm', 'total_melag'], dtype='object')\n",
      "   yyyymm  market_ret\n",
      "0  197601    0.000000\n",
      "1  197602   -0.057624\n",
      "2  197603    2.375386\n",
      "3  197604   -1.474004\n",
      "4  197605   -1.282115\n",
      "     yyyymm  market_ret\n",
      "0    197601    0.000000\n",
      "1    197602   -0.057624\n",
      "2    197603    2.375386\n",
      "3    197604   -1.474004\n",
      "4    197605   -1.282115\n",
      "..      ...         ...\n",
      "535  202008    7.645680\n",
      "536  202009   -3.641317\n",
      "537  202010   -2.086130\n",
      "538  202011   12.324246\n",
      "539  202012    4.597379\n",
      "\n",
      "[540 rows x 2 columns]\n"
     ]
    }
   ],
   "source": [
    "portfolioVW._calculate_metrics()"
   ]
  },
  {
   "cell_type": "markdown",
   "metadata": {},
   "source": [
    "### Check why return is not in the middle"
   ]
  },
  {
   "cell_type": "code",
   "execution_count": 16,
   "metadata": {},
   "outputs": [
    {
     "name": "stdout",
     "output_type": "stream",
     "text": [
      "Average Long returns: 0.49%\n",
      "Standard Dev. Long returns 3.10\n"
     ]
    }
   ],
   "source": [
    "print('Average Long returns: %.2f'%portfolioVW.returns.iloc[:,-2].mean()+'%')\n",
    "print('Standard Dev. Long returns %.2f'%portfolioVW.returns.iloc[:,-2].std())"
   ]
  },
  {
   "cell_type": "code",
   "execution_count": 17,
   "metadata": {},
   "outputs": [
    {
     "name": "stdout",
     "output_type": "stream",
     "text": [
      "Weight columns = Index(['yyyymm', 'total_melag'], dtype='object')\n",
      "   yyyymm  market_ret\n",
      "0  197601    0.000000\n",
      "1  197602   -0.057624\n",
      "2  197603    2.375386\n",
      "3  197604   -1.474004\n",
      "4  197605   -1.282115\n"
     ]
    }
   ],
   "source": [
    "from portfolios.market_portfolio import MarketPortfolio\n",
    "mp = MarketPortfolio()"
   ]
  },
  {
   "cell_type": "code",
   "execution_count": 18,
   "metadata": {},
   "outputs": [
    {
     "ename": "TypeError",
     "evalue": "remove_microcap_stocks() got an unexpected keyword argument 'keep_big_only'",
     "output_type": "error",
     "traceback": [
      "\u001b[0;31m---------------------------------------------------------------------------\u001b[0m",
      "\u001b[0;31mTypeError\u001b[0m                                 Traceback (most recent call last)",
      "\u001b[1;32m/home/ge65cuw/thesis/src/ensemble_NN3.ipynb Cell 20\u001b[0m in \u001b[0;36m<cell line: 7>\u001b[0;34m()\u001b[0m\n\u001b[1;32m      <a href='vscode-notebook-cell://ssh-remote%2B7b22686f73744e616d65223a2254554d5f536572766572227d/home/ge65cuw/thesis/src/ensemble_NN3.ipynb#X25sdnNjb2RlLXJlbW90ZQ%3D%3D?line=4'>5</a>\u001b[0m \u001b[39m# Load CRSP\u001b[39;00m\n\u001b[1;32m      <a href='vscode-notebook-cell://ssh-remote%2B7b22686f73744e616d65223a2254554d5f536572766572227d/home/ge65cuw/thesis/src/ensemble_NN3.ipynb#X25sdnNjb2RlLXJlbW90ZQ%3D%3D?line=5'>6</a>\u001b[0m crsp \u001b[39m=\u001b[39m dp\u001b[39m.\u001b[39mload_crsp()\n\u001b[0;32m----> <a href='vscode-notebook-cell://ssh-remote%2B7b22686f73744e616d65223a2254554d5f536572766572227d/home/ge65cuw/thesis/src/ensemble_NN3.ipynb#X25sdnNjb2RlLXJlbW90ZQ%3D%3D?line=6'>7</a>\u001b[0m crsp \u001b[39m=\u001b[39m dp\u001b[39m.\u001b[39;49mremove_microcap_stocks(crsp, keep_big_only\u001b[39m=\u001b[39;49m\u001b[39mTrue\u001b[39;49;00m)\n\u001b[1;32m      <a href='vscode-notebook-cell://ssh-remote%2B7b22686f73744e616d65223a2254554d5f536572766572227d/home/ge65cuw/thesis/src/ensemble_NN3.ipynb#X25sdnNjb2RlLXJlbW90ZQ%3D%3D?line=7'>8</a>\u001b[0m crsp \u001b[39m=\u001b[39m dp\u001b[39m.\u001b[39mfilter_exchange_code(crsp)\n\u001b[1;32m      <a href='vscode-notebook-cell://ssh-remote%2B7b22686f73744e616d65223a2254554d5f536572766572227d/home/ge65cuw/thesis/src/ensemble_NN3.ipynb#X25sdnNjb2RlLXJlbW90ZQ%3D%3D?line=8'>9</a>\u001b[0m crsp \u001b[39m=\u001b[39m dp\u001b[39m.\u001b[39mfilter_share_code(crsp)\n",
      "\u001b[0;31mTypeError\u001b[0m: remove_microcap_stocks() got an unexpected keyword argument 'keep_big_only'"
     ]
    }
   ],
   "source": [
    "import data.data_preprocessing as dp\n",
    "import pandas as pd\n",
    "import numpy as np\n",
    "\n",
    "# Load CRSP\n",
    "crsp = dp.load_crsp()\n",
    "crsp = dp.remove_microcap_stocks(crsp, keep_big_only=True)\n",
    "crsp = dp.filter_exchange_code(crsp)\n",
    "crsp = dp.filter_share_code(crsp)\n",
    "crsp = dp.calculate_excess_returns(crsp)\n",
    "\n",
    "crsp = crsp.drop(['siccd', 'me_nyse20','me_nyse50'], axis=1, errors='ignore')"
   ]
  },
  {
   "cell_type": "code",
   "execution_count": null,
   "metadata": {},
   "outputs": [
    {
     "data": {
      "text/html": [
       "<div>\n",
       "<style scoped>\n",
       "    .dataframe tbody tr th:only-of-type {\n",
       "        vertical-align: middle;\n",
       "    }\n",
       "\n",
       "    .dataframe tbody tr th {\n",
       "        vertical-align: top;\n",
       "    }\n",
       "\n",
       "    .dataframe thead th {\n",
       "        text-align: right;\n",
       "    }\n",
       "</style>\n",
       "<table border=\"1\" class=\"dataframe\">\n",
       "  <thead>\n",
       "    <tr style=\"text-align: right;\">\n",
       "      <th></th>\n",
       "      <th>permno</th>\n",
       "      <th>yyyymm</th>\n",
       "      <th>ret</th>\n",
       "      <th>melag</th>\n",
       "      <th>prc</th>\n",
       "      <th>me</th>\n",
       "      <th>StockSize</th>\n",
       "      <th>RF</th>\n",
       "    </tr>\n",
       "  </thead>\n",
       "  <tbody>\n",
       "    <tr>\n",
       "      <th>0</th>\n",
       "      <td>10006.0</td>\n",
       "      <td>197001</td>\n",
       "      <td>-5.957143</td>\n",
       "      <td>276409.000</td>\n",
       "      <td>46.375</td>\n",
       "      <td>261601.375</td>\n",
       "      <td>Big</td>\n",
       "      <td>0.6</td>\n",
       "    </tr>\n",
       "    <tr>\n",
       "      <th>1</th>\n",
       "      <td>10102.0</td>\n",
       "      <td>197001</td>\n",
       "      <td>3.216794</td>\n",
       "      <td>180714.500</td>\n",
       "      <td>17.000</td>\n",
       "      <td>187612.000</td>\n",
       "      <td>Big</td>\n",
       "      <td>0.6</td>\n",
       "    </tr>\n",
       "    <tr>\n",
       "      <th>2</th>\n",
       "      <td>10137.0</td>\n",
       "      <td>197001</td>\n",
       "      <td>-7.266667</td>\n",
       "      <td>428835.000</td>\n",
       "      <td>19.250</td>\n",
       "      <td>400246.000</td>\n",
       "      <td>Big</td>\n",
       "      <td>0.6</td>\n",
       "    </tr>\n",
       "    <tr>\n",
       "      <th>3</th>\n",
       "      <td>10145.0</td>\n",
       "      <td>197001</td>\n",
       "      <td>-4.189744</td>\n",
       "      <td>676284.375</td>\n",
       "      <td>23.500</td>\n",
       "      <td>652007.500</td>\n",
       "      <td>Big</td>\n",
       "      <td>0.6</td>\n",
       "    </tr>\n",
       "    <tr>\n",
       "      <th>4</th>\n",
       "      <td>10153.0</td>\n",
       "      <td>197001</td>\n",
       "      <td>13.685715</td>\n",
       "      <td>224490.000</td>\n",
       "      <td>24.000</td>\n",
       "      <td>256560.000</td>\n",
       "      <td>Big</td>\n",
       "      <td>0.6</td>\n",
       "    </tr>\n",
       "  </tbody>\n",
       "</table>\n",
       "</div>"
      ],
      "text/plain": [
       "    permno  yyyymm        ret       melag     prc          me StockSize   RF\n",
       "0  10006.0  197001  -5.957143  276409.000  46.375  261601.375       Big  0.6\n",
       "1  10102.0  197001   3.216794  180714.500  17.000  187612.000       Big  0.6\n",
       "2  10137.0  197001  -7.266667  428835.000  19.250  400246.000       Big  0.6\n",
       "3  10145.0  197001  -4.189744  676284.375  23.500  652007.500       Big  0.6\n",
       "4  10153.0  197001  13.685715  224490.000  24.000  256560.000       Big  0.6"
      ]
     },
     "execution_count": 5,
     "metadata": {},
     "output_type": "execute_result"
    }
   ],
   "source": [
    "crsp.head()"
   ]
  },
  {
   "cell_type": "code",
   "execution_count": null,
   "metadata": {},
   "outputs": [
    {
     "ename": "TypeError",
     "evalue": "remove_microcap_stocks() got an unexpected keyword argument 'keep_big_only'",
     "output_type": "error",
     "traceback": [
      "\u001b[0;31m---------------------------------------------------------------------------\u001b[0m",
      "\u001b[0;31mTypeError\u001b[0m                                 Traceback (most recent call last)",
      "\u001b[1;32m/home/ge65cuw/thesis/src/ensemble_NN3.ipynb Cell 21\u001b[0m in \u001b[0;36m<cell line: 2>\u001b[0;34m()\u001b[0m\n\u001b[1;32m      <a href='vscode-notebook-cell://ssh-remote%2B7b22686f73744e616d65223a2254554d5f536572766572227d/home/ge65cuw/thesis/src/ensemble_NN3.ipynb#X42sdnNjb2RlLXJlbW90ZQ%3D%3D?line=0'>1</a>\u001b[0m \u001b[39mfrom\u001b[39;00m \u001b[39mportfolios\u001b[39;00m\u001b[39m.\u001b[39;00m\u001b[39mmarket_portfolio\u001b[39;00m \u001b[39mimport\u001b[39;00m MarketPortfolio\n\u001b[0;32m----> <a href='vscode-notebook-cell://ssh-remote%2B7b22686f73744e616d65223a2254554d5f536572766572227d/home/ge65cuw/thesis/src/ensemble_NN3.ipynb#X42sdnNjb2RlLXJlbW90ZQ%3D%3D?line=1'>2</a>\u001b[0m mp_big \u001b[39m=\u001b[39m MarketPortfolio(big_stocks_only\u001b[39m=\u001b[39;49m\u001b[39mTrue\u001b[39;49;00m)\n",
      "File \u001b[0;32m~/thesis/src/portfolios/market_portfolio.py:10\u001b[0m, in \u001b[0;36mMarketPortfolio.__init__\u001b[0;34m(self, weighting, big_stocks_only)\u001b[0m\n\u001b[1;32m      8\u001b[0m \u001b[39mself\u001b[39m\u001b[39m.\u001b[39mweighting \u001b[39m=\u001b[39m weighting\n\u001b[1;32m      9\u001b[0m \u001b[39mself\u001b[39m\u001b[39m.\u001b[39mbig_stocks_only \u001b[39m=\u001b[39m big_stocks_only\n\u001b[0;32m---> 10\u001b[0m \u001b[39mself\u001b[39;49m\u001b[39m.\u001b[39;49m__load_crsp()\n\u001b[1;32m     11\u001b[0m \u001b[39mself\u001b[39m\u001b[39m.\u001b[39mmarket_ret_calculation()\n",
      "File \u001b[0;32m~/thesis/src/portfolios/market_portfolio.py:59\u001b[0m, in \u001b[0;36mMarketPortfolio.__load_crsp\u001b[0;34m(self)\u001b[0m\n\u001b[1;32m     56\u001b[0m \u001b[39mdef\u001b[39;00m \u001b[39m__load_crsp\u001b[39m(\u001b[39mself\u001b[39m):\n\u001b[1;32m     57\u001b[0m     \u001b[39m# Load CRSP\u001b[39;00m\n\u001b[1;32m     58\u001b[0m     crsp \u001b[39m=\u001b[39m dp\u001b[39m.\u001b[39mload_crsp()\n\u001b[0;32m---> 59\u001b[0m     crsp \u001b[39m=\u001b[39m dp\u001b[39m.\u001b[39;49mremove_microcap_stocks(crsp, keep_big_only\u001b[39m=\u001b[39;49m\u001b[39mself\u001b[39;49m\u001b[39m.\u001b[39;49mbig_stocks_only)\n\u001b[1;32m     60\u001b[0m     crsp \u001b[39m=\u001b[39m dp\u001b[39m.\u001b[39mfilter_exchange_code(crsp)\n\u001b[1;32m     61\u001b[0m     crsp \u001b[39m=\u001b[39m dp\u001b[39m.\u001b[39mfilter_share_code(crsp)\n",
      "\u001b[0;31mTypeError\u001b[0m: remove_microcap_stocks() got an unexpected keyword argument 'keep_big_only'"
     ]
    }
   ],
   "source": [
    "from portfolios.market_portfolio import MarketPortfolio\n",
    "mp_big = MarketPortfolio(big_stocks_only=True)"
   ]
  },
  {
   "cell_type": "code",
   "execution_count": null,
   "metadata": {},
   "outputs": [],
   "source": []
  }
 ],
 "metadata": {
  "kernelspec": {
   "display_name": "Python 3.10.4 ('thesis')",
   "language": "python",
   "name": "python3"
  },
  "language_info": {
   "codemirror_mode": {
    "name": "ipython",
    "version": 3
   },
   "file_extension": ".py",
   "mimetype": "text/x-python",
   "name": "python",
   "nbconvert_exporter": "python",
   "pygments_lexer": "ipython3",
   "version": "3.10.4"
  },
  "orig_nbformat": 4,
  "vscode": {
   "interpreter": {
    "hash": "b4804d781847468e0794096453e716a44bf82c4d93fcc1a726a520e37d704781"
   }
  }
 },
 "nbformat": 4,
 "nbformat_minor": 2
}
