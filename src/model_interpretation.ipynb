{
 "cells": [
  {
   "cell_type": "code",
   "execution_count": 1,
   "metadata": {},
   "outputs": [
    {
     "name": "stdout",
     "output_type": "stream",
     "text": [
      "Device: cpu\n",
      "Epochs: 100\n",
      "Random seed set at: 21\n"
     ]
    }
   ],
   "source": [
    "import pandas as pd\n",
    "import numpy as np\n",
    "from data.dataset import BaseDataset\n",
    "import torch\n",
    "import torch.nn as nn\n",
    "import torch.optim as optim\n",
    "import datetime as dt\n",
    "from data.crsp_dataset import CrspDataset\n",
    "from pandas.tseries.offsets import DateOffset\n",
    "from torch.utils.data import DataLoader\n",
    "from portfolios.ReturnsPrediction import ReturnsPrediction\n",
    "from models.neural_net.Optimize_Net import OptimizeNet\n",
    "import tuning.tuning_utils as tu\n",
    "import matplotlib.pyplot as plt\n",
    "\n",
    "# Captum imports\n",
    "from captum.attr import LayerConductance, LayerActivation, LayerIntegratedGradients\n",
    "from captum.attr import IntegratedGradients, DeepLift, GradientShap, NoiseTunnel, FeatureAblation\n",
    "\n",
    "path = '/home/ge65cuw/thesis/saved/final_results/img/feature_importance/'\n",
    "path_for_model = '/home/ge65cuw/thesis/saved/results/ModelInterpretation/'"
   ]
  },
  {
   "cell_type": "code",
   "execution_count": 2,
   "metadata": {},
   "outputs": [],
   "source": [
    "batch_size = 2000 #5000"
   ]
  },
  {
   "cell_type": "code",
   "execution_count": 3,
   "metadata": {},
   "outputs": [],
   "source": [
    "def visualize_importances(feature_names, importances, path, title=\"Average Feature Importances\", plot=True, axis_title=\"Features\", color_index = 5):\n",
    "    \n",
    "    importance_df = pd.DataFrame({'feature': feature_names, 'importance': importances})\n",
    "    importance_df_reindexed = importance_df.reindex(importance_df.importance.abs().sort_values(ascending=False).index)\n",
    "    importance_df_top = importance_df_reindexed.head(20) \n",
    "    importance_df = importance_df.sort_values(by='importance',ascending=True)\n",
    "    x_pos = (np.arange(len(feature_names)))\n",
    "    if plot:\n",
    "\n",
    "        # Remove the plot frame lines. They are unnecessary chartjunk.\n",
    "        # These are the \"Tableau 20\" colors as RGB.  \n",
    "        tableau20 = [(31, 119, 180), (174, 199, 232), (255, 127, 14), (255, 187, 120),  \n",
    "                    (44, 160, 44), (152, 223, 138), (214, 39, 40), (255, 152, 150),  \n",
    "                    (148, 103, 189), (197, 176, 213), (140, 86, 75), (196, 156, 148),  \n",
    "                    (227, 119, 194), (247, 182, 210), (127, 127, 127), (199, 199, 199),  \n",
    "                    (188, 189, 34), (219, 219, 141), (23, 190, 207), (158, 218, 229)]  \n",
    "\n",
    "        # Scale the RGB values to the [0, 1] range, which is the format matplotlib accepts.  \n",
    "        for i in range(len(tableau20)):  \n",
    "            r, g, b = tableau20[i]  \n",
    "            tableau20[i] = (r / 255., g / 255., b / 255.)  \n",
    "        path_top = path + '_fi_top20.png'\n",
    "        default_path = path + '_fi_full.png'\n",
    "        print(path)\n",
    "        print(path_top)\n",
    "        # path = path + '_feature_importance.png'\n",
    "        path_categorized = path + '_fi_categorized.png'\n",
    "        path_transposed = path + '_fi_full_transposed.png'\n",
    "\n",
    "        x_pos = (np.arange(len(importance_df['feature'])))\n",
    "\n",
    "        fig = plt.figure(figsize=(24,12))\n",
    "        ax = plt.axes()\n",
    "        ax.set_xticks(x_pos)\n",
    "        \n",
    "        ax.spines[\"top\"].set_visible(False)  \n",
    "        ax.spines[\"bottom\"].set_visible(True)  \n",
    "        ax.spines[\"right\"].set_visible(False)  \n",
    "        ax.spines[\"left\"].set_visible(True)  \n",
    "        ax.set_xticklabels(importance_df['feature'], rotation=90, ha='center', fontsize=12)\n",
    "        ax.bar(x_pos, importance_df['importance'],align='center', zorder=3, color=tableau20[color_index])\n",
    "        plt.margins(y=0.01, x=.005)\n",
    "        plt.axhline(y=0, color='grey', linestyle='-')\n",
    "        fig.tight_layout()\n",
    "        plt.savefig(default_path)\n",
    "        \n",
    "\n",
    "        # Transposed plot\n",
    "        y_pos = (np.arange(len(importance_df['feature'])))\n",
    "\n",
    "        fig = plt.figure(figsize=(8,35))\n",
    "        ax = plt.axes()\n",
    "        # ax.set_title('Feature Importance', fontsize=25)\n",
    "        ax.set_yticks(y_pos)\n",
    "        \n",
    "        ax.spines[\"top\"].set_visible(False)  \n",
    "        ax.spines[\"bottom\"].set_visible(True)  \n",
    "        ax.spines[\"right\"].set_visible(False)  \n",
    "        ax.spines[\"left\"].set_visible(True)  \n",
    "        ax.set_yticklabels(importance_df['feature'], rotation=0, fontsize=18)\n",
    "        ax.xaxis.labelpad = 0\n",
    "        ax.barh(y_pos, importance_df['importance'], align='center', zorder=3, color=tableau20[color_index])\n",
    "        plt.margins(x=0.01, y=.001)\n",
    "        # ax.xaxis.grid(True, linestyle='--',  zorder=0)\n",
    "        plt.axvline(x=0, color='grey', linestyle='-')\n",
    "        fig.tight_layout()\n",
    "        plt.show()\n",
    "        plt.savefig(path_transposed)\n",
    "        \n",
    "\n",
    "\n",
    "        # # Top 20 plot\n",
    "        # x_pos = (np.arange(len(importance_df_top['feature'])))\n",
    "\n",
    "        # fig = plt.figure(figsize=(12,9))\n",
    "        # ax = plt.axes()\n",
    "        # ax.get_xaxis().tick_bottom()\n",
    "        # ax.get_yaxis().tick_left()\n",
    "\n",
    "        # ax.spines[\"top\"].set_visible(False)  \n",
    "        # ax.spines[\"bottom\"].set_visible(True)  \n",
    "        # ax.spines[\"right\"].set_visible(False)  \n",
    "        # ax.spines[\"left\"].set_visible(True)  \n",
    "\n",
    "        # # ax.set_title('Feature Importance - Top 20 (of '+str(len(feature_names))+')', fontsize=25)\n",
    "        # ax.set_xticks(x_pos)\n",
    "        # ax.set_xticklabels(importance_df_top['feature'], rotation=45, ha='right', fontsize=14)\n",
    "        # ax.bar(x_pos, importance_df_top['importance'],align='center',  zorder=3, color=tableau20[color_index])\n",
    "        # ax.xaxis.grid(True, linestyle='--',  zorder=0)\n",
    "        # plt.axhline(y=0, color='grey', linestyle='-')\n",
    "        # fig.tight_layout()\n",
    "        # plt.ticklabel_format(style='sci', axis='y', scilimits=(0,0))\n",
    "        # # plt.yticks(range(-1, 1), fontsize=13)\n",
    "\n",
    "        # # plt.ylim(-0.5, 0.5)\n",
    "\n",
    "        # plt.tight_layout()\n",
    "        # plt.show()\n",
    "        # plt.savefig(path_top)\n",
    "\n",
    "        # Top 20 plot - transposed\n",
    "        importance_df_top = importance_df_top.sort_values(by='importance')\n",
    "        y_pos = (np.arange(len(importance_df_top['feature'])))\n",
    "\n",
    "        fig = plt.figure(figsize=(12,9))\n",
    "        ax = plt.axes()\n",
    "        ax.get_xaxis().tick_bottom()\n",
    "        ax.get_yaxis().tick_left()\n",
    "\n",
    "        ax.spines[\"top\"].set_visible(False)  \n",
    "        ax.spines[\"bottom\"].set_visible(True)  \n",
    "        ax.spines[\"right\"].set_visible(False)  \n",
    "        ax.spines[\"left\"].set_visible(True)  \n",
    "\n",
    "        ax.set_yticks(y_pos)\n",
    "        ax.set_yticklabels(importance_df_top['feature'], rotation=0, ha='right', fontsize=16)\n",
    "            \n",
    "        ax.barh(y_pos, importance_df_top['importance'],align='center',  zorder=3, color=tableau20[color_index])\n",
    "        # ax.yaxis.grid(True, linestyle='--',  zorder=0)\n",
    "        ax.xaxis.grid(True, linestyle='--',  zorder=0)\n",
    "        plt.axvline(x=0, color='grey', linestyle='-')\n",
    "        fig.tight_layout()\n",
    "        plt.margins(x=.05, y=.05)\n",
    "        plt.ticklabel_format(style='sci', axis='x', scilimits=(0,0))\n",
    "        # plt.tight_layout()\n",
    "        plt.show()\n",
    "        plt.savefig(path_top)\n",
    "\n",
    "        # Plot by factor categories\n",
    "\n",
    "        importance_df['cat'] = np.nan\n",
    "        factors =  {\n",
    "            'profitability': [\n",
    "                'roaq',\n",
    "                'CBOperProf',\n",
    "                # 'Investment',\n",
    "                # 'InvestPPEInv'\n",
    "                ],\n",
    "            'market': [\n",
    "                'BetaLiquidityPS',\n",
    "                'BetaTailRisk',\n",
    "                'betaVIX',\n",
    "                'SmileSlope',\n",
    "                # 'std_turn'\n",
    "                ],\n",
    "            'growth': [\n",
    "                'AssetGrowth',\n",
    "                'ChEQ',\n",
    "                'ChInv',\n",
    "                'GrAdExp',\n",
    "                # 'hire',\n",
    "                # 'InvGrowth'\n",
    "                ],\n",
    "        'quality': [\n",
    "            'fgr5yrLag',\n",
    "            'FEPS',\n",
    "            'BookLeverage',\n",
    "            'NetDebtPrice'\n",
    "        ],\n",
    "        'value': [\n",
    "            # 'Accruals',\n",
    "            'AccrualsBM',\n",
    "            'AM',\n",
    "            'BMdec',\n",
    "            # 'BookLeverage',\n",
    "            # 'BPEBM',\n",
    "            # 'EarningsStreak',\n",
    "            # 'CF',\n",
    "            'RDcap',\n",
    "            # 'EP'\n",
    "            ],\n",
    "            'momentum':[\n",
    "                'Mom12m',\n",
    "                'Mom6m',\n",
    "                'MomSeason',\n",
    "                'MomOffSeason'\n",
    "                # 'MomSeasonShort'\n",
    "            ]\n",
    "        }\n",
    "        \n",
    "        # fig, axs = plt.subplots(nrows=3, ncols=2, figsize=(15, 12))\n",
    "        # plt.subplots_adjust(hspace=0.5)\n",
    "        # fig.suptitle(\"Daily closing prices\", fontsize=18, y=0.95)\n",
    "\n",
    "        # loop through tickers and axes\n",
    "        # for k, ax in zip(factors.keys(), axs.ravel()):\n",
    "\n",
    "        # fig = plt.figure(figsize=(12,9))\n",
    "        # i = 0\n",
    "        # for k,v in factors.items():\n",
    "        #     i += 1\n",
    "        #     imp_df = importance_df.loc[importance_df.feature.isin(v)].copy()\n",
    "        #     ax = fig.add_subplot(3,2,i)\n",
    "            \n",
    "        #     x_pos = (np.arange(len(imp_df['feature'])))\n",
    "\n",
    "        #     ax.get_xaxis().tick_bottom()\n",
    "        #     ax.get_yaxis().tick_left()\n",
    "\n",
    "        #     # ax.spines[\"top\"].set_visible(False)  \n",
    "        #     # ax.spines[\"bottom\"].set_visible(True)  \n",
    "        #     # ax.spines[\"right\"].set_visible(False)  \n",
    "        #     # ax.spines[\"left\"].set_visible(True)  \n",
    "\n",
    "        #     ax.set_xticks(x_pos)\n",
    "        #     ax.set_xticklabels(imp_df['feature'], rotation=45, ha='right', fontsize=14)\n",
    "        #     ax.bar(x_pos, imp_df['importance'], align='center',  zorder=3, color=tableau20[color_index])\n",
    "        #     ax.set_title(k.capitalize())\n",
    "        #     ax.xaxis.grid(True, linestyle='--',  zorder=0)\n",
    "        #     plt.axhline(y=0, color='grey', linestyle='-')\n",
    "        #     fig.tight_layout()\n",
    "        #     plt.ticklabel_format(style='sci', axis='y', scilimits=(0,0))\n",
    "        # fig.tight_layout()\n",
    "\n",
    "        # Transposed plot by category\n",
    "        i=0\n",
    "        fig = plt.figure(figsize=(12,6))\n",
    "        for k,v in factors.items():\n",
    "            i += 1\n",
    "            imp_df = importance_df.loc[importance_df.feature.isin(v)].copy()\n",
    "            ax = fig.add_subplot(2,3,i)\n",
    "            \n",
    "            y_pos = (np.arange(len(imp_df['feature'])))\n",
    "            ax.get_xaxis().tick_bottom()\n",
    "            ax.get_yaxis().tick_left()\n",
    "\n",
    "            ax.spines[\"top\"].set_visible(False)  \n",
    "            ax.spines[\"bottom\"].set_visible(True)  \n",
    "            ax.spines[\"right\"].set_visible(False)  \n",
    "            ax.spines[\"left\"].set_visible(True)  \n",
    "\n",
    "            ax.set_yticks(y_pos)\n",
    "            ax.set_yticklabels(imp_df['feature'], rotation=0, ha='right', fontsize=14)\n",
    "            ax.barh(y_pos, imp_df['importance'], align='center',  zorder=3, color=tableau20[color_index])#, height=0.8)\n",
    "            ax.set_title(k.capitalize())\n",
    "            ax.xaxis.grid(True, linestyle='--',  zorder=0)\n",
    "            plt.margins(x=.05, y=.05)\n",
    "            plt.axvline(x=0, color='grey', linestyle='-')\n",
    "            fig.tight_layout()\n",
    "            plt.ticklabel_format(style='sci', axis='x', scilimits=(0,0))\n",
    "        fig.tight_layout()\n",
    "        plt.savefig(path_categorized)\n"
   ]
  },
  {
   "cell_type": "code",
   "execution_count": 4,
   "metadata": {},
   "outputs": [],
   "source": [
    "def visualize_importances(feature_names, importances, path, title=\"Average Feature Importances\", plot=True, axis_title=\"Features\", color_index = 5):\n",
    "    \n",
    "    importance_df = pd.DataFrame({'feature': feature_names, 'importance': importances})\n",
    "    importance_df_reindexed = importance_df.reindex(importance_df.importance.abs().sort_values(ascending=False).index)\n",
    "    importance_df_top = importance_df_reindexed.head(20) \n",
    "    importance_df = importance_df.sort_values(by='importance',ascending=True)\n",
    "    x_pos = (np.arange(len(feature_names)))\n",
    "    if plot:\n",
    "\n",
    "        tableau20 = [(31, 119, 180), (174, 199, 232), (255, 127, 14), (255, 187, 120),  \n",
    "                    (44, 160, 44), (152, 223, 138), (214, 39, 40), (255, 152, 150),  \n",
    "                    (148, 103, 189), (197, 176, 213), (140, 86, 75), (196, 156, 148),  \n",
    "                    (227, 119, 194), (247, 182, 210), (127, 127, 127), (199, 199, 199),  \n",
    "                    (188, 189, 34), (219, 219, 141), (23, 190, 207), (158, 218, 229)]  \n",
    "\n",
    "        for i in range(len(tableau20)):  \n",
    "            r, g, b = tableau20[i]  \n",
    "            tableau20[i] = (r / 255., g / 255., b / 255.)  \n",
    "        path_top = path + '_fi_top20.png'\n",
    "        default_path = path + '_fi_full.png'\n",
    "        path_categorized = path + '_fi_categorized.png'\n",
    "        path_transposed = path + '_fi_full_transposed.png'\n",
    "\n",
    "      \n",
    "        # Top 20 plot - transposed\n",
    "        importance_df_top = importance_df_top.sort_values(by='importance')\n",
    "        y_pos = (np.arange(len(importance_df_top['feature'])))\n",
    "\n",
    "        fig = plt.figure(figsize=(17,15))\n",
    "        ax = plt.axes()\n",
    "        ax.get_xaxis().tick_bottom()\n",
    "        ax.get_yaxis().tick_left()\n",
    "\n",
    "        ax.spines[\"top\"].set_visible(False)  \n",
    "        ax.spines[\"bottom\"].set_visible(True)  \n",
    "        ax.spines[\"right\"].set_visible(False)  \n",
    "        ax.spines[\"left\"].set_visible(True)  \n",
    "\n",
    "        ax.set_yticks(y_pos)\n",
    "        ax.set_yticklabels(importance_df_top['feature'], rotation=0, ha='right', fontsize=16)\n",
    "            \n",
    "        ax.barh(y_pos, importance_df_top['importance'],align='center',  zorder=3, color=tableau20[color_index])\n",
    "        ax.xaxis.grid(True, linestyle='--',  zorder=0)\n",
    "        plt.axvline(x=0, color='grey', linestyle='-')\n",
    "        plt.margins(x=.05, y=.05)\n",
    "        plt.ticklabel_format(style='sci', axis='x', scilimits=(0,0))\n",
    "        plt.tight_layout()\n",
    "        fig.show()\n",
    "        print(path_top)\n",
    "        fig.savefig(path_top)\n",
    "\n",
    "        # Plot by factor categories\n",
    "\n",
    "        importance_df['cat'] = np.nan\n",
    "        factors =  {\n",
    "            'profitability': ['roaq','CBOperProf'],\n",
    "            'market': ['BetaLiquidityPS','BetaTailRisk','betaVIX','SmileSlope'],\n",
    "            'growth': [\n",
    "                'AssetGrowth',\n",
    "                'ChEQ',\n",
    "                'ChInv',\n",
    "                'GrAdExp',\n",
    "                ],\n",
    "        'quality': ['fgr5yrLag','FEPS','BookLeverage','NetDebtPrice'],\n",
    "        'value': ['AccrualsBM','AM','BMdec','RDcap',],\n",
    "        'momentum':[\n",
    "                'Mom12m',\n",
    "                'Mom6m',\n",
    "                'MomSeason',\n",
    "                'MomOffSeason'\n",
    "            ]\n",
    "        }\n",
    "        \n",
    "        # Transposed plot by category\n",
    "        i=0\n",
    "        fig = plt.figure(figsize=(12,6))\n",
    "        for k,v in factors.items():\n",
    "            i += 1\n",
    "            imp_df = importance_df.loc[importance_df.feature.isin(v)].copy()\n",
    "            ax = fig.add_subplot(2,3,i)\n",
    "            \n",
    "            y_pos = (np.arange(len(imp_df['feature'])))\n",
    "            ax.get_xaxis().tick_bottom()\n",
    "            ax.get_yaxis().tick_left()\n",
    "\n",
    "            ax.spines[\"top\"].set_visible(False)  \n",
    "            ax.spines[\"bottom\"].set_visible(True)  \n",
    "            ax.spines[\"right\"].set_visible(False)  \n",
    "            ax.spines[\"left\"].set_visible(True)  \n",
    "\n",
    "            ax.set_yticks(y_pos)\n",
    "            ax.set_yticklabels(imp_df['feature'], rotation=0, ha='right', fontsize=14)\n",
    "            ax.barh(y_pos, imp_df['importance'], align='center',  zorder=3, color=tableau20[color_index])#, height=0.8)\n",
    "            ax.set_title(k.capitalize())\n",
    "            ax.xaxis.grid(True, linestyle='--',  zorder=0)\n",
    "            plt.margins(x=.05, y=.05)\n",
    "            plt.axvline(x=0, color='grey', linestyle='-')\n",
    "            fig.tight_layout()\n",
    "            plt.ticklabel_format(style='sci', axis='x', scilimits=(0,0))\n",
    "        fig.tight_layout()\n",
    "        plt.savefig(path_categorized)\n"
   ]
  },
  {
   "cell_type": "markdown",
   "metadata": {},
   "source": [
    "# My Network "
   ]
  },
  {
   "cell_type": "code",
   "execution_count": 5,
   "metadata": {},
   "outputs": [],
   "source": [
    "Top_Net = 'model_16684133429276826.pt' "
   ]
  },
  {
   "cell_type": "code",
   "execution_count": 6,
   "metadata": {},
   "outputs": [],
   "source": [
    "dataset = BaseDataset()\n",
    "df = dataset.df\n",
    "df = df.drop('Beta',axis=1)"
   ]
  },
  {
   "cell_type": "code",
   "execution_count": null,
   "metadata": {},
   "outputs": [],
   "source": [
    "idx = df.columns.to_list().index('ret')+1\n",
    "feature_names = df.columns.to_list()[idx:]"
   ]
  },
  {
   "cell_type": "markdown",
   "metadata": {},
   "source": [
    "## Prepare data"
   ]
  },
  {
   "cell_type": "code",
   "execution_count": null,
   "metadata": {},
   "outputs": [],
   "source": [
    "test_dates = list(\n",
    "    pd.period_range(\n",
    "        start= (dt.datetime.strptime(str(202012), '%Y%m') + DateOffset(months=1)),\n",
    "        periods=12,\n",
    "        freq='M'\n",
    "        ).strftime('%Y%m')\n",
    "        .astype(int)\n",
    "        )\n",
    "train_dates = list(\n",
    "    pd.period_range(\n",
    "        start= (dt.datetime.strptime(str(198912), '%Y%m') + DateOffset(months=1)),\n",
    "        periods=12*25,\n",
    "        freq='M'\n",
    "        ).strftime('%Y%m')\n",
    "        .astype(int)\n",
    "        )        \n",
    "\n",
    "train = df.loc[df['yyyymm'].isin(train_dates)].copy()\n",
    "test = df.loc[df['yyyymm'].isin(test_dates)].copy()\n",
    "\n",
    "train = CrspDataset(train)\n",
    "test = CrspDataset(test)\n",
    "\n",
    "n_inputs = test.get_inputs()\n",
    "\n",
    "train_loader = DataLoader(train, batch_size=batch_size, shuffle=True)\n",
    "test_loader = DataLoader(test, batch_size=batch_size)\n",
    "\n",
    "train_iter = iter(train_loader)\n",
    "train_inputs, train_target, train_labels = train_iter.next()\n",
    "\n",
    "dataiter = iter(test_loader)\n",
    "inputs, target, labels = dataiter.next()"
   ]
  },
  {
   "cell_type": "code",
   "execution_count": null,
   "metadata": {},
   "outputs": [],
   "source": [
    "params = {\n",
    "        \"hidden_layer1\": 512,\n",
    "        \"hidden_layer2\": 256,\n",
    "        \"hidden_layer3\": 64,\n",
    "        \"hidden_layer4\": 0,\n",
    "        \"hidden_layer5\": 0,\n",
    "        \"hidden_layer6\": 0,\n",
    "        \"hidden_layer7\": 0,\n",
    "        \"hidden_layer8\": 0,\n",
    "        \"hidden_layer9\": 0,\n",
    "        \"hidden_layer10\": 0,\n",
    "        \"act_func\": \"ReLU\",\n",
    "        \"learning_rate\": 0.001,\n",
    "        \"optimizer\":    \"Nadam\",\n",
    "        \"l1_lambda1\":   0.001,\n",
    "        \"dropout_prob\": 0.7,\n",
    "        'batch_norm':   1,\n",
    "        'patience':     10 \n",
    "    } \n",
    "model = OptimizeNet(n_inputs=n_inputs, params=params)\n",
    "optimizer = tu.map_optimizer(params, model.parameters())"
   ]
  },
  {
   "cell_type": "markdown",
   "metadata": {},
   "source": [
    "## Load model"
   ]
  },
  {
   "cell_type": "code",
   "execution_count": null,
   "metadata": {},
   "outputs": [
    {
     "data": {
      "text/plain": [
       "OptimizeNet(\n",
       "  (act_func): ReLU()\n",
       "  (fc1): Sequential(\n",
       "    (0): Linear(in_features=132, out_features=512, bias=True)\n",
       "    (1): ReLU()\n",
       "    (2): Dropout(p=0.7, inplace=False)\n",
       "  )\n",
       "  (fc2): Sequential(\n",
       "    (0): Linear(in_features=512, out_features=256, bias=True)\n",
       "    (1): ReLU()\n",
       "    (2): Dropout(p=0.7, inplace=False)\n",
       "  )\n",
       "  (fc3): Sequential(\n",
       "    (0): Linear(in_features=256, out_features=64, bias=True)\n",
       "    (1): ReLU()\n",
       "    (2): Dropout(p=0.7, inplace=False)\n",
       "  )\n",
       "  (out): Linear(in_features=64, out_features=1, bias=True)\n",
       ")"
      ]
     },
     "execution_count": 111,
     "metadata": {},
     "output_type": "execute_result"
    }
   ],
   "source": [
    "model_path = path_for_model + 'models/' + Top_Net\n",
    "checkpoint = torch.load(model_path)\n",
    "model.load_state_dict(checkpoint['model_state_dict'])\n",
    "optimizer.load_state_dict(checkpoint['optimizer_state_dict'])\n",
    "model.train()"
   ]
  },
  {
   "cell_type": "code",
   "execution_count": null,
   "metadata": {},
   "outputs": [],
   "source": [
    "X_test = inputs.float()\n",
    "X_test.requires_grad_()\n",
    "\n",
    "X_train = train_inputs.float()\n",
    "X_train.requires_grad_()\n",
    "\n",
    "ig = IntegratedGradients(model)\n",
    "ig_nt = NoiseTunnel(ig)\n",
    "# dl = DeepLift(model)\n",
    "gs = GradientShap(model)\n",
    "fa = FeatureAblation(model)\n",
    "\n",
    "nn3_ig_attr, delta = ig.attribute(X_test, return_convergence_delta=True)\n",
    "# ig_nt_attr_test = ig_nt.attribute(X_test)\n",
    "# dl_attr_test = dl.attribute(X_test)\n",
    "# gs_attr_nn3_test = gs.attribute(X_test, X_train)\n",
    "# fa_attr_test = fa.attribute(X_test)"
   ]
  },
  {
   "cell_type": "markdown",
   "metadata": {},
   "source": [
    "## Integrated Gradients"
   ]
  },
  {
   "cell_type": "code",
   "execution_count": null,
   "metadata": {},
   "outputs": [],
   "source": [
    "save_path = path + 'nn3'"
   ]
  },
  {
   "cell_type": "code",
   "execution_count": null,
   "metadata": {},
   "outputs": [
    {
     "name": "stdout",
     "output_type": "stream",
     "text": [
      "/home/ge65cuw/thesis/saved/final_results/img/feature_importance/nn3_fi_top20.png\n"
     ]
    },
    {
     "data": {
      "image/png": "[encoded data removed]",
      "text/plain": [
       "<Figure size 1224x1080 with 1 Axes>"
      ]
     },
     "metadata": {
      "needs_background": "light"
     },
     "output_type": "display_data"
    },
    {
     "data": {
      "image/png": "[encoded data removed]",
      "text/plain": [
       "<Figure size 864x432 with 6 Axes>"
      ]
     },
     "metadata": {
      "needs_background": "light"
     },
     "output_type": "display_data"
    }
   ],
   "source": [
    "nn3_attr = nn3_ig_attr.to('cpu').detach().numpy()\n",
    "visualize_importances(feature_names, np.mean(nn3_attr, axis=0), save_path)\n"
   ]
  },
  {
   "cell_type": "code",
   "execution_count": null,
   "metadata": {},
   "outputs": [
    {
     "data": {
      "text/html": [
       "<div>\n",
       "<style scoped>\n",
       "    .dataframe tbody tr th:only-of-type {\n",
       "        vertical-align: middle;\n",
       "    }\n",
       "\n",
       "    .dataframe tbody tr th {\n",
       "        vertical-align: top;\n",
       "    }\n",
       "\n",
       "    .dataframe thead th {\n",
       "        text-align: right;\n",
       "    }\n",
       "</style>\n",
       "<table border=\"1\" class=\"dataframe\">\n",
       "  <thead>\n",
       "    <tr style=\"text-align: right;\">\n",
       "      <th></th>\n",
       "      <th>feature</th>\n",
       "      <th>nn3_importance</th>\n",
       "    </tr>\n",
       "  </thead>\n",
       "  <tbody>\n",
       "    <tr>\n",
       "      <th>131</th>\n",
       "      <td>zerotradeAlt12</td>\n",
       "      <td>0.006497</td>\n",
       "    </tr>\n",
       "    <tr>\n",
       "      <th>130</th>\n",
       "      <td>zerotradeAlt1</td>\n",
       "      <td>-0.003835</td>\n",
       "    </tr>\n",
       "    <tr>\n",
       "      <th>129</th>\n",
       "      <td>zerotrade</td>\n",
       "      <td>-0.001913</td>\n",
       "    </tr>\n",
       "    <tr>\n",
       "      <th>123</th>\n",
       "      <td>tang</td>\n",
       "      <td>0.002250</td>\n",
       "    </tr>\n",
       "    <tr>\n",
       "      <th>120</th>\n",
       "      <td>std_turn</td>\n",
       "      <td>0.001671</td>\n",
       "    </tr>\n",
       "    <tr>\n",
       "      <th>...</th>\n",
       "      <td>...</td>\n",
       "      <td>...</td>\n",
       "    </tr>\n",
       "    <tr>\n",
       "      <th>4</th>\n",
       "      <td>AnnouncementReturn</td>\n",
       "      <td>0.009768</td>\n",
       "    </tr>\n",
       "    <tr>\n",
       "      <th>2</th>\n",
       "      <td>Activism1</td>\n",
       "      <td>0.000000</td>\n",
       "    </tr>\n",
       "    <tr>\n",
       "      <th>1</th>\n",
       "      <td>AccrualsBM</td>\n",
       "      <td>-0.000363</td>\n",
       "    </tr>\n",
       "    <tr>\n",
       "      <th>0</th>\n",
       "      <td>Accruals</td>\n",
       "      <td>-0.001077</td>\n",
       "    </tr>\n",
       "    <tr>\n",
       "      <th>3</th>\n",
       "      <td>AM</td>\n",
       "      <td>0.030617</td>\n",
       "    </tr>\n",
       "  </tbody>\n",
       "</table>\n",
       "<p>132 rows × 2 columns</p>\n",
       "</div>"
      ],
      "text/plain": [
       "                feature  nn3_importance\n",
       "131      zerotradeAlt12        0.006497\n",
       "130       zerotradeAlt1       -0.003835\n",
       "129           zerotrade       -0.001913\n",
       "123                tang        0.002250\n",
       "120            std_turn        0.001671\n",
       "..                  ...             ...\n",
       "4    AnnouncementReturn        0.009768\n",
       "2             Activism1        0.000000\n",
       "1            AccrualsBM       -0.000363\n",
       "0              Accruals       -0.001077\n",
       "3                    AM        0.030617\n",
       "\n",
       "[132 rows x 2 columns]"
      ]
     },
     "execution_count": 115,
     "metadata": {},
     "output_type": "execute_result"
    }
   ],
   "source": [
    "nn3_importances = np.mean(nn3_attr, axis=0)\n",
    "nn3_importance_df = pd.DataFrame({'feature': feature_names, 'nn3_importance': nn3_importances})\n",
    "nn3_importance_df = nn3_importance_df.sort_values(by='feature', ascending=False)\n",
    "nn3_importance_df"
   ]
  },
  {
   "cell_type": "markdown",
   "metadata": {},
   "source": [
    "## Integrated Gradients - Noise Tunnel"
   ]
  },
  {
   "cell_type": "code",
   "execution_count": null,
   "metadata": {},
   "outputs": [],
   "source": [
    "# attr = ig_nt_attr_test.to('cpu').detach().numpy()\n",
    "# visualize_importances(feature_names, np.mean(attr, axis=0), path)"
   ]
  },
  {
   "cell_type": "markdown",
   "metadata": {},
   "source": [
    "## Gradient Shap"
   ]
  },
  {
   "cell_type": "code",
   "execution_count": null,
   "metadata": {},
   "outputs": [],
   "source": [
    "# attr_nn3 = gs_attr_nn3_test.to('cpu').detach().numpy()\n",
    "# visualize_importances(feature_names, np.mean(attr_nn3, axis=0), path)"
   ]
  },
  {
   "cell_type": "markdown",
   "metadata": {},
   "source": [
    "## Feature Ablation"
   ]
  },
  {
   "cell_type": "code",
   "execution_count": null,
   "metadata": {},
   "outputs": [],
   "source": [
    "# attr = fa_attr_test.to('cpu').detach().numpy()\n",
    "# visualize_importances(feature_names, np.mean(attr, axis=0), path)"
   ]
  },
  {
   "cell_type": "markdown",
   "metadata": {},
   "source": [
    "# Gu Net"
   ]
  },
  {
   "cell_type": "markdown",
   "metadata": {},
   "source": [
    "## Data prep"
   ]
  },
  {
   "cell_type": "code",
   "execution_count": null,
   "metadata": {},
   "outputs": [
    {
     "name": "stdout",
     "output_type": "stream",
     "text": [
      "Dataset loaded, the columns are:\n",
      "Index(['permno', 'yyyymm', 'ret', 'Beta', 'Accruals', 'AccrualsBM',\n",
      "       'Activism1', 'AM', 'AnnouncementReturn', 'AssetGrowth',\n",
      "       ...\n",
      "       'SurpriseRD', 'tang', 'Tax', 'TotalAccruals', 'TrendFactor', 'VolSD',\n",
      "       'XFIN', 'zerotrade', 'zerotradeAlt1', 'zerotradeAlt12'],\n",
      "      dtype='object', length=136)\n"
     ]
    }
   ],
   "source": [
    "Gu_net = 'model_16684484170777052.pt'\n",
    "dataset = BaseDataset()\n",
    "df = dataset.df\n",
    "df = df.drop('Beta',axis=1)\n",
    "\n",
    "\n",
    "idx = df.columns.to_list().index('ret')+1\n",
    "feature_names = df.columns.to_list()[idx:]\n",
    "\n",
    "test_dates = list(\n",
    "    pd.period_range(\n",
    "        start= (dt.datetime.strptime(str(202012), '%Y%m') + DateOffset(months=1)),\n",
    "        periods=12,\n",
    "        freq='M'\n",
    "        ).strftime('%Y%m')\n",
    "        .astype(int)\n",
    "        )\n",
    "train_dates = list(\n",
    "    pd.period_range(\n",
    "        start= (dt.datetime.strptime(str(198912), '%Y%m') + DateOffset(months=1)),\n",
    "        periods=12*25,\n",
    "        freq='M'\n",
    "        ).strftime('%Y%m')\n",
    "        .astype(int)\n",
    "        )        \n",
    "\n",
    "train = df.loc[df['yyyymm'].isin(train_dates)].copy()\n",
    "test = df.loc[df['yyyymm'].isin(test_dates)].copy()\n",
    "\n",
    "train = CrspDataset(train)\n",
    "test = CrspDataset(test)\n",
    "\n",
    "n_inputs = test.get_inputs()\n",
    "\n",
    "train_loader = DataLoader(train, batch_size=batch_size, shuffle=True)\n",
    "test_loader = DataLoader(test, batch_size=batch_size)\n",
    "\n",
    "train_iter = iter(train_loader)\n",
    "train_inputs, train_target, train_labels = train_iter.next()\n",
    "\n",
    "dataiter = iter(test_loader)\n",
    "inputs, target, labels = dataiter.next()"
   ]
  },
  {
   "cell_type": "markdown",
   "metadata": {},
   "source": [
    "## Load model"
   ]
  },
  {
   "cell_type": "code",
   "execution_count": null,
   "metadata": {},
   "outputs": [
    {
     "data": {
      "text/plain": [
       "0.05"
      ]
     },
     "execution_count": 120,
     "metadata": {},
     "output_type": "execute_result"
    }
   ],
   "source": [
    "model_path = path_for_model + 'models/' + Gu_net\n",
    "checkpoint = torch.load(model_path)\n",
    "checkpoint['params']['learning_rate']"
   ]
  },
  {
   "cell_type": "code",
   "execution_count": null,
   "metadata": {},
   "outputs": [
    {
     "data": {
      "text/plain": [
       "GuNN4(\n",
       "  (net): Sequential(\n",
       "    (0): Linear(in_features=132, out_features=32, bias=True)\n",
       "    (1): BatchNorm1d(32, eps=1e-05, momentum=0.1, affine=True, track_running_stats=True)\n",
       "    (2): ReLU()\n",
       "    (3): Linear(in_features=32, out_features=16, bias=True)\n",
       "    (4): BatchNorm1d(16, eps=1e-05, momentum=0.1, affine=True, track_running_stats=True)\n",
       "    (5): ReLU()\n",
       "    (6): Linear(in_features=16, out_features=8, bias=True)\n",
       "    (7): BatchNorm1d(8, eps=1e-05, momentum=0.1, affine=True, track_running_stats=True)\n",
       "    (8): ReLU()\n",
       "    (9): Linear(in_features=8, out_features=4, bias=True)\n",
       "    (10): BatchNorm1d(4, eps=1e-05, momentum=0.1, affine=True, track_running_stats=True)\n",
       "    (11): ReLU()\n",
       "    (12): Linear(in_features=4, out_features=1, bias=True)\n",
       "  )\n",
       ")"
      ]
     },
     "execution_count": 121,
     "metadata": {},
     "output_type": "execute_result"
    }
   ],
   "source": [
    "from models.neural_net.gu_et_al_NN4 import GuNN4\n",
    "model = GuNN4(n_inputs)\n",
    "\n",
    "model_path = path_for_model + 'models/' + Gu_net\n",
    "checkpoint = torch.load(model_path)\n",
    "optimizer = optim.Adam(model.parameters(),\n",
    "            checkpoint['params']['learning_rate'],\n",
    "            # Uncomment when will be using them as parameters\n",
    "            betas=(\n",
    "                checkpoint['params']['adam_beta_1'], \n",
    "                checkpoint['params']['adam_beta_2'])\n",
    "                )\n",
    "\n",
    "model.load_state_dict(checkpoint['model_state_dict'])\n",
    "optimizer.load_state_dict(checkpoint['optimizer_state_dict'])\n",
    "model.train()"
   ]
  },
  {
   "cell_type": "markdown",
   "metadata": {},
   "source": [
    "## Calculate importance"
   ]
  },
  {
   "cell_type": "code",
   "execution_count": null,
   "metadata": {},
   "outputs": [],
   "source": [
    "X_test = inputs.float()\n",
    "X_test.requires_grad_()\n",
    "\n",
    "X_train = train_inputs.float()\n",
    "X_train.requires_grad_()\n",
    "\n",
    "ig = IntegratedGradients(model)\n",
    "ig_nt = NoiseTunnel(ig)\n",
    "# dl = DeepLift(model)\n",
    "gs = GradientShap(model)\n",
    "fa = FeatureAblation(model)\n",
    "\n",
    "gu_ig_attr, delta = ig.attribute(X_test, return_convergence_delta=True)\n",
    "# ig_nt_attr_test = ig_nt.attribute(X_test)\n",
    "# dl_attr_test = dl.attribute(X_test)\n",
    "# gs_attr_gu_test = gs.attribute(X_test, X_train)\n",
    "# fa_attr_test = fa.attribute(X_test)"
   ]
  },
  {
   "cell_type": "code",
   "execution_count": null,
   "metadata": {},
   "outputs": [],
   "source": [
    "save_path = path + 'gu'"
   ]
  },
  {
   "cell_type": "markdown",
   "metadata": {},
   "source": [
    "## Integrated Gradients"
   ]
  },
  {
   "cell_type": "code",
   "execution_count": null,
   "metadata": {},
   "outputs": [
    {
     "name": "stdout",
     "output_type": "stream",
     "text": [
      "/home/ge65cuw/thesis/saved/final_results/img/feature_importance/gu_fi_top20.png\n"
     ]
    },
    {
     "data": {
      "image/png": "[encoded data removed]",
      "text/plain": [
       "<Figure size 1224x1080 with 1 Axes>"
      ]
     },
     "metadata": {
      "needs_background": "light"
     },
     "output_type": "display_data"
    },
    {
     "data": {
      "image/png": "[encoded data removed]",
      "text/plain": [
       "<Figure size 864x432 with 6 Axes>"
      ]
     },
     "metadata": {
      "needs_background": "light"
     },
     "output_type": "display_data"
    }
   ],
   "source": [
    "gu_attr = gu_ig_attr.to('cpu').detach().numpy()\n",
    "visualize_importances(feature_names, np.mean(gu_attr, axis=0), save_path, color_index=3)"
   ]
  },
  {
   "cell_type": "markdown",
   "metadata": {},
   "source": [
    "# Convert importances to LaTeX table"
   ]
  },
  {
   "cell_type": "code",
   "execution_count": null,
   "metadata": {},
   "outputs": [
    {
     "data": {
      "text/html": [
       "<div>\n",
       "<style scoped>\n",
       "    .dataframe tbody tr th:only-of-type {\n",
       "        vertical-align: middle;\n",
       "    }\n",
       "\n",
       "    .dataframe tbody tr th {\n",
       "        vertical-align: top;\n",
       "    }\n",
       "\n",
       "    .dataframe thead th {\n",
       "        text-align: right;\n",
       "    }\n",
       "</style>\n",
       "<table border=\"1\" class=\"dataframe\">\n",
       "  <thead>\n",
       "    <tr style=\"text-align: right;\">\n",
       "      <th></th>\n",
       "      <th>feature</th>\n",
       "      <th>gu_importance</th>\n",
       "    </tr>\n",
       "  </thead>\n",
       "  <tbody>\n",
       "    <tr>\n",
       "      <th>9</th>\n",
       "      <td>BMdec</td>\n",
       "      <td>0.006373</td>\n",
       "    </tr>\n",
       "    <tr>\n",
       "      <th>3</th>\n",
       "      <td>AM</td>\n",
       "      <td>0.005569</td>\n",
       "    </tr>\n",
       "    <tr>\n",
       "      <th>121</th>\n",
       "      <td>STreversal</td>\n",
       "      <td>0.005011</td>\n",
       "    </tr>\n",
       "    <tr>\n",
       "      <th>75</th>\n",
       "      <td>Mom12m</td>\n",
       "      <td>0.004424</td>\n",
       "    </tr>\n",
       "    <tr>\n",
       "      <th>126</th>\n",
       "      <td>TrendFactor</td>\n",
       "      <td>0.004018</td>\n",
       "    </tr>\n",
       "    <tr>\n",
       "      <th>...</th>\n",
       "      <td>...</td>\n",
       "      <td>...</td>\n",
       "    </tr>\n",
       "    <tr>\n",
       "      <th>51</th>\n",
       "      <td>ForecastDispersion</td>\n",
       "      <td>-0.003999</td>\n",
       "    </tr>\n",
       "    <tr>\n",
       "      <th>20</th>\n",
       "      <td>ChInv</td>\n",
       "      <td>-0.004103</td>\n",
       "    </tr>\n",
       "    <tr>\n",
       "      <th>74</th>\n",
       "      <td>MaxRet</td>\n",
       "      <td>-0.004339</td>\n",
       "    </tr>\n",
       "    <tr>\n",
       "      <th>130</th>\n",
       "      <td>zerotradeAlt1</td>\n",
       "      <td>-0.006100</td>\n",
       "    </tr>\n",
       "    <tr>\n",
       "      <th>63</th>\n",
       "      <td>IdioVolAHT</td>\n",
       "      <td>-0.006322</td>\n",
       "    </tr>\n",
       "  </tbody>\n",
       "</table>\n",
       "<p>132 rows × 2 columns</p>\n",
       "</div>"
      ],
      "text/plain": [
       "                feature  gu_importance\n",
       "9                 BMdec       0.006373\n",
       "3                    AM       0.005569\n",
       "121          STreversal       0.005011\n",
       "75               Mom12m       0.004424\n",
       "126         TrendFactor       0.004018\n",
       "..                  ...            ...\n",
       "51   ForecastDispersion      -0.003999\n",
       "20                ChInv      -0.004103\n",
       "74               MaxRet      -0.004339\n",
       "130       zerotradeAlt1      -0.006100\n",
       "63           IdioVolAHT      -0.006322\n",
       "\n",
       "[132 rows x 2 columns]"
      ]
     },
     "execution_count": 125,
     "metadata": {},
     "output_type": "execute_result"
    }
   ],
   "source": [
    "gu_importances = np.mean(gu_attr, axis=0)\n",
    "gu_importance_df = pd.DataFrame({'feature': feature_names, 'gu_importance': gu_importances})\n",
    "gu_importance_df = gu_importance_df.sort_values(by='gu_importance', ascending=False)\n",
    "gu_importance_df"
   ]
  },
  {
   "cell_type": "code",
   "execution_count": null,
   "metadata": {},
   "outputs": [],
   "source": [
    "importances = nn3_importance_df.merge(gu_importance_df, on='feature')\n",
    "importances.to_csv('/home/ge65cuw/thesis/saved/final_results/integrated_gradients.csv')\n"
   ]
  },
  {
   "cell_type": "code",
   "execution_count": null,
   "metadata": {},
   "outputs": [],
   "source": [
    "import pandas as pd\n",
    "pd.read_csv('/home/ge65cuw/thesis/saved/final_results/integrated_gradients.csv', index_col=0)\n",
    "pd.set_option('display.float_format', '{:.2E}'.format)\n",
    "importances = importances.sort_values(by='feature')\n",
    "# importances\n",
    "print(importances.style.hide(axis=\"index\").to_latex())"
   ]
  },
  {
   "cell_type": "code",
   "execution_count": null,
   "metadata": {},
   "outputs": [
    {
     "name": "stdout",
     "output_type": "stream",
     "text": [
      "\\begin{tabular}{lrr}\n",
      "feature & nn3_importance & gu_importance \\\\\n",
      "AM & 0.030617 & 0.005569 \\\\\n",
      "Accruals & -0.001077 & 0.002260 \\\\\n",
      "AccrualsBM & -0.000363 & 0.000048 \\\\\n",
      "Activism1 & 0.000000 & 0.000000 \\\\\n",
      "AnnouncementReturn & 0.009768 & 0.002182 \\\\\n",
      "AssetGrowth & 0.000129 & 0.000234 \\\\\n",
      "BMdec & 0.006514 & 0.006373 \\\\\n",
      "BPEBM & 0.003858 & -0.001114 \\\\\n",
      "BetaLiquidityPS & 0.000000 & 0.000000 \\\\\n",
      "BetaTailRisk & 0.004317 & 0.002853 \\\\\n",
      "BookLeverage & 0.004632 & 0.001573 \\\\\n",
      "CBOperProf & 0.002299 & -0.000569 \\\\\n",
      "CF & 0.002392 & 0.001026 \\\\\n",
      "Cash & -0.003502 & 0.003507 \\\\\n",
      "CashProd & -0.001010 & 0.002320 \\\\\n",
      "ChAssetTurnover & 0.000509 & -0.000460 \\\\\n",
      "ChEQ & -0.000937 & 0.000079 \\\\\n",
      "ChForecastAccrual & 0.014017 & 0.001866 \\\\\n",
      "ChInv & 0.001035 & -0.004103 \\\\\n",
      "ChInvIA & 0.000664 & 0.000769 \\\\\n",
      "ChNAnalyst & 0.000000 & 0.000000 \\\\\n",
      "ChNNCOA & 0.000208 & 0.000408 \\\\\n",
      "ChNWC & -0.000421 & 0.001185 \\\\\n",
      "ChTax & -0.002106 & -0.002090 \\\\\n",
      "CompEquIss & -0.002247 & 0.000507 \\\\\n",
      "CompositeDebtIssuance & 0.000447 & -0.001035 \\\\\n",
      "ConvDebt & 0.004681 & -0.000738 \\\\\n",
      "CoskewACX & 0.002168 & -0.000407 \\\\\n",
      "CustomerMomentum & 0.000000 & 0.000000 \\\\\n",
      "DelBreadth & 0.000000 & 0.000000 \\\\\n",
      "DelCOA & 0.002344 & 0.000136 \\\\\n",
      "DelCOL & -0.000083 & -0.000829 \\\\\n",
      "DelEqu & 0.000609 & -0.000104 \\\\\n",
      "DelFINL & 0.001489 & -0.000925 \\\\\n",
      "DelLTI & -0.000894 & 0.003752 \\\\\n",
      "DelNetFin & -0.002156 & -0.000334 \\\\\n",
      "DivSeason & 0.018426 & 0.002567 \\\\\n",
      "DolVol & 0.000761 & 0.000788 \\\\\n",
      "EBM & -0.000778 & 0.001133 \\\\\n",
      "EP & 0.000725 & -0.001012 \\\\\n",
      "EarnSupBig & -0.003295 & 0.000622 \\\\\n",
      "EarningsStreak & 0.013251 & -0.000644 \\\\\n",
      "EntMult & -0.001534 & -0.001832 \\\\\n",
      "EquityDuration & -0.001754 & 0.000361 \\\\\n",
      "ExclExp & 0.000042 & -0.001034 \\\\\n",
      "FEPS & 0.014324 & 0.001788 \\\\\n",
      "FirmAgeMom & -0.000001 & 0.000000 \\\\\n",
      "ForecastDispersion & 0.006473 & -0.003999 \\\\\n",
      "Frontier & 0.000474 & 0.003150 \\\\\n",
      "GP & 0.004839 & -0.000812 \\\\\n",
      "Governance & 0.000000 & 0.000000 \\\\\n",
      "GrAdExp & 0.000694 & 0.000620 \\\\\n",
      "Herf & -0.000152 & 0.001629 \\\\\n",
      "HerfBE & 0.002541 & 0.001934 \\\\\n",
      "IdioRisk & -0.004787 & -0.001384 \\\\\n",
      "IdioVol3F & -0.008109 & 0.000037 \\\\\n",
      "IdioVolAHT & -0.009937 & -0.006322 \\\\\n",
      "Illiquidity & 0.001931 & 0.002676 \\\\\n",
      "IndMom & 0.003472 & 0.001911 \\\\\n",
      "IndRetBig & -0.005858 & 0.000288 \\\\\n",
      "IntMom & -0.003589 & -0.001792 \\\\\n",
      "IntanBM & 0.005533 & -0.002671 \\\\\n",
      "IntanCFP & -0.000363 & -0.000547 \\\\\n",
      "InvGrowth & -0.000811 & -0.000242 \\\\\n",
      "InvestPPEInv & 0.002397 & -0.000439 \\\\\n",
      "Investment & -0.000673 & -0.000713 \\\\\n",
      "LRreversal & -0.001074 & -0.000741 \\\\\n",
      "MaxRet & -0.004246 & -0.004339 \\\\\n",
      "Mom12m & 0.002141 & 0.004424 \\\\\n",
      "Mom12mOffSeason & -0.002282 & -0.000630 \\\\\n",
      "Mom6m & -0.003582 & 0.002914 \\\\\n",
      "Mom6mJunk & 0.000000 & 0.000000 \\\\\n",
      "MomOffSeason & 0.001607 & -0.001094 \\\\\n",
      "MomOffSeason06YrPlus & -0.001877 & -0.001513 \\\\\n",
      "MomOffSeason16YrPlus & 0.000143 & -0.002135 \\\\\n",
      "MomRev & 0.000394 & -0.000956 \\\\\n",
      "MomSeason & 0.005180 & -0.000672 \\\\\n",
      "MomSeason06YrPlus & 0.002343 & -0.000911 \\\\\n",
      "MomSeason11YrPlus & 0.001580 & 0.000714 \\\\\n",
      "MomSeason16YrPlus & 0.001532 & -0.001959 \\\\\n",
      "MomSeasonShort & -0.001365 & 0.000613 \\\\\n",
      "MomVol & -0.002165 & -0.000279 \\\\\n",
      "NOA & 0.000475 & -0.001144 \\\\\n",
      "NetDebtFinance & -0.002020 & -0.000342 \\\\\n",
      "NetDebtPrice & 0.001809 & -0.001909 \\\\\n",
      "NetEquityFinance & 0.001100 & 0.000349 \\\\\n",
      "OPLeverage & 0.003552 & 0.003810 \\\\\n",
      "OScore & -0.010308 & -0.000828 \\\\\n",
      "OrderBacklog & -0.000007 & 0.000638 \\\\\n",
      "OrgCap & -0.000814 & 0.002035 \\\\\n",
      "PctAcc & -0.002002 & -0.001602 \\\\\n",
      "PctTotAcc & -0.001761 & 0.000915 \\\\\n",
      "Price & -0.004949 & -0.002587 \\\\\n",
      "PriceDelayRsq & 0.000253 & -0.002463 \\\\\n",
      "RD & 0.001461 & -0.000851 \\\\\n",
      "RDAbility & -0.001325 & 0.000397 \\\\\n",
      "RDIPO & -0.004854 & 0.001051 \\\\\n",
      "RDS & -0.000866 & -0.001082 \\\\\n",
      "RDcap & -0.000023 & -0.000116 \\\\\n",
      "REV6 & -0.003184 & -0.001748 \\\\\n",
      "RIO_Disp & 0.000520 & 0.002952 \\\\\n",
      "RIO_MB & 0.000821 & 0.000135 \\\\\n",
      "RIO_Turnover & 0.003821 & 0.000036 \\\\\n",
      "RIO_Volatility & -0.000661 & -0.001382 \\\\\n",
      "ResidualMomentum & -0.002354 & -0.001399 \\\\\n",
      "ReturnSkew & -0.000171 & -0.001104 \\\\\n",
      "ReturnSkew3F & 0.002367 & 0.000037 \\\\\n",
      "STreversal & 0.009694 & 0.005011 \\\\\n",
      "ShareIss1Y & 0.001933 & 0.001207 \\\\\n",
      "ShareVol & -0.000674 & -0.000077 \\\\\n",
      "Size & -0.002788 & 0.000678 \\\\\n",
      "SmileSlope & 0.000000 & 0.000000 \\\\\n",
      "SurpriseRD & 0.013724 & 0.001514 \\\\\n",
      "Tax & -0.000096 & 0.001636 \\\\\n",
      "TotalAccruals & 0.001491 & 0.001348 \\\\\n",
      "TrendFactor & 0.016033 & 0.004018 \\\\\n",
      "VolSD & -0.004517 & 0.001360 \\\\\n",
      "XFIN & -0.002592 & -0.000907 \\\\\n",
      "betaVIX & 0.001312 & 0.001248 \\\\\n",
      "cfp & -0.000184 & 0.001388 \\\\\n",
      "dNoa & 0.000991 & -0.001128 \\\\\n",
      "fgr5yrLag & 0.007982 & 0.001512 \\\\\n",
      "grcapx & -0.001697 & -0.000756 \\\\\n",
      "grcapx3y & -0.001534 & -0.000854 \\\\\n",
      "hire & -0.000084 & -0.001817 \\\\\n",
      "retConglomerate & 0.000000 & 0.000000 \\\\\n",
      "roaq & 0.014653 & 0.001835 \\\\\n",
      "std_turn & 0.001671 & 0.001727 \\\\\n",
      "tang & 0.002250 & 0.000335 \\\\\n",
      "zerotrade & -0.001913 & 0.001788 \\\\\n",
      "zerotradeAlt1 & -0.003835 & -0.006100 \\\\\n",
      "zerotradeAlt12 & 0.006497 & 0.001900 \\\\\n",
      "\\end{tabular}\n",
      "\n"
     ]
    }
   ],
   "source": [
    "print(importances.style.hide(axis=\"index\").to_latex())"
   ]
  },
  {
   "cell_type": "markdown",
   "metadata": {},
   "source": [
    "## Integrated Gradients - Noise Tunnel"
   ]
  },
  {
   "cell_type": "code",
   "execution_count": null,
   "metadata": {},
   "outputs": [],
   "source": [
    "# attr = ig_nt_attr_test.to('cpu').detach().numpy()\n",
    "# visualize_importances(feature_names, np.mean(attr, axis=0), path, color_index=3)"
   ]
  },
  {
   "cell_type": "markdown",
   "metadata": {},
   "source": [
    "## Gradient Shap"
   ]
  },
  {
   "cell_type": "code",
   "execution_count": null,
   "metadata": {},
   "outputs": [],
   "source": [
    "# attr = gs_attr_gu_test.to('cpu').detach().numpy()\n",
    "# visualize_importances(feature_names, np.mean(attr, axis=0), path, color_index=3)"
   ]
  },
  {
   "cell_type": "markdown",
   "metadata": {},
   "source": [
    "## Feature Ablation"
   ]
  },
  {
   "cell_type": "code",
   "execution_count": null,
   "metadata": {},
   "outputs": [],
   "source": [
    "# attr = fa_attr_test.to('cpu').detach().numpy()\n",
    "# visualize_importances(feature_names, np.mean(attr, axis=0), path, color_index=3)"
   ]
  }
 ],
 "metadata": {
  "kernelspec": {
   "display_name": "Python 3.10.4 ('thesis')",
   "language": "python",
   "name": "python3"
  },
  "language_info": {
   "codemirror_mode": {
    "name": "ipython",
    "version": 3
   },
   "file_extension": ".py",
   "mimetype": "text/x-python",
   "name": "python",
   "nbconvert_exporter": "python",
   "pygments_lexer": "ipython3",
   "version": "3.10.4"
  },
  "orig_nbformat": 4,
  "vscode": {
   "interpreter": {
    "hash": "b4804d781847468e0794096453e716a44bf82c4d93fcc1a726a520e37d704781"
   }
  }
 },
 "nbformat": 4,
 "nbformat_minor": 2
}
